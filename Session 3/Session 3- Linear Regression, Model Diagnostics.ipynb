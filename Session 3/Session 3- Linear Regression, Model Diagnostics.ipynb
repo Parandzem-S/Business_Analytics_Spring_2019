{
 "cells": [
  {
   "cell_type": "markdown",
   "metadata": {},
   "source": [
    "<h1>Linear Regression-Customer Lifetime Value</h1>\n",
    "<p>This notebook provides an example code of analyzing <b>Customer lifetime value</b> using linear regression. The dependent variable which we will use in OLS model is Customer lifetime value. We would like to understand the realtionship between CLV and other variables in the dataset.\n",
    "    \n",
    "The general sequence of steps that we will follow is the following:\n",
    "<ol>\n",
    "<li>Describing the data (checking for NAs, outliers,summary statistics of our variables, etc)\n",
    "<li>Checking for correlations between the variables, and drop one of correlated variables \n",
    "<li>Visualize the relationship between dependent variable (CLV) and some of variables which are highly correlated to consumer CLV\n",
    "<li>Run OLS using statsmodel package\n",
    "<li>Get summary of the model\n",
    "<li>Interpret the results\n",
    "<li>Do Model diagnostics\n",
    "</ol>\n",
    "</p>"
   ]
  },
  {
   "cell_type": "code",
   "execution_count": 63,
   "metadata": {},
   "outputs": [],
   "source": [
    "import pandas as pd\n",
    "import matplotlib.pyplot as plt\n",
    "import numpy as np\n",
    "from statsmodels.api import qqplot\n",
    "from statsmodels.stats.diagnostic import het_breuschpagan #for Breusch-Pagan test test\n",
    "from statsmodels.formula.api import ols #for linear regression\n",
    "import seaborn as sns #for heatmap\n",
    "from scipy import stats\n",
    "from statsmodels.stats.diagnostic import linear_rainbow #linearity test\n",
    "from scipy.stats import shapiro #for checking normality\n",
    "from statsmodels.stats.outliers_influence import variance_inflation_factor #for checking Multicolinearity"
   ]
  },
  {
   "cell_type": "markdown",
   "metadata": {},
   "source": [
    "# Description of Data"
   ]
  },
  {
   "cell_type": "code",
   "execution_count": 5,
   "metadata": {},
   "outputs": [],
   "source": [
    "#read the data\n",
    "data=pd.read_excel(\"CLV.xlsx\")"
   ]
  },
  {
   "cell_type": "code",
   "execution_count": 6,
   "metadata": {},
   "outputs": [
    {
     "data": {
      "text/html": [
       "<div>\n",
       "<style scoped>\n",
       "    .dataframe tbody tr th:only-of-type {\n",
       "        vertical-align: middle;\n",
       "    }\n",
       "\n",
       "    .dataframe tbody tr th {\n",
       "        vertical-align: top;\n",
       "    }\n",
       "\n",
       "    .dataframe thead th {\n",
       "        text-align: right;\n",
       "    }\n",
       "</style>\n",
       "<table border=\"1\" class=\"dataframe\">\n",
       "  <thead>\n",
       "    <tr style=\"text-align: right;\">\n",
       "      <th></th>\n",
       "      <th>Customer</th>\n",
       "      <th>State</th>\n",
       "      <th>Customer_Lifetime_Value</th>\n",
       "      <th>Response</th>\n",
       "      <th>Coverage</th>\n",
       "      <th>Education</th>\n",
       "      <th>Effective_To_Date</th>\n",
       "      <th>EmploymentStatus</th>\n",
       "      <th>Gender</th>\n",
       "      <th>Income</th>\n",
       "      <th>...</th>\n",
       "      <th>Months_Since_Policy_Inception</th>\n",
       "      <th>Number_of_Open_Complaints</th>\n",
       "      <th>Number_of_Policies</th>\n",
       "      <th>Policy_Type</th>\n",
       "      <th>Policy</th>\n",
       "      <th>Renew_Offer_Type</th>\n",
       "      <th>Sales_Channel</th>\n",
       "      <th>Total_Claim_Amount</th>\n",
       "      <th>Vehicle_Class</th>\n",
       "      <th>Vehicle_Size</th>\n",
       "    </tr>\n",
       "  </thead>\n",
       "  <tbody>\n",
       "    <tr>\n",
       "      <th>0</th>\n",
       "      <td>BU79786</td>\n",
       "      <td>Washington</td>\n",
       "      <td>2763.519279</td>\n",
       "      <td>No</td>\n",
       "      <td>Basic</td>\n",
       "      <td>Bachelor</td>\n",
       "      <td>2011-02-24</td>\n",
       "      <td>Employed</td>\n",
       "      <td>F</td>\n",
       "      <td>56274.0</td>\n",
       "      <td>...</td>\n",
       "      <td>5.0</td>\n",
       "      <td>0</td>\n",
       "      <td>1</td>\n",
       "      <td>Corporate Auto</td>\n",
       "      <td>Corporate L3</td>\n",
       "      <td>Offer1</td>\n",
       "      <td>Agent</td>\n",
       "      <td>384.811147</td>\n",
       "      <td>Two-Door Car</td>\n",
       "      <td>Medsize</td>\n",
       "    </tr>\n",
       "    <tr>\n",
       "      <th>1</th>\n",
       "      <td>QZ44356</td>\n",
       "      <td>Arizona</td>\n",
       "      <td>6979.535903</td>\n",
       "      <td>No</td>\n",
       "      <td>Extended</td>\n",
       "      <td>Bachelor</td>\n",
       "      <td>2011-01-31</td>\n",
       "      <td>Unemployed</td>\n",
       "      <td>F</td>\n",
       "      <td>0.0</td>\n",
       "      <td>...</td>\n",
       "      <td>42.0</td>\n",
       "      <td>0</td>\n",
       "      <td>8</td>\n",
       "      <td>Personal Auto</td>\n",
       "      <td>Personal L3</td>\n",
       "      <td>Offer3</td>\n",
       "      <td>Agent</td>\n",
       "      <td>1131.464935</td>\n",
       "      <td>Four-Door Car</td>\n",
       "      <td>Medsize</td>\n",
       "    </tr>\n",
       "    <tr>\n",
       "      <th>2</th>\n",
       "      <td>AI49188</td>\n",
       "      <td>Nevada</td>\n",
       "      <td>12887.431650</td>\n",
       "      <td>No</td>\n",
       "      <td>Premium</td>\n",
       "      <td>Bachelor</td>\n",
       "      <td>2011-02-19</td>\n",
       "      <td>Employed</td>\n",
       "      <td>F</td>\n",
       "      <td>NaN</td>\n",
       "      <td>...</td>\n",
       "      <td>38.0</td>\n",
       "      <td>0</td>\n",
       "      <td>2</td>\n",
       "      <td>Personal Auto</td>\n",
       "      <td>Personal L3</td>\n",
       "      <td>Offer1</td>\n",
       "      <td>Agent</td>\n",
       "      <td>566.472247</td>\n",
       "      <td>Two-Door Car</td>\n",
       "      <td>Medsize</td>\n",
       "    </tr>\n",
       "    <tr>\n",
       "      <th>3</th>\n",
       "      <td>WW63253</td>\n",
       "      <td>California</td>\n",
       "      <td>7645.861827</td>\n",
       "      <td>No</td>\n",
       "      <td>Basic</td>\n",
       "      <td>Bachelor</td>\n",
       "      <td>2011-01-20</td>\n",
       "      <td>Unemployed</td>\n",
       "      <td>M</td>\n",
       "      <td>0.0</td>\n",
       "      <td>...</td>\n",
       "      <td>65.0</td>\n",
       "      <td>0</td>\n",
       "      <td>7</td>\n",
       "      <td>Corporate Auto</td>\n",
       "      <td>Corporate L2</td>\n",
       "      <td>Offer1</td>\n",
       "      <td>Call Center</td>\n",
       "      <td>529.881344</td>\n",
       "      <td>SUV</td>\n",
       "      <td>Medsize</td>\n",
       "    </tr>\n",
       "    <tr>\n",
       "      <th>4</th>\n",
       "      <td>HB64268</td>\n",
       "      <td>Washington</td>\n",
       "      <td>2813.692575</td>\n",
       "      <td>No</td>\n",
       "      <td>Basic</td>\n",
       "      <td>Bachelor</td>\n",
       "      <td>2011-02-03</td>\n",
       "      <td>Employed</td>\n",
       "      <td>M</td>\n",
       "      <td>43836.0</td>\n",
       "      <td>...</td>\n",
       "      <td>44.0</td>\n",
       "      <td>0</td>\n",
       "      <td>1</td>\n",
       "      <td>Personal Auto</td>\n",
       "      <td>Personal L1</td>\n",
       "      <td>Offer1</td>\n",
       "      <td>Agent</td>\n",
       "      <td>138.130879</td>\n",
       "      <td>Four-Door Car</td>\n",
       "      <td>Medsize</td>\n",
       "    </tr>\n",
       "  </tbody>\n",
       "</table>\n",
       "<p>5 rows × 24 columns</p>\n",
       "</div>"
      ],
      "text/plain": [
       "  Customer       State  Customer_Lifetime_Value Response  Coverage Education  \\\n",
       "0  BU79786  Washington              2763.519279       No     Basic  Bachelor   \n",
       "1  QZ44356     Arizona              6979.535903       No  Extended  Bachelor   \n",
       "2  AI49188      Nevada             12887.431650       No   Premium  Bachelor   \n",
       "3  WW63253  California              7645.861827       No     Basic  Bachelor   \n",
       "4  HB64268  Washington              2813.692575       No     Basic  Bachelor   \n",
       "\n",
       "  Effective_To_Date EmploymentStatus Gender   Income     ...       \\\n",
       "0        2011-02-24         Employed      F  56274.0     ...        \n",
       "1        2011-01-31       Unemployed      F      0.0     ...        \n",
       "2        2011-02-19         Employed      F      NaN     ...        \n",
       "3        2011-01-20       Unemployed      M      0.0     ...        \n",
       "4        2011-02-03         Employed      M  43836.0     ...        \n",
       "\n",
       "  Months_Since_Policy_Inception Number_of_Open_Complaints  Number_of_Policies  \\\n",
       "0                           5.0                         0                   1   \n",
       "1                          42.0                         0                   8   \n",
       "2                          38.0                         0                   2   \n",
       "3                          65.0                         0                   7   \n",
       "4                          44.0                         0                   1   \n",
       "\n",
       "      Policy_Type        Policy  Renew_Offer_Type  Sales_Channel  \\\n",
       "0  Corporate Auto  Corporate L3            Offer1          Agent   \n",
       "1   Personal Auto   Personal L3            Offer3          Agent   \n",
       "2   Personal Auto   Personal L3            Offer1          Agent   \n",
       "3  Corporate Auto  Corporate L2            Offer1    Call Center   \n",
       "4   Personal Auto   Personal L1            Offer1          Agent   \n",
       "\n",
       "  Total_Claim_Amount  Vehicle_Class Vehicle_Size  \n",
       "0         384.811147   Two-Door Car      Medsize  \n",
       "1        1131.464935  Four-Door Car      Medsize  \n",
       "2         566.472247   Two-Door Car      Medsize  \n",
       "3         529.881344            SUV      Medsize  \n",
       "4         138.130879  Four-Door Car      Medsize  \n",
       "\n",
       "[5 rows x 24 columns]"
      ]
     },
     "execution_count": 6,
     "metadata": {},
     "output_type": "execute_result"
    }
   ],
   "source": [
    "#lets see how the data looks \n",
    "data.head()"
   ]
  },
  {
   "cell_type": "code",
   "execution_count": 55,
   "metadata": {
    "scrolled": true
   },
   "outputs": [
    {
     "data": {
      "text/plain": [
       "False"
      ]
     },
     "execution_count": 55,
     "metadata": {},
     "output_type": "execute_result"
    }
   ],
   "source": [
    "#let's check for NA's\n",
    "data.isnull().values.any()"
   ]
  },
  {
   "cell_type": "code",
   "execution_count": 8,
   "metadata": {},
   "outputs": [
    {
     "data": {
      "text/plain": [
       "Customer                         0\n",
       "State                            0\n",
       "Customer_Lifetime_Value          0\n",
       "Response                         0\n",
       "Coverage                         0\n",
       "Education                        0\n",
       "Effective_To_Date                0\n",
       "EmploymentStatus                 0\n",
       "Gender                           0\n",
       "Income                           1\n",
       "Location_Code                    0\n",
       "Marital_Status                   0\n",
       "Monthly_Premium_Auto             0\n",
       "Months_Since_Last_Claim          0\n",
       "Months_Since_Policy_Inception    1\n",
       "Number_of_Open_Complaints        0\n",
       "Number_of_Policies               0\n",
       "Policy_Type                      0\n",
       "Policy                           0\n",
       "Renew_Offer_Type                 0\n",
       "Sales_Channel                    1\n",
       "Total_Claim_Amount               0\n",
       "Vehicle_Class                    0\n",
       "Vehicle_Size                     0\n",
       "dtype: int64"
      ]
     },
     "execution_count": 8,
     "metadata": {},
     "output_type": "execute_result"
    }
   ],
   "source": [
    "#to see which variables have missing values\n",
    "data.isnull().sum()"
   ]
  },
  {
   "cell_type": "code",
   "execution_count": 9,
   "metadata": {
    "scrolled": false
   },
   "outputs": [
    {
     "name": "stdout",
     "output_type": "stream",
     "text": [
      "<class 'pandas.core.frame.DataFrame'>\n",
      "RangeIndex: 9134 entries, 0 to 9133\n",
      "Data columns (total 24 columns):\n",
      "Customer                         9134 non-null object\n",
      "State                            9134 non-null object\n",
      "Customer_Lifetime_Value          9134 non-null float64\n",
      "Response                         9134 non-null object\n",
      "Coverage                         9134 non-null object\n",
      "Education                        9134 non-null object\n",
      "Effective_To_Date                9134 non-null datetime64[ns]\n",
      "EmploymentStatus                 9134 non-null object\n",
      "Gender                           9134 non-null object\n",
      "Income                           9133 non-null float64\n",
      "Location_Code                    9134 non-null object\n",
      "Marital_Status                   9134 non-null object\n",
      "Monthly_Premium_Auto             9134 non-null int64\n",
      "Months_Since_Last_Claim          9134 non-null int64\n",
      "Months_Since_Policy_Inception    9133 non-null float64\n",
      "Number_of_Open_Complaints        9134 non-null int64\n",
      "Number_of_Policies               9134 non-null int64\n",
      "Policy_Type                      9134 non-null object\n",
      "Policy                           9134 non-null object\n",
      "Renew_Offer_Type                 9134 non-null object\n",
      "Sales_Channel                    9133 non-null object\n",
      "Total_Claim_Amount               9134 non-null float64\n",
      "Vehicle_Class                    9134 non-null object\n",
      "Vehicle_Size                     9134 non-null object\n",
      "dtypes: datetime64[ns](1), float64(4), int64(4), object(15)\n",
      "memory usage: 1.7+ MB\n"
     ]
    }
   ],
   "source": [
    "#another way of checking for NAs\n",
    "#alo provides info about all the variables and the types of them\n",
    "data.info()"
   ]
  },
  {
   "cell_type": "code",
   "execution_count": 11,
   "metadata": {},
   "outputs": [],
   "source": [
    "#let's drop NAs\n",
    "data.dropna(inplace=True)"
   ]
  },
  {
   "cell_type": "code",
   "execution_count": 10,
   "metadata": {},
   "outputs": [],
   "source": [
    "data.drop(\"Effective_To_Date\",\n",
    "          axis=1, #=0 if you wnat to dorp row, and =1 if you drop column\n",
    "          inplace=True) #use this to save changes in the data"
   ]
  },
  {
   "cell_type": "code",
   "execution_count": 12,
   "metadata": {},
   "outputs": [
    {
     "data": {
      "text/html": [
       "<div>\n",
       "<style scoped>\n",
       "    .dataframe tbody tr th:only-of-type {\n",
       "        vertical-align: middle;\n",
       "    }\n",
       "\n",
       "    .dataframe tbody tr th {\n",
       "        vertical-align: top;\n",
       "    }\n",
       "\n",
       "    .dataframe thead th {\n",
       "        text-align: right;\n",
       "    }\n",
       "</style>\n",
       "<table border=\"1\" class=\"dataframe\">\n",
       "  <thead>\n",
       "    <tr style=\"text-align: right;\">\n",
       "      <th></th>\n",
       "      <th>Customer_Lifetime_Value</th>\n",
       "      <th>Income</th>\n",
       "      <th>Monthly_Premium_Auto</th>\n",
       "      <th>Months_Since_Last_Claim</th>\n",
       "      <th>Months_Since_Policy_Inception</th>\n",
       "      <th>Number_of_Open_Complaints</th>\n",
       "      <th>Number_of_Policies</th>\n",
       "      <th>Total_Claim_Amount</th>\n",
       "    </tr>\n",
       "  </thead>\n",
       "  <tbody>\n",
       "    <tr>\n",
       "      <th>count</th>\n",
       "      <td>9131.000000</td>\n",
       "      <td>9131.000000</td>\n",
       "      <td>9131.000000</td>\n",
       "      <td>9131.000000</td>\n",
       "      <td>9131.000000</td>\n",
       "      <td>9131.000000</td>\n",
       "      <td>9131.000000</td>\n",
       "      <td>9131.000000</td>\n",
       "    </tr>\n",
       "    <tr>\n",
       "      <th>mean</th>\n",
       "      <td>8002.927441</td>\n",
       "      <td>37656.808674</td>\n",
       "      <td>93.222977</td>\n",
       "      <td>15.098565</td>\n",
       "      <td>48.074472</td>\n",
       "      <td>0.384514</td>\n",
       "      <td>2.965721</td>\n",
       "      <td>434.078171</td>\n",
       "    </tr>\n",
       "    <tr>\n",
       "      <th>std</th>\n",
       "      <td>6869.779372</td>\n",
       "      <td>30383.106245</td>\n",
       "      <td>34.411392</td>\n",
       "      <td>10.073603</td>\n",
       "      <td>27.903977</td>\n",
       "      <td>0.910506</td>\n",
       "      <td>2.389697</td>\n",
       "      <td>290.541006</td>\n",
       "    </tr>\n",
       "    <tr>\n",
       "      <th>min</th>\n",
       "      <td>1898.007675</td>\n",
       "      <td>0.000000</td>\n",
       "      <td>61.000000</td>\n",
       "      <td>0.000000</td>\n",
       "      <td>0.000000</td>\n",
       "      <td>0.000000</td>\n",
       "      <td>1.000000</td>\n",
       "      <td>0.099007</td>\n",
       "    </tr>\n",
       "    <tr>\n",
       "      <th>25%</th>\n",
       "      <td>3993.233440</td>\n",
       "      <td>0.000000</td>\n",
       "      <td>68.000000</td>\n",
       "      <td>6.000000</td>\n",
       "      <td>24.000000</td>\n",
       "      <td>0.000000</td>\n",
       "      <td>1.000000</td>\n",
       "      <td>272.206202</td>\n",
       "    </tr>\n",
       "    <tr>\n",
       "      <th>50%</th>\n",
       "      <td>5780.182197</td>\n",
       "      <td>33882.000000</td>\n",
       "      <td>83.000000</td>\n",
       "      <td>14.000000</td>\n",
       "      <td>48.000000</td>\n",
       "      <td>0.000000</td>\n",
       "      <td>2.000000</td>\n",
       "      <td>383.890867</td>\n",
       "    </tr>\n",
       "    <tr>\n",
       "      <th>75%</th>\n",
       "      <td>8957.560165</td>\n",
       "      <td>62332.000000</td>\n",
       "      <td>109.000000</td>\n",
       "      <td>23.000000</td>\n",
       "      <td>71.000000</td>\n",
       "      <td>0.000000</td>\n",
       "      <td>4.000000</td>\n",
       "      <td>547.409893</td>\n",
       "    </tr>\n",
       "    <tr>\n",
       "      <th>max</th>\n",
       "      <td>83325.381190</td>\n",
       "      <td>99981.000000</td>\n",
       "      <td>298.000000</td>\n",
       "      <td>35.000000</td>\n",
       "      <td>99.000000</td>\n",
       "      <td>5.000000</td>\n",
       "      <td>9.000000</td>\n",
       "      <td>2893.239678</td>\n",
       "    </tr>\n",
       "  </tbody>\n",
       "</table>\n",
       "</div>"
      ],
      "text/plain": [
       "       Customer_Lifetime_Value        Income  Monthly_Premium_Auto  \\\n",
       "count              9131.000000   9131.000000           9131.000000   \n",
       "mean               8002.927441  37656.808674             93.222977   \n",
       "std                6869.779372  30383.106245             34.411392   \n",
       "min                1898.007675      0.000000             61.000000   \n",
       "25%                3993.233440      0.000000             68.000000   \n",
       "50%                5780.182197  33882.000000             83.000000   \n",
       "75%                8957.560165  62332.000000            109.000000   \n",
       "max               83325.381190  99981.000000            298.000000   \n",
       "\n",
       "       Months_Since_Last_Claim  Months_Since_Policy_Inception  \\\n",
       "count              9131.000000                    9131.000000   \n",
       "mean                 15.098565                      48.074472   \n",
       "std                  10.073603                      27.903977   \n",
       "min                   0.000000                       0.000000   \n",
       "25%                   6.000000                      24.000000   \n",
       "50%                  14.000000                      48.000000   \n",
       "75%                  23.000000                      71.000000   \n",
       "max                  35.000000                      99.000000   \n",
       "\n",
       "       Number_of_Open_Complaints  Number_of_Policies  Total_Claim_Amount  \n",
       "count                9131.000000         9131.000000         9131.000000  \n",
       "mean                    0.384514            2.965721          434.078171  \n",
       "std                     0.910506            2.389697          290.541006  \n",
       "min                     0.000000            1.000000            0.099007  \n",
       "25%                     0.000000            1.000000          272.206202  \n",
       "50%                     0.000000            2.000000          383.890867  \n",
       "75%                     0.000000            4.000000          547.409893  \n",
       "max                     5.000000            9.000000         2893.239678  "
      ]
     },
     "execution_count": 12,
     "metadata": {},
     "output_type": "execute_result"
    }
   ],
   "source": [
    "#Getting summary statistics of numeric variables\n",
    "data.describe()"
   ]
  },
  {
   "cell_type": "code",
   "execution_count": 13,
   "metadata": {},
   "outputs": [],
   "source": [
    "#let's separate numeric and object variables\n",
    "data_numeric = data.select_dtypes(exclude=[\"object\"])\n",
    "data_object = data.select_dtypes(include=[\"object\"])"
   ]
  },
  {
   "cell_type": "code",
   "execution_count": 14,
   "metadata": {
    "scrolled": false
   },
   "outputs": [
    {
     "name": "stdout",
     "output_type": "stream",
     "text": [
      "Customer \n",
      " AI58500    1\n",
      "PD79570    1\n",
      "XQ28930    1\n",
      "ED63600    1\n",
      "MB63131    1\n",
      "XR82418    1\n",
      "VO87159    1\n",
      "MD47500    1\n",
      "WO59883    1\n",
      "RC72799    1\n",
      "UO98052    1\n",
      "ZN27753    1\n",
      "SG66076    1\n",
      "UH79890    1\n",
      "SZ37147    1\n",
      "XS17260    1\n",
      "JD81426    1\n",
      "ZV99487    1\n",
      "YQ74870    1\n",
      "YG11074    1\n",
      "CO71128    1\n",
      "FM52759    1\n",
      "RU83859    1\n",
      "YE12395    1\n",
      "ZB82406    1\n",
      "QW21716    1\n",
      "IK64989    1\n",
      "FP66891    1\n",
      "SA50567    1\n",
      "XC77244    1\n",
      "          ..\n",
      "GP40701    1\n",
      "KF46546    1\n",
      "IN15077    1\n",
      "KL58949    1\n",
      "PQ19113    1\n",
      "HF75891    1\n",
      "ND87457    1\n",
      "KR25511    1\n",
      "VO78441    1\n",
      "BJ22117    1\n",
      "AM52614    1\n",
      "YB58778    1\n",
      "SJ71233    1\n",
      "WC21120    1\n",
      "LJ88616    1\n",
      "SH55671    1\n",
      "ZS35830    1\n",
      "BA17836    1\n",
      "XI41052    1\n",
      "DU50092    1\n",
      "FF31523    1\n",
      "LS51818    1\n",
      "FQ93665    1\n",
      "HX72126    1\n",
      "EM78211    1\n",
      "XA54112    1\n",
      "UJ38473    1\n",
      "EN89709    1\n",
      "TY59231    1\n",
      "CM94425    1\n",
      "Name: Customer, Length: 9131, dtype: int64 \n",
      " \n",
      "\n",
      "--------------------\n",
      "State \n",
      " California    3150\n",
      "Oregon        2600\n",
      "Arizona       1702\n",
      "Nevada         881\n",
      "Washington     798\n",
      "Name: State, dtype: int64 \n",
      " \n",
      "\n",
      "--------------------\n",
      "Response \n",
      " No     7825\n",
      "Yes    1306\n",
      "Name: Response, dtype: int64 \n",
      " \n",
      "\n",
      "--------------------\n",
      "Coverage \n",
      " Basic       5566\n",
      "Extended    2742\n",
      "Premium      823\n",
      "Name: Coverage, dtype: int64 \n",
      " \n",
      "\n",
      "--------------------\n",
      "Education \n",
      " Bachelor                2746\n",
      "College                 2680\n",
      "High School or Below    2622\n",
      "Master                   741\n",
      "Doctor                   342\n",
      "Name: Education, dtype: int64 \n",
      " \n",
      "\n",
      "--------------------\n",
      "EmploymentStatus \n",
      " Employed         5696\n",
      "Unemployed       2317\n",
      "Medical Leave     431\n",
      "Disabled          405\n",
      "Retired           282\n",
      "Name: EmploymentStatus, dtype: int64 \n",
      " \n",
      "\n",
      "--------------------\n",
      "Gender \n",
      " F    4656\n",
      "M    4475\n",
      "Name: Gender, dtype: int64 \n",
      " \n",
      "\n",
      "--------------------\n",
      "Location_Code \n",
      " Suburban    5776\n",
      "Rural       1773\n",
      "Urban       1582\n",
      "Name: Location_Code, dtype: int64 \n",
      " \n",
      "\n",
      "--------------------\n",
      "Marital_Status \n",
      " Married     5296\n",
      "Single      2467\n",
      "Divorced    1368\n",
      "Name: Marital_Status, dtype: int64 \n",
      " \n",
      "\n",
      "--------------------\n",
      "Policy_Type \n",
      " Personal Auto     6786\n",
      "Corporate Auto    1967\n",
      "Special Auto       378\n",
      "Name: Policy_Type, dtype: int64 \n",
      " \n",
      "\n",
      "--------------------\n",
      "Policy \n",
      " Personal L3     3424\n",
      "Personal L2     2122\n",
      "Personal L1     1240\n",
      "Corporate L3    1013\n",
      "Corporate L2     595\n",
      "Corporate L1     359\n",
      "Special L2       164\n",
      "Special L3       148\n",
      "Special L1        66\n",
      "Name: Policy, dtype: int64 \n",
      " \n",
      "\n",
      "--------------------\n",
      "Renew_Offer_Type \n",
      " Offer1    3749\n",
      "Offer2    2926\n",
      "Offer3    1432\n",
      "Offer4    1024\n",
      "Name: Renew_Offer_Type, dtype: int64 \n",
      " \n",
      "\n",
      "--------------------\n",
      "Sales_Channel \n",
      " Agent          3474\n",
      "Branch         2567\n",
      "Call Center    1765\n",
      "Web            1325\n",
      "Name: Sales_Channel, dtype: int64 \n",
      " \n",
      "\n",
      "--------------------\n",
      "Vehicle_Class \n",
      " Four-Door Car    4619\n",
      "Two-Door Car     1885\n",
      "SUV              1796\n",
      "Sports Car        484\n",
      "Luxury SUV        184\n",
      "Luxury Car        163\n",
      "Name: Vehicle_Class, dtype: int64 \n",
      " \n",
      "\n",
      "--------------------\n",
      "Vehicle_Size \n",
      " Medsize    6421\n",
      "Small      1764\n",
      "Large       946\n",
      "Name: Vehicle_Size, dtype: int64 \n",
      " \n",
      "\n",
      "--------------------\n"
     ]
    }
   ],
   "source": [
    "#let's see categories and number of observations in each category for object variables\n",
    "for i in data_object.columns:\n",
    "    j=data[i].value_counts()\n",
    "    print(i,\"\\n\",j,\"\\n\",\"\\n\")\n",
    "    print(\"--------------------\")"
   ]
  },
  {
   "cell_type": "markdown",
   "metadata": {},
   "source": [
    "We see from the object variables description that variable <b>Customer</b> is just Customer's IDs and provides <b>no meaningful</b> information, so let's drop it as well."
   ]
  },
  {
   "cell_type": "code",
   "execution_count": 15,
   "metadata": {},
   "outputs": [
    {
     "name": "stderr",
     "output_type": "stream",
     "text": [
      "C:\\Users\\HP\\Anaconda3\\lib\\site-packages\\pandas\\core\\frame.py:3694: SettingWithCopyWarning: \n",
      "A value is trying to be set on a copy of a slice from a DataFrame\n",
      "\n",
      "See the caveats in the documentation: http://pandas.pydata.org/pandas-docs/stable/indexing.html#indexing-view-versus-copy\n",
      "  errors=errors)\n"
     ]
    }
   ],
   "source": [
    "#dropping a column\n",
    "data_object.drop(\"Customer\",axis=1,inplace=True)"
   ]
  },
  {
   "cell_type": "code",
   "execution_count": 16,
   "metadata": {},
   "outputs": [
    {
     "data": {
      "text/plain": [
       "Customer_Lifetime_Value          False\n",
       "Income                           False\n",
       "Monthly_Premium_Auto             False\n",
       "Months_Since_Last_Claim          False\n",
       "Months_Since_Policy_Inception    False\n",
       "Number_of_Open_Complaints        False\n",
       "Number_of_Policies               False\n",
       "Total_Claim_Amount               False\n",
       "dtype: bool"
      ]
     },
     "execution_count": 16,
     "metadata": {},
     "output_type": "execute_result"
    }
   ],
   "source": [
    "#let's check variables with zero variance(i.e. we have same values for all observations), \n",
    "#if there is any we will not include in our further analysis\n",
    "data_numeric.var()==0"
   ]
  },
  {
   "cell_type": "code",
   "execution_count": 17,
   "metadata": {},
   "outputs": [
    {
     "data": {
      "text/html": [
       "<div>\n",
       "<style scoped>\n",
       "    .dataframe tbody tr th:only-of-type {\n",
       "        vertical-align: middle;\n",
       "    }\n",
       "\n",
       "    .dataframe tbody tr th {\n",
       "        vertical-align: top;\n",
       "    }\n",
       "\n",
       "    .dataframe thead th {\n",
       "        text-align: right;\n",
       "    }\n",
       "</style>\n",
       "<table border=\"1\" class=\"dataframe\">\n",
       "  <thead>\n",
       "    <tr style=\"text-align: right;\">\n",
       "      <th></th>\n",
       "      <th>Customer_Lifetime_Value</th>\n",
       "      <th>Income</th>\n",
       "      <th>Monthly_Premium_Auto</th>\n",
       "      <th>Months_Since_Last_Claim</th>\n",
       "      <th>Months_Since_Policy_Inception</th>\n",
       "      <th>Number_of_Open_Complaints</th>\n",
       "      <th>Number_of_Policies</th>\n",
       "      <th>Total_Claim_Amount</th>\n",
       "    </tr>\n",
       "  </thead>\n",
       "  <tbody>\n",
       "    <tr>\n",
       "      <th>Customer_Lifetime_Value</th>\n",
       "      <td>1.000000</td>\n",
       "      <td>0.024571</td>\n",
       "      <td>0.396522</td>\n",
       "      <td>0.011490</td>\n",
       "      <td>0.009815</td>\n",
       "      <td>-0.036233</td>\n",
       "      <td>0.022212</td>\n",
       "      <td>0.226413</td>\n",
       "    </tr>\n",
       "    <tr>\n",
       "      <th>Income</th>\n",
       "      <td>0.024571</td>\n",
       "      <td>1.000000</td>\n",
       "      <td>-0.016690</td>\n",
       "      <td>-0.026654</td>\n",
       "      <td>-0.000918</td>\n",
       "      <td>0.006417</td>\n",
       "      <td>-0.008839</td>\n",
       "      <td>-0.355255</td>\n",
       "    </tr>\n",
       "    <tr>\n",
       "      <th>Monthly_Premium_Auto</th>\n",
       "      <td>0.396522</td>\n",
       "      <td>-0.016690</td>\n",
       "      <td>1.000000</td>\n",
       "      <td>0.004874</td>\n",
       "      <td>0.020061</td>\n",
       "      <td>-0.013168</td>\n",
       "      <td>-0.011037</td>\n",
       "      <td>0.632037</td>\n",
       "    </tr>\n",
       "    <tr>\n",
       "      <th>Months_Since_Last_Claim</th>\n",
       "      <td>0.011490</td>\n",
       "      <td>-0.026654</td>\n",
       "      <td>0.004874</td>\n",
       "      <td>1.000000</td>\n",
       "      <td>-0.043207</td>\n",
       "      <td>0.005289</td>\n",
       "      <td>0.009559</td>\n",
       "      <td>0.007492</td>\n",
       "    </tr>\n",
       "    <tr>\n",
       "      <th>Months_Since_Policy_Inception</th>\n",
       "      <td>0.009815</td>\n",
       "      <td>-0.000918</td>\n",
       "      <td>0.020061</td>\n",
       "      <td>-0.043207</td>\n",
       "      <td>1.000000</td>\n",
       "      <td>-0.001308</td>\n",
       "      <td>-0.013081</td>\n",
       "      <td>0.003347</td>\n",
       "    </tr>\n",
       "    <tr>\n",
       "      <th>Number_of_Open_Complaints</th>\n",
       "      <td>-0.036233</td>\n",
       "      <td>0.006417</td>\n",
       "      <td>-0.013168</td>\n",
       "      <td>0.005289</td>\n",
       "      <td>-0.001308</td>\n",
       "      <td>1.000000</td>\n",
       "      <td>0.001578</td>\n",
       "      <td>-0.014227</td>\n",
       "    </tr>\n",
       "    <tr>\n",
       "      <th>Number_of_Policies</th>\n",
       "      <td>0.022212</td>\n",
       "      <td>-0.008839</td>\n",
       "      <td>-0.011037</td>\n",
       "      <td>0.009559</td>\n",
       "      <td>-0.013081</td>\n",
       "      <td>0.001578</td>\n",
       "      <td>1.000000</td>\n",
       "      <td>-0.002216</td>\n",
       "    </tr>\n",
       "    <tr>\n",
       "      <th>Total_Claim_Amount</th>\n",
       "      <td>0.226413</td>\n",
       "      <td>-0.355255</td>\n",
       "      <td>0.632037</td>\n",
       "      <td>0.007492</td>\n",
       "      <td>0.003347</td>\n",
       "      <td>-0.014227</td>\n",
       "      <td>-0.002216</td>\n",
       "      <td>1.000000</td>\n",
       "    </tr>\n",
       "  </tbody>\n",
       "</table>\n",
       "</div>"
      ],
      "text/plain": [
       "                               Customer_Lifetime_Value    Income  \\\n",
       "Customer_Lifetime_Value                       1.000000  0.024571   \n",
       "Income                                        0.024571  1.000000   \n",
       "Monthly_Premium_Auto                          0.396522 -0.016690   \n",
       "Months_Since_Last_Claim                       0.011490 -0.026654   \n",
       "Months_Since_Policy_Inception                 0.009815 -0.000918   \n",
       "Number_of_Open_Complaints                    -0.036233  0.006417   \n",
       "Number_of_Policies                            0.022212 -0.008839   \n",
       "Total_Claim_Amount                            0.226413 -0.355255   \n",
       "\n",
       "                               Monthly_Premium_Auto  Months_Since_Last_Claim  \\\n",
       "Customer_Lifetime_Value                    0.396522                 0.011490   \n",
       "Income                                    -0.016690                -0.026654   \n",
       "Monthly_Premium_Auto                       1.000000                 0.004874   \n",
       "Months_Since_Last_Claim                    0.004874                 1.000000   \n",
       "Months_Since_Policy_Inception              0.020061                -0.043207   \n",
       "Number_of_Open_Complaints                 -0.013168                 0.005289   \n",
       "Number_of_Policies                        -0.011037                 0.009559   \n",
       "Total_Claim_Amount                         0.632037                 0.007492   \n",
       "\n",
       "                               Months_Since_Policy_Inception  \\\n",
       "Customer_Lifetime_Value                             0.009815   \n",
       "Income                                             -0.000918   \n",
       "Monthly_Premium_Auto                                0.020061   \n",
       "Months_Since_Last_Claim                            -0.043207   \n",
       "Months_Since_Policy_Inception                       1.000000   \n",
       "Number_of_Open_Complaints                          -0.001308   \n",
       "Number_of_Policies                                 -0.013081   \n",
       "Total_Claim_Amount                                  0.003347   \n",
       "\n",
       "                               Number_of_Open_Complaints  Number_of_Policies  \\\n",
       "Customer_Lifetime_Value                        -0.036233            0.022212   \n",
       "Income                                          0.006417           -0.008839   \n",
       "Monthly_Premium_Auto                           -0.013168           -0.011037   \n",
       "Months_Since_Last_Claim                         0.005289            0.009559   \n",
       "Months_Since_Policy_Inception                  -0.001308           -0.013081   \n",
       "Number_of_Open_Complaints                       1.000000            0.001578   \n",
       "Number_of_Policies                              0.001578            1.000000   \n",
       "Total_Claim_Amount                             -0.014227           -0.002216   \n",
       "\n",
       "                               Total_Claim_Amount  \n",
       "Customer_Lifetime_Value                  0.226413  \n",
       "Income                                  -0.355255  \n",
       "Monthly_Premium_Auto                     0.632037  \n",
       "Months_Since_Last_Claim                  0.007492  \n",
       "Months_Since_Policy_Inception            0.003347  \n",
       "Number_of_Open_Complaints               -0.014227  \n",
       "Number_of_Policies                      -0.002216  \n",
       "Total_Claim_Amount                       1.000000  "
      ]
     },
     "execution_count": 17,
     "metadata": {},
     "output_type": "execute_result"
    }
   ],
   "source": [
    "#let's check correlations between numeric variables\n",
    "data_numeric.corr()"
   ]
  },
  {
   "cell_type": "code",
   "execution_count": 18,
   "metadata": {},
   "outputs": [
    {
     "data": {
      "image/png": "[encoded data removed]",
      "text/plain": [
       "<Figure size 432x288 with 2 Axes>"
      ]
     },
     "metadata": {},
     "output_type": "display_data"
    }
   ],
   "source": [
    "#let's visualize the correlations\n",
    "sns.heatmap(data.corr().abs().round(2), annot=True)\n",
    "plt.show()"
   ]
  },
  {
   "cell_type": "markdown",
   "metadata": {},
   "source": [
    "# OLS Method"
   ]
  },
  {
   "cell_type": "code",
   "execution_count": 19,
   "metadata": {},
   "outputs": [],
   "source": [
    "#after making necessary changes in numeric and object datasets\n",
    "#we will combine back the datasets\n",
    "data_new=data_numeric.join(data_object,how='outer')"
   ]
  },
  {
   "cell_type": "code",
   "execution_count": 20,
   "metadata": {},
   "outputs": [
    {
     "data": {
      "text/plain": [
       "['Customer_Lifetime_Value',\n",
       " 'Income',\n",
       " 'Monthly_Premium_Auto',\n",
       " 'Months_Since_Last_Claim',\n",
       " 'Months_Since_Policy_Inception',\n",
       " 'Number_of_Open_Complaints',\n",
       " 'Number_of_Policies',\n",
       " 'Total_Claim_Amount',\n",
       " 'State',\n",
       " 'Response',\n",
       " 'Coverage',\n",
       " 'Education',\n",
       " 'EmploymentStatus',\n",
       " 'Gender',\n",
       " 'Location_Code',\n",
       " 'Marital_Status',\n",
       " 'Policy_Type',\n",
       " 'Policy',\n",
       " 'Renew_Offer_Type',\n",
       " 'Sales_Channel',\n",
       " 'Vehicle_Class',\n",
       " 'Vehicle_Size']"
      ]
     },
     "execution_count": 20,
     "metadata": {},
     "output_type": "execute_result"
    }
   ],
   "source": [
    "variables=data_new.columns.tolist()\n",
    "variables"
   ]
  },
  {
   "cell_type": "code",
   "execution_count": 21,
   "metadata": {},
   "outputs": [],
   "source": [
    "del variables[0]"
   ]
  },
  {
   "cell_type": "code",
   "execution_count": 22,
   "metadata": {},
   "outputs": [
    {
     "data": {
      "text/plain": [
       "'Customer_Lifetime_Value~Income+Monthly_Premium_Auto+Months_Since_Last_Claim+Months_Since_Policy_Inception+Number_of_Open_Complaints+Number_of_Policies+Total_Claim_Amount+State+Response+Coverage+Education+EmploymentStatus+Gender+Location_Code+Marital_Status+Policy_Type+Policy+Renew_Offer_Type+Sales_Channel+Vehicle_Class+Vehicle_Size'"
      ]
     },
     "execution_count": 22,
     "metadata": {},
     "output_type": "execute_result"
    }
   ],
   "source": [
    "#as there are many variables, not to input all manually let's create formula \n",
    "formula=\"+\".join(variables)\n",
    "formula='Customer_Lifetime_Value~'+formula\n",
    "formula"
   ]
  },
  {
   "cell_type": "markdown",
   "metadata": {},
   "source": [
    "Let's run the OLS model."
   ]
  },
  {
   "cell_type": "code",
   "execution_count": 23,
   "metadata": {
    "scrolled": false
   },
   "outputs": [
    {
     "data": {
      "text/html": [
       "<table class=\"simpletable\">\n",
       "<caption>OLS Regression Results</caption>\n",
       "<tr>\n",
       "  <th>Dep. Variable:</th>    <td>Customer_Lifetime_Value</td> <th>  R-squared:         </th> <td>   0.170</td> \n",
       "</tr>\n",
       "<tr>\n",
       "  <th>Model:</th>                      <td>OLS</td>           <th>  Adj. R-squared:    </th> <td>   0.165</td> \n",
       "</tr>\n",
       "<tr>\n",
       "  <th>Method:</th>                <td>Least Squares</td>      <th>  F-statistic:       </th> <td>   38.65</td> \n",
       "</tr>\n",
       "<tr>\n",
       "  <th>Date:</th>                <td>Fri, 15 Feb 2019</td>     <th>  Prob (F-statistic):</th> <td>2.47e-323</td>\n",
       "</tr>\n",
       "<tr>\n",
       "  <th>Time:</th>                    <td>22:30:03</td>         <th>  Log-Likelihood:    </th> <td> -92779.</td> \n",
       "</tr>\n",
       "<tr>\n",
       "  <th>No. Observations:</th>         <td>  9131</td>          <th>  AIC:               </th> <td>1.857e+05</td>\n",
       "</tr>\n",
       "<tr>\n",
       "  <th>Df Residuals:</th>             <td>  9082</td>          <th>  BIC:               </th> <td>1.860e+05</td>\n",
       "</tr>\n",
       "<tr>\n",
       "  <th>Df Model:</th>                 <td>    48</td>          <th>                     </th>     <td> </td>    \n",
       "</tr>\n",
       "<tr>\n",
       "  <th>Covariance Type:</th>         <td>nonrobust</td>        <th>                     </th>     <td> </td>    \n",
       "</tr>\n",
       "</table>\n",
       "<table class=\"simpletable\">\n",
       "<tr>\n",
       "                  <td></td>                     <th>coef</th>     <th>std err</th>      <th>t</th>      <th>P>|t|</th>  <th>[0.025</th>    <th>0.975]</th>  \n",
       "</tr>\n",
       "<tr>\n",
       "  <th>Intercept</th>                         <td> 1461.6224</td> <td>  903.441</td> <td>    1.618</td> <td> 0.106</td> <td> -309.326</td> <td> 3232.571</td>\n",
       "</tr>\n",
       "<tr>\n",
       "  <th>State[T.California]</th>               <td>   50.4208</td> <td>  189.404</td> <td>    0.266</td> <td> 0.790</td> <td> -320.853</td> <td>  421.694</td>\n",
       "</tr>\n",
       "<tr>\n",
       "  <th>State[T.Nevada]</th>                   <td>   52.4226</td> <td>  261.202</td> <td>    0.201</td> <td> 0.841</td> <td> -459.593</td> <td>  564.438</td>\n",
       "</tr>\n",
       "<tr>\n",
       "  <th>State[T.Oregon]</th>                   <td>   95.8663</td> <td>  196.039</td> <td>    0.489</td> <td> 0.625</td> <td> -288.415</td> <td>  480.147</td>\n",
       "</tr>\n",
       "<tr>\n",
       "  <th>State[T.Washington]</th>               <td>  174.6146</td> <td>  269.920</td> <td>    0.647</td> <td> 0.518</td> <td> -354.490</td> <td>  703.719</td>\n",
       "</tr>\n",
       "<tr>\n",
       "  <th>Response[T.Yes]</th>                   <td> -228.7850</td> <td>  207.506</td> <td>   -1.103</td> <td> 0.270</td> <td> -635.543</td> <td>  177.973</td>\n",
       "</tr>\n",
       "<tr>\n",
       "  <th>Coverage[T.Extended]</th>              <td>  135.5695</td> <td>  249.235</td> <td>    0.544</td> <td> 0.586</td> <td> -352.987</td> <td>  624.126</td>\n",
       "</tr>\n",
       "<tr>\n",
       "  <th>Coverage[T.Premium]</th>               <td>   67.0744</td> <td>  527.619</td> <td>    0.127</td> <td> 0.899</td> <td> -967.178</td> <td> 1101.326</td>\n",
       "</tr>\n",
       "<tr>\n",
       "  <th>Education[T.College]</th>              <td>    6.6522</td> <td>  171.213</td> <td>    0.039</td> <td> 0.969</td> <td> -328.964</td> <td>  342.269</td>\n",
       "</tr>\n",
       "<tr>\n",
       "  <th>Education[T.Doctor]</th>               <td> -189.2192</td> <td>  362.878</td> <td>   -0.521</td> <td> 0.602</td> <td> -900.542</td> <td>  522.104</td>\n",
       "</tr>\n",
       "<tr>\n",
       "  <th>Education[T.High School or Below]</th> <td>  396.0814</td> <td>  173.390</td> <td>    2.284</td> <td> 0.022</td> <td>   56.197</td> <td>  735.966</td>\n",
       "</tr>\n",
       "<tr>\n",
       "  <th>Education[T.Master]</th>               <td>  164.9907</td> <td>  262.834</td> <td>    0.628</td> <td> 0.530</td> <td> -350.223</td> <td>  680.204</td>\n",
       "</tr>\n",
       "<tr>\n",
       "  <th>EmploymentStatus[T.Employed]</th>      <td>  696.0552</td> <td>  354.386</td> <td>    1.964</td> <td> 0.050</td> <td>    1.378</td> <td> 1390.732</td>\n",
       "</tr>\n",
       "<tr>\n",
       "  <th>EmploymentStatus[T.Medical Leave]</th> <td>  168.2203</td> <td>  436.259</td> <td>    0.386</td> <td> 0.700</td> <td> -686.945</td> <td> 1023.386</td>\n",
       "</tr>\n",
       "<tr>\n",
       "  <th>EmploymentStatus[T.Retired]</th>       <td>   74.5878</td> <td>  502.602</td> <td>    0.148</td> <td> 0.882</td> <td> -910.624</td> <td> 1059.800</td>\n",
       "</tr>\n",
       "<tr>\n",
       "  <th>EmploymentStatus[T.Unemployed]</th>    <td>    7.7041</td> <td>  357.505</td> <td>    0.022</td> <td> 0.983</td> <td> -693.087</td> <td>  708.495</td>\n",
       "</tr>\n",
       "<tr>\n",
       "  <th>Gender[T.M]</th>                       <td> -147.0739</td> <td>  132.956</td> <td>   -1.106</td> <td> 0.269</td> <td> -407.697</td> <td>  113.550</td>\n",
       "</tr>\n",
       "<tr>\n",
       "  <th>Location_Code[T.Suburban]</th>         <td>  -70.7055</td> <td>  263.324</td> <td>   -0.269</td> <td> 0.788</td> <td> -586.880</td> <td>  445.469</td>\n",
       "</tr>\n",
       "<tr>\n",
       "  <th>Location_Code[T.Urban]</th>            <td>  131.4680</td> <td>  241.344</td> <td>    0.545</td> <td> 0.586</td> <td> -341.621</td> <td>  604.557</td>\n",
       "</tr>\n",
       "<tr>\n",
       "  <th>Marital_Status[T.Married]</th>         <td> -166.6995</td> <td>  194.796</td> <td>   -0.856</td> <td> 0.392</td> <td> -548.543</td> <td>  215.144</td>\n",
       "</tr>\n",
       "<tr>\n",
       "  <th>Marital_Status[T.Single]</th>          <td> -478.0155</td> <td>  225.688</td> <td>   -2.118</td> <td> 0.034</td> <td> -920.415</td> <td>  -35.616</td>\n",
       "</tr>\n",
       "<tr>\n",
       "  <th>Policy_Type[T.Personal Auto]</th>      <td> -307.1667</td> <td>  256.663</td> <td>   -1.197</td> <td> 0.231</td> <td> -810.284</td> <td>  195.950</td>\n",
       "</tr>\n",
       "<tr>\n",
       "  <th>Policy_Type[T.Special Auto]</th>       <td>  166.2056</td> <td>  362.559</td> <td>    0.458</td> <td> 0.647</td> <td> -544.491</td> <td>  876.902</td>\n",
       "</tr>\n",
       "<tr>\n",
       "  <th>Policy[T.Corporate L2]</th>            <td>-1006.8539</td> <td>  420.380</td> <td>   -2.395</td> <td> 0.017</td> <td>-1830.893</td> <td> -182.815</td>\n",
       "</tr>\n",
       "<tr>\n",
       "  <th>Policy[T.Corporate L3]</th>            <td> -667.5719</td> <td>  386.315</td> <td>   -1.728</td> <td> 0.084</td> <td>-1424.836</td> <td>   89.692</td>\n",
       "</tr>\n",
       "<tr>\n",
       "  <th>Policy[T.Personal L1]</th>             <td> -159.6030</td> <td>  163.573</td> <td>   -0.976</td> <td> 0.329</td> <td> -480.242</td> <td>  161.036</td>\n",
       "</tr>\n",
       "<tr>\n",
       "  <th>Policy[T.Personal L2]</th>             <td>   -4.9589</td> <td>  141.780</td> <td>   -0.035</td> <td> 0.972</td> <td> -282.880</td> <td>  272.962</td>\n",
       "</tr>\n",
       "<tr>\n",
       "  <th>Policy[T.Personal L3]</th>             <td> -142.6048</td> <td>  128.640</td> <td>   -1.109</td> <td> 0.268</td> <td> -394.767</td> <td>  109.558</td>\n",
       "</tr>\n",
       "<tr>\n",
       "  <th>Policy[T.Special L1]</th>              <td>   30.0114</td> <td>  613.800</td> <td>    0.049</td> <td> 0.961</td> <td>-1173.174</td> <td> 1233.197</td>\n",
       "</tr>\n",
       "<tr>\n",
       "  <th>Policy[T.Special L2]</th>              <td> -335.2939</td> <td>  443.805</td> <td>   -0.755</td> <td> 0.450</td> <td>-1205.252</td> <td>  534.665</td>\n",
       "</tr>\n",
       "<tr>\n",
       "  <th>Policy[T.Special L3]</th>              <td>  471.4881</td> <td>  458.166</td> <td>    1.029</td> <td> 0.303</td> <td> -426.620</td> <td> 1369.596</td>\n",
       "</tr>\n",
       "<tr>\n",
       "  <th>Renew_Offer_Type[T.Offer2]</th>        <td> -959.9708</td> <td>  165.353</td> <td>   -5.806</td> <td> 0.000</td> <td>-1284.099</td> <td> -635.842</td>\n",
       "</tr>\n",
       "<tr>\n",
       "  <th>Renew_Offer_Type[T.Offer3]</th>        <td> -532.5587</td> <td>  200.235</td> <td>   -2.660</td> <td> 0.008</td> <td> -925.065</td> <td> -140.052</td>\n",
       "</tr>\n",
       "<tr>\n",
       "  <th>Renew_Offer_Type[T.Offer4]</th>        <td>-1194.0225</td> <td>  233.297</td> <td>   -5.118</td> <td> 0.000</td> <td>-1651.338</td> <td> -736.707</td>\n",
       "</tr>\n",
       "<tr>\n",
       "  <th>Sales_Channel[T.Branch]</th>           <td>  232.2127</td> <td>  164.793</td> <td>    1.409</td> <td> 0.159</td> <td>  -90.819</td> <td>  555.244</td>\n",
       "</tr>\n",
       "<tr>\n",
       "  <th>Sales_Channel[T.Call Center]</th>      <td>  355.3855</td> <td>  186.157</td> <td>    1.909</td> <td> 0.056</td> <td>   -9.525</td> <td>  720.296</td>\n",
       "</tr>\n",
       "<tr>\n",
       "  <th>Sales_Channel[T.Web]</th>              <td>   61.2411</td> <td>  206.056</td> <td>    0.297</td> <td> 0.766</td> <td> -342.675</td> <td>  465.157</td>\n",
       "</tr>\n",
       "<tr>\n",
       "  <th>Vehicle_Class[T.Luxury Car]</th>       <td> 1211.0614</td> <td> 1383.902</td> <td>    0.875</td> <td> 0.382</td> <td>-1501.698</td> <td> 3923.821</td>\n",
       "</tr>\n",
       "<tr>\n",
       "  <th>Vehicle_Class[T.Luxury SUV]</th>       <td> 1183.3116</td> <td> 1371.844</td> <td>    0.863</td> <td> 0.388</td> <td>-1505.812</td> <td> 3872.435</td>\n",
       "</tr>\n",
       "<tr>\n",
       "  <th>Vehicle_Class[T.SUV]</th>              <td>  799.9954</td> <td>  456.941</td> <td>    1.751</td> <td> 0.080</td> <td>  -95.712</td> <td> 1695.703</td>\n",
       "</tr>\n",
       "<tr>\n",
       "  <th>Vehicle_Class[T.Sports Car]</th>       <td> 1028.7281</td> <td>  526.133</td> <td>    1.955</td> <td> 0.051</td> <td>   -2.612</td> <td> 2060.068</td>\n",
       "</tr>\n",
       "<tr>\n",
       "  <th>Vehicle_Class[T.Two-Door Car]</th>     <td>  111.7240</td> <td>  172.079</td> <td>    0.649</td> <td> 0.516</td> <td> -225.589</td> <td>  449.037</td>\n",
       "</tr>\n",
       "<tr>\n",
       "  <th>Vehicle_Size[T.Medsize]</th>           <td>  300.7140</td> <td>  219.674</td> <td>    1.369</td> <td> 0.171</td> <td> -129.897</td> <td>  731.325</td>\n",
       "</tr>\n",
       "<tr>\n",
       "  <th>Vehicle_Size[T.Small]</th>             <td>  438.4614</td> <td>  255.596</td> <td>    1.715</td> <td> 0.086</td> <td>  -62.564</td> <td>  939.486</td>\n",
       "</tr>\n",
       "<tr>\n",
       "  <th>Income</th>                            <td>   -0.0012</td> <td>    0.004</td> <td>   -0.299</td> <td> 0.765</td> <td>   -0.009</td> <td>    0.006</td>\n",
       "</tr>\n",
       "<tr>\n",
       "  <th>Monthly_Premium_Auto</th>              <td>   69.5124</td> <td>   10.023</td> <td>    6.935</td> <td> 0.000</td> <td>   49.865</td> <td>   89.160</td>\n",
       "</tr>\n",
       "<tr>\n",
       "  <th>Months_Since_Last_Claim</th>           <td>    7.0944</td> <td>    6.553</td> <td>    1.083</td> <td> 0.279</td> <td>   -5.751</td> <td>   19.940</td>\n",
       "</tr>\n",
       "<tr>\n",
       "  <th>Months_Since_Policy_Inception</th>     <td>   -1.1914</td> <td>    2.380</td> <td>   -0.501</td> <td> 0.617</td> <td>   -5.857</td> <td>    3.474</td>\n",
       "</tr>\n",
       "<tr>\n",
       "  <th>Number_of_Open_Complaints</th>         <td> -263.1712</td> <td>   72.477</td> <td>   -3.631</td> <td> 0.000</td> <td> -405.242</td> <td> -121.100</td>\n",
       "</tr>\n",
       "<tr>\n",
       "  <th>Number_of_Policies</th>                <td>   58.3462</td> <td>   27.754</td> <td>    2.102</td> <td> 0.036</td> <td>    3.943</td> <td>  112.750</td>\n",
       "</tr>\n",
       "<tr>\n",
       "  <th>Total_Claim_Amount</th>                <td>   -0.2386</td> <td>    0.474</td> <td>   -0.503</td> <td> 0.615</td> <td>   -1.168</td> <td>    0.691</td>\n",
       "</tr>\n",
       "</table>\n",
       "<table class=\"simpletable\">\n",
       "<tr>\n",
       "  <th>Omnibus:</th>       <td>5668.297</td> <th>  Durbin-Watson:     </th> <td>   1.995</td> \n",
       "</tr>\n",
       "<tr>\n",
       "  <th>Prob(Omnibus):</th>  <td> 0.000</td>  <th>  Jarque-Bera (JB):  </th> <td>65200.324</td>\n",
       "</tr>\n",
       "<tr>\n",
       "  <th>Skew:</th>           <td> 2.851</td>  <th>  Prob(JB):          </th> <td>    0.00</td> \n",
       "</tr>\n",
       "<tr>\n",
       "  <th>Kurtosis:</th>       <td>14.784</td>  <th>  Cond. No.          </th> <td>1.29e+16</td> \n",
       "</tr>\n",
       "</table><br/><br/>Warnings:<br/>[1] Standard Errors assume that the covariance matrix of the errors is correctly specified.<br/>[2] The smallest eigenvalue is 1.29e-19. This might indicate that there are<br/>strong multicollinearity problems or that the design matrix is singular."
      ],
      "text/plain": [
       "<class 'statsmodels.iolib.summary.Summary'>\n",
       "\"\"\"\n",
       "                               OLS Regression Results                              \n",
       "===================================================================================\n",
       "Dep. Variable:     Customer_Lifetime_Value   R-squared:                       0.170\n",
       "Model:                                 OLS   Adj. R-squared:                  0.165\n",
       "Method:                      Least Squares   F-statistic:                     38.65\n",
       "Date:                     Fri, 15 Feb 2019   Prob (F-statistic):          2.47e-323\n",
       "Time:                             22:30:03   Log-Likelihood:                -92779.\n",
       "No. Observations:                     9131   AIC:                         1.857e+05\n",
       "Df Residuals:                         9082   BIC:                         1.860e+05\n",
       "Df Model:                               48                                         \n",
       "Covariance Type:                 nonrobust                                         \n",
       "=====================================================================================================\n",
       "                                        coef    std err          t      P>|t|      [0.025      0.975]\n",
       "-----------------------------------------------------------------------------------------------------\n",
       "Intercept                          1461.6224    903.441      1.618      0.106    -309.326    3232.571\n",
       "State[T.California]                  50.4208    189.404      0.266      0.790    -320.853     421.694\n",
       "State[T.Nevada]                      52.4226    261.202      0.201      0.841    -459.593     564.438\n",
       "State[T.Oregon]                      95.8663    196.039      0.489      0.625    -288.415     480.147\n",
       "State[T.Washington]                 174.6146    269.920      0.647      0.518    -354.490     703.719\n",
       "Response[T.Yes]                    -228.7850    207.506     -1.103      0.270    -635.543     177.973\n",
       "Coverage[T.Extended]                135.5695    249.235      0.544      0.586    -352.987     624.126\n",
       "Coverage[T.Premium]                  67.0744    527.619      0.127      0.899    -967.178    1101.326\n",
       "Education[T.College]                  6.6522    171.213      0.039      0.969    -328.964     342.269\n",
       "Education[T.Doctor]                -189.2192    362.878     -0.521      0.602    -900.542     522.104\n",
       "Education[T.High School or Below]   396.0814    173.390      2.284      0.022      56.197     735.966\n",
       "Education[T.Master]                 164.9907    262.834      0.628      0.530    -350.223     680.204\n",
       "EmploymentStatus[T.Employed]        696.0552    354.386      1.964      0.050       1.378    1390.732\n",
       "EmploymentStatus[T.Medical Leave]   168.2203    436.259      0.386      0.700    -686.945    1023.386\n",
       "EmploymentStatus[T.Retired]          74.5878    502.602      0.148      0.882    -910.624    1059.800\n",
       "EmploymentStatus[T.Unemployed]        7.7041    357.505      0.022      0.983    -693.087     708.495\n",
       "Gender[T.M]                        -147.0739    132.956     -1.106      0.269    -407.697     113.550\n",
       "Location_Code[T.Suburban]           -70.7055    263.324     -0.269      0.788    -586.880     445.469\n",
       "Location_Code[T.Urban]              131.4680    241.344      0.545      0.586    -341.621     604.557\n",
       "Marital_Status[T.Married]          -166.6995    194.796     -0.856      0.392    -548.543     215.144\n",
       "Marital_Status[T.Single]           -478.0155    225.688     -2.118      0.034    -920.415     -35.616\n",
       "Policy_Type[T.Personal Auto]       -307.1667    256.663     -1.197      0.231    -810.284     195.950\n",
       "Policy_Type[T.Special Auto]         166.2056    362.559      0.458      0.647    -544.491     876.902\n",
       "Policy[T.Corporate L2]            -1006.8539    420.380     -2.395      0.017   -1830.893    -182.815\n",
       "Policy[T.Corporate L3]             -667.5719    386.315     -1.728      0.084   -1424.836      89.692\n",
       "Policy[T.Personal L1]              -159.6030    163.573     -0.976      0.329    -480.242     161.036\n",
       "Policy[T.Personal L2]                -4.9589    141.780     -0.035      0.972    -282.880     272.962\n",
       "Policy[T.Personal L3]              -142.6048    128.640     -1.109      0.268    -394.767     109.558\n",
       "Policy[T.Special L1]                 30.0114    613.800      0.049      0.961   -1173.174    1233.197\n",
       "Policy[T.Special L2]               -335.2939    443.805     -0.755      0.450   -1205.252     534.665\n",
       "Policy[T.Special L3]                471.4881    458.166      1.029      0.303    -426.620    1369.596\n",
       "Renew_Offer_Type[T.Offer2]         -959.9708    165.353     -5.806      0.000   -1284.099    -635.842\n",
       "Renew_Offer_Type[T.Offer3]         -532.5587    200.235     -2.660      0.008    -925.065    -140.052\n",
       "Renew_Offer_Type[T.Offer4]        -1194.0225    233.297     -5.118      0.000   -1651.338    -736.707\n",
       "Sales_Channel[T.Branch]             232.2127    164.793      1.409      0.159     -90.819     555.244\n",
       "Sales_Channel[T.Call Center]        355.3855    186.157      1.909      0.056      -9.525     720.296\n",
       "Sales_Channel[T.Web]                 61.2411    206.056      0.297      0.766    -342.675     465.157\n",
       "Vehicle_Class[T.Luxury Car]        1211.0614   1383.902      0.875      0.382   -1501.698    3923.821\n",
       "Vehicle_Class[T.Luxury SUV]        1183.3116   1371.844      0.863      0.388   -1505.812    3872.435\n",
       "Vehicle_Class[T.SUV]                799.9954    456.941      1.751      0.080     -95.712    1695.703\n",
       "Vehicle_Class[T.Sports Car]        1028.7281    526.133      1.955      0.051      -2.612    2060.068\n",
       "Vehicle_Class[T.Two-Door Car]       111.7240    172.079      0.649      0.516    -225.589     449.037\n",
       "Vehicle_Size[T.Medsize]             300.7140    219.674      1.369      0.171    -129.897     731.325\n",
       "Vehicle_Size[T.Small]               438.4614    255.596      1.715      0.086     -62.564     939.486\n",
       "Income                               -0.0012      0.004     -0.299      0.765      -0.009       0.006\n",
       "Monthly_Premium_Auto                 69.5124     10.023      6.935      0.000      49.865      89.160\n",
       "Months_Since_Last_Claim               7.0944      6.553      1.083      0.279      -5.751      19.940\n",
       "Months_Since_Policy_Inception        -1.1914      2.380     -0.501      0.617      -5.857       3.474\n",
       "Number_of_Open_Complaints          -263.1712     72.477     -3.631      0.000    -405.242    -121.100\n",
       "Number_of_Policies                   58.3462     27.754      2.102      0.036       3.943     112.750\n",
       "Total_Claim_Amount                   -0.2386      0.474     -0.503      0.615      -1.168       0.691\n",
       "==============================================================================\n",
       "Omnibus:                     5668.297   Durbin-Watson:                   1.995\n",
       "Prob(Omnibus):                  0.000   Jarque-Bera (JB):            65200.324\n",
       "Skew:                           2.851   Prob(JB):                         0.00\n",
       "Kurtosis:                      14.784   Cond. No.                     1.29e+16\n",
       "==============================================================================\n",
       "\n",
       "Warnings:\n",
       "[1] Standard Errors assume that the covariance matrix of the errors is correctly specified.\n",
       "[2] The smallest eigenvalue is 1.29e-19. This might indicate that there are\n",
       "strong multicollinearity problems or that the design matrix is singular.\n",
       "\"\"\""
      ]
     },
     "execution_count": 23,
     "metadata": {},
     "output_type": "execute_result"
    }
   ],
   "source": [
    "#first let's include all the explaining variables in the model\n",
    "model=ols(formula=formula, data=data_new)\n",
    "results=model.fit()\n",
    "results.summary()"
   ]
  },
  {
   "cell_type": "markdown",
   "metadata": {},
   "source": [
    "<b>Let's construct another model with less variables.</b>"
   ]
  },
  {
   "cell_type": "code",
   "execution_count": 33,
   "metadata": {},
   "outputs": [
    {
     "data": {
      "text/html": [
       "<table class=\"simpletable\">\n",
       "<caption>OLS Regression Results</caption>\n",
       "<tr>\n",
       "  <th>Dep. Variable:</th>    <td>Customer_Lifetime_Value</td> <th>  R-squared:         </th> <td>   0.160</td> \n",
       "</tr>\n",
       "<tr>\n",
       "  <th>Model:</th>                      <td>OLS</td>           <th>  Adj. R-squared:    </th> <td>   0.160</td> \n",
       "</tr>\n",
       "<tr>\n",
       "  <th>Method:</th>                <td>Least Squares</td>      <th>  F-statistic:       </th> <td>   434.3</td> \n",
       "</tr>\n",
       "<tr>\n",
       "  <th>Date:</th>                <td>Fri, 15 Feb 2019</td>     <th>  Prob (F-statistic):</th>  <td>  0.00</td>  \n",
       "</tr>\n",
       "<tr>\n",
       "  <th>Time:</th>                    <td>23:25:19</td>         <th>  Log-Likelihood:    </th> <td> -92832.</td> \n",
       "</tr>\n",
       "<tr>\n",
       "  <th>No. Observations:</th>         <td>  9131</td>          <th>  AIC:               </th> <td>1.857e+05</td>\n",
       "</tr>\n",
       "<tr>\n",
       "  <th>Df Residuals:</th>             <td>  9126</td>          <th>  BIC:               </th> <td>1.857e+05</td>\n",
       "</tr>\n",
       "<tr>\n",
       "  <th>Df Model:</th>                 <td>     4</td>          <th>                     </th>     <td> </td>    \n",
       "</tr>\n",
       "<tr>\n",
       "  <th>Covariance Type:</th>         <td>nonrobust</td>        <th>                     </th>     <td> </td>    \n",
       "</tr>\n",
       "</table>\n",
       "<table class=\"simpletable\">\n",
       "<tr>\n",
       "              <td></td>                 <th>coef</th>     <th>std err</th>      <th>t</th>      <th>P>|t|</th>  <th>[0.025</th>    <th>0.975]</th>  \n",
       "</tr>\n",
       "<tr>\n",
       "  <th>Intercept</th>                 <td>  207.4634</td> <td>  226.760</td> <td>    0.915</td> <td> 0.360</td> <td> -237.036</td> <td>  651.963</td>\n",
       "</tr>\n",
       "<tr>\n",
       "  <th>Income</th>                    <td>    0.0072</td> <td>    0.002</td> <td>    3.296</td> <td> 0.001</td> <td>    0.003</td> <td>    0.011</td>\n",
       "</tr>\n",
       "<tr>\n",
       "  <th>Monthly_Premium_Auto</th>      <td>   79.2429</td> <td>    1.916</td> <td>   41.359</td> <td> 0.000</td> <td>   75.487</td> <td>   82.999</td>\n",
       "</tr>\n",
       "<tr>\n",
       "  <th>Number_of_Open_Complaints</th> <td> -235.7916</td> <td>   72.399</td> <td>   -3.257</td> <td> 0.001</td> <td> -377.709</td> <td>  -93.874</td>\n",
       "</tr>\n",
       "<tr>\n",
       "  <th>Number_of_Policies</th>        <td>   77.3929</td> <td>   27.585</td> <td>    2.806</td> <td> 0.005</td> <td>   23.321</td> <td>  131.465</td>\n",
       "</tr>\n",
       "</table>\n",
       "<table class=\"simpletable\">\n",
       "<tr>\n",
       "  <th>Omnibus:</th>       <td>5684.993</td> <th>  Durbin-Watson:     </th> <td>   1.995</td> \n",
       "</tr>\n",
       "<tr>\n",
       "  <th>Prob(Omnibus):</th>  <td> 0.000</td>  <th>  Jarque-Bera (JB):  </th> <td>65434.521</td>\n",
       "</tr>\n",
       "<tr>\n",
       "  <th>Skew:</th>           <td> 2.863</td>  <th>  Prob(JB):          </th> <td>    0.00</td> \n",
       "</tr>\n",
       "<tr>\n",
       "  <th>Kurtosis:</th>       <td>14.799</td>  <th>  Cond. No.          </th> <td>1.67e+05</td> \n",
       "</tr>\n",
       "</table><br/><br/>Warnings:<br/>[1] Standard Errors assume that the covariance matrix of the errors is correctly specified.<br/>[2] The condition number is large, 1.67e+05. This might indicate that there are<br/>strong multicollinearity or other numerical problems."
      ],
      "text/plain": [
       "<class 'statsmodels.iolib.summary.Summary'>\n",
       "\"\"\"\n",
       "                               OLS Regression Results                              \n",
       "===================================================================================\n",
       "Dep. Variable:     Customer_Lifetime_Value   R-squared:                       0.160\n",
       "Model:                                 OLS   Adj. R-squared:                  0.160\n",
       "Method:                      Least Squares   F-statistic:                     434.3\n",
       "Date:                     Fri, 15 Feb 2019   Prob (F-statistic):               0.00\n",
       "Time:                             23:25:19   Log-Likelihood:                -92832.\n",
       "No. Observations:                     9131   AIC:                         1.857e+05\n",
       "Df Residuals:                         9126   BIC:                         1.857e+05\n",
       "Df Model:                                4                                         \n",
       "Covariance Type:                 nonrobust                                         \n",
       "=============================================================================================\n",
       "                                coef    std err          t      P>|t|      [0.025      0.975]\n",
       "---------------------------------------------------------------------------------------------\n",
       "Intercept                   207.4634    226.760      0.915      0.360    -237.036     651.963\n",
       "Income                        0.0072      0.002      3.296      0.001       0.003       0.011\n",
       "Monthly_Premium_Auto         79.2429      1.916     41.359      0.000      75.487      82.999\n",
       "Number_of_Open_Complaints  -235.7916     72.399     -3.257      0.001    -377.709     -93.874\n",
       "Number_of_Policies           77.3929     27.585      2.806      0.005      23.321     131.465\n",
       "==============================================================================\n",
       "Omnibus:                     5684.993   Durbin-Watson:                   1.995\n",
       "Prob(Omnibus):                  0.000   Jarque-Bera (JB):            65434.521\n",
       "Skew:                           2.863   Prob(JB):                         0.00\n",
       "Kurtosis:                      14.799   Cond. No.                     1.67e+05\n",
       "==============================================================================\n",
       "\n",
       "Warnings:\n",
       "[1] Standard Errors assume that the covariance matrix of the errors is correctly specified.\n",
       "[2] The condition number is large, 1.67e+05. This might indicate that there are\n",
       "strong multicollinearity or other numerical problems.\n",
       "\"\"\""
      ]
     },
     "execution_count": 33,
     "metadata": {},
     "output_type": "execute_result"
    }
   ],
   "source": [
    "model2=ols(formula=\"Customer_Lifetime_Value~Income+Monthly_Premium_Auto+Number_of_Open_Complaints+Number_of_Policies\", \n",
    "           data=data_new)\n",
    "results2=model2.fit()\n",
    "results2.summary()"
   ]
  },
  {
   "cell_type": "markdown",
   "metadata": {},
   "source": [
    "# Model diagnostics"
   ]
  },
  {
   "cell_type": "markdown",
   "metadata": {},
   "source": [
    "<h2> Cecking for Linearity and Equal variance</h2>\n",
    "\n",
    "Residuals of the model will be used to test for linearity and for other assumptions as well.\n",
    "\n",
    "1. Both linearity and equal variance can be tested by plotting residuals vs. predictions (residuals are prediction errors)\n",
    "2. We will use <b>Rainbow</b> test for linearity\n",
    "3. <b>Breusch-Pagan</b> test for homoscedasticity\n"
   ]
  },
  {
   "cell_type": "code",
   "execution_count": 34,
   "metadata": {},
   "outputs": [
    {
     "data": {
      "text/plain": [
       "0     -3391.604120\n",
       "1     -1295.901870\n",
       "3     -1503.097725\n",
       "4     -3569.437782\n",
       "5      1976.373802\n",
       "7     -1304.466189\n",
       "8     18038.357877\n",
       "9     -1014.098793\n",
       "10    -1009.923429\n",
       "11     -959.162538\n",
       "dtype: float64"
      ]
     },
     "execution_count": 34,
     "metadata": {},
     "output_type": "execute_result"
    }
   ],
   "source": [
    "#residuals of the model\n",
    "residuals=results2.resid\n",
    "residuals.head(10)"
   ]
  },
  {
   "cell_type": "code",
   "execution_count": 35,
   "metadata": {},
   "outputs": [],
   "source": [
    "#let's actually get residual values\n",
    "#first, we need to get predicted values from the results of the model\n",
    "#second, we should calculate the difference between predicted and true values of cons. conf. index\n",
    "pred_values=results2.predict()\n",
    "true_values=data_new.Customer_Lifetime_Value\n",
    "resid=true_values-pred_values"
   ]
  },
  {
   "cell_type": "code",
   "execution_count": 36,
   "metadata": {
    "scrolled": true
   },
   "outputs": [
    {
     "data": {
      "text/plain": [
       "0     -3391.604120\n",
       "1     -1295.901870\n",
       "3     -1503.097725\n",
       "4     -3569.437782\n",
       "5      1976.373802\n",
       "7     -1304.466189\n",
       "8     18038.357877\n",
       "9     -1014.098793\n",
       "10    -1009.923429\n",
       "11     -959.162538\n",
       "Name: Customer_Lifetime_Value, dtype: float64"
      ]
     },
     "execution_count": 36,
     "metadata": {},
     "output_type": "execute_result"
    }
   ],
   "source": [
    "#we can see that we got the same results\n",
    "resid.head(10)"
   ]
  },
  {
   "cell_type": "code",
   "execution_count": 37,
   "metadata": {},
   "outputs": [
    {
     "data": {
      "image/png": "[encoded data removed]",
      "text/plain": [
       "<Figure size 720x360 with 1 Axes>"
      ]
     },
     "metadata": {},
     "output_type": "display_data"
    }
   ],
   "source": [
    "#lets plot predicted values vs residuals\n",
    "plt.figure(figsize=(10,5))\n",
    "plt.scatter(pred_values,residuals)\n",
    "plt.axhline(y=0, c=\"red\")\n",
    "plt.title(\"Residual vs Pred values\")\n",
    "plt.ylabel(\"Residuals\")\n",
    "plt.xlabel(\"Predicted values\")\n",
    "plt.show()"
   ]
  },
  {
   "cell_type": "code",
   "execution_count": 65,
   "metadata": {},
   "outputs": [
    {
     "data": {
      "text/plain": [
       "(1.0091421740309112, 0.37928860148325394)"
      ]
     },
     "execution_count": 65,
     "metadata": {},
     "output_type": "execute_result"
    }
   ],
   "source": [
    "#The null hypothesis assumes that the regression is correctly modelled as linear\n",
    "linear_rainbow(results2)"
   ]
  },
  {
   "cell_type": "code",
   "execution_count": 66,
   "metadata": {},
   "outputs": [
    {
     "data": {
      "text/plain": [
       "(515.8021612525375,\n",
       " 2.5592792189219896e-110,\n",
       " 136.59612384116267,\n",
       " 1.5242541238518582e-113)"
      ]
     },
     "execution_count": 66,
     "metadata": {},
     "output_type": "execute_result"
    }
   ],
   "source": [
    "#Breusch-Pagan test for homoscedasticity\n",
    "#The null hypothesis assumes homoskedasticity\n",
    "#p-value<=0.05 shows that there is violation of homoscedasticity\n",
    "het_breuschpagan(residuals,model2.exog)"
   ]
  },
  {
   "cell_type": "markdown",
   "metadata": {},
   "source": [
    "<h2>Normality</h2>"
   ]
  },
  {
   "cell_type": "code",
   "execution_count": 39,
   "metadata": {},
   "outputs": [
    {
     "data": {
      "image/png": "[encoded data removed]",
      "text/plain": [
       "<Figure size 432x288 with 1 Axes>"
      ]
     },
     "metadata": {},
     "output_type": "display_data"
    }
   ],
   "source": [
    "#visual presentation- histogram\n",
    "plt.hist(residuals)\n",
    "plt.show()"
   ]
  },
  {
   "cell_type": "code",
   "execution_count": 73,
   "metadata": {},
   "outputs": [
    {
     "name": "stderr",
     "output_type": "stream",
     "text": [
      "C:\\Users\\HP\\Anaconda3\\lib\\site-packages\\matplotlib\\axes\\_axes.py:6462: UserWarning: The 'normed' kwarg is deprecated, and has been replaced by the 'density' kwarg.\n",
      "  warnings.warn(\"The 'normed' kwarg is deprecated, and has been \"\n"
     ]
    },
    {
     "data": {
      "image/png": "[encoded data removed]",
      "text/plain": [
       "<Figure size 432x288 with 1 Axes>"
      ]
     },
     "metadata": {},
     "output_type": "display_data"
    }
   ],
   "source": [
    "sns.distplot(residuals)\n",
    "plt.show()"
   ]
  },
  {
   "cell_type": "code",
   "execution_count": 40,
   "metadata": {},
   "outputs": [
    {
     "data": {
      "image/png": "[encoded data removed]",
      "text/plain": [
       "<Figure size 432x288 with 1 Axes>"
      ]
     },
     "metadata": {},
     "output_type": "display_data"
    }
   ],
   "source": [
    "#QQ plot\n",
    "qqplot(residuals,fit=True, line='45')\n",
    "plt.show()"
   ]
  },
  {
   "cell_type": "markdown",
   "metadata": {},
   "source": [
    "<b>Jarque-Bera normality test values are given in the model summary above. From where we could conclude that normality was violated. However, let's run another test of normality: Shapiro-Wilk test.</b>\n"
   ]
  },
  {
   "cell_type": "code",
   "execution_count": 41,
   "metadata": {},
   "outputs": [
    {
     "name": "stdout",
     "output_type": "stream",
     "text": [
      "0.7174152135848999 0.0\n"
     ]
    },
    {
     "name": "stderr",
     "output_type": "stream",
     "text": [
      "C:\\Users\\HP\\Anaconda3\\lib\\site-packages\\scipy\\stats\\morestats.py:1309: UserWarning: p-value may not be accurate for N > 5000.\n",
      "  warnings.warn(\"p-value may not be accurate for N > 5000.\")\n"
     ]
    }
   ],
   "source": [
    "#Shapiro-Wilk normality test. \n",
    "#The null-hypothesis of this test is that the data was drawn from a normal distribution\n",
    "#We reject the Null hypothesis which means that we can state with 95% confidence that our data is not normal\n",
    "stat,p = shapiro(residuals)\n",
    "print(stat,p)"
   ]
  },
  {
   "cell_type": "markdown",
   "metadata": {},
   "source": [
    "<h2>Multicollinearity</h2>"
   ]
  },
  {
   "cell_type": "markdown",
   "metadata": {},
   "source": [
    "To check multicollinearity, we will calculate VIF criteria."
   ]
  },
  {
   "cell_type": "code",
   "execution_count": 47,
   "metadata": {},
   "outputs": [],
   "source": [
    "my_list=['Income','Monthly_Premium_Auto','Number_of_Open_Complaints','Number_of_Policies']"
   ]
  },
  {
   "cell_type": "code",
   "execution_count": 52,
   "metadata": {},
   "outputs": [
    {
     "name": "stdout",
     "output_type": "stream",
     "text": [
      "[2.1786058496534886, 3.013080493265547, 1.1586156773973437, 2.188052810380014]\n"
     ]
    }
   ],
   "source": [
    "vif = [variance_inflation_factor(data_new[my_list].values, i) for i in range(0,4)]\n",
    "print(vif)"
   ]
  },
  {
   "cell_type": "code",
   "execution_count": 53,
   "metadata": {},
   "outputs": [
    {
     "name": "stdout",
     "output_type": "stream",
     "text": [
      "Income : 2.1786058496534886\n",
      "Monthly_Premium_Auto : 3.013080493265547\n",
      "Number_of_Open_Complaints : 1.1586156773973437\n",
      "Number_of_Policies : 2.188052810380014\n"
     ]
    }
   ],
   "source": [
    "for i in range(0,4):\n",
    "    print(my_list[i],\":\",vif[i])"
   ]
  },
  {
   "cell_type": "markdown",
   "metadata": {},
   "source": [
    "There is no multicollinearity as VIF<=10."
   ]
  },
  {
   "cell_type": "code",
   "execution_count": null,
   "metadata": {},
   "outputs": [],
   "source": []
  }
 ],
 "metadata": {
  "kernelspec": {
   "display_name": "Python 3",
   "language": "python",
   "name": "python3"
  },
  "language_info": {
   "codemirror_mode": {
    "name": "ipython",
    "version": 3
   },
   "file_extension": ".py",
   "mimetype": "text/x-python",
   "name": "python",
   "nbconvert_exporter": "python",
   "pygments_lexer": "ipython3",
   "version": "3.6.5"
  }
 },
 "nbformat": 4,
 "nbformat_minor": 2
}
