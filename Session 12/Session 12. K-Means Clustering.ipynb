{
 "cells": [
  {
   "cell_type": "markdown",
   "metadata": {},
   "source": [
    "# K_Means Clustering"
   ]
  },
  {
   "cell_type": "markdown",
   "metadata": {},
   "source": [
    "This notebook provides an example code of deviding wine buyers into clusters based on the information about the offers they accepted. \n",
    "\n",
    "The general sequence of steps that we will follow is the following:\n",
    "\n",
    "- Data manipulation\n",
    "    - reading and understanding the data\n",
    "- Model construction and interpretation\n",
    "    - Model 1: K-Means model with a k number of cluster defined by ourselves\n",
    "    - Elbow Method to decide the optimal k\n",
    "    - Silhouette Method to decide the optimal k\n",
    "    - Model 2: K-Meaqns model with the optimal k\n",
    "- Joining final clusters to the data and exporting as an excel file\n",
    "- Excel: joining the clusters with some variables describing each offer and trying to see patterns for each cluster"
   ]
  },
  {
   "cell_type": "code",
   "execution_count": 1,
   "metadata": {},
   "outputs": [],
   "source": [
    "import pandas as pd\n",
    "from sklearn.cluster import KMeans\n",
    "import numpy as np\n",
    "import matplotlib.pyplot as plt\n",
    "from sklearn.metrics import silhouette_score\n",
    "from scikitplot.cluster import plot_elbow_curve"
   ]
  },
  {
   "cell_type": "code",
   "execution_count": 2,
   "metadata": {},
   "outputs": [],
   "source": [
    "data=pd.read_excel(\"Wine_data.xlsx\",sheet_name=\"Data\")"
   ]
  },
  {
   "cell_type": "code",
   "execution_count": 3,
   "metadata": {},
   "outputs": [
    {
     "data": {
      "text/html": [
       "<div>\n",
       "<style scoped>\n",
       "    .dataframe tbody tr th:only-of-type {\n",
       "        vertical-align: middle;\n",
       "    }\n",
       "\n",
       "    .dataframe tbody tr th {\n",
       "        vertical-align: top;\n",
       "    }\n",
       "\n",
       "    .dataframe thead th {\n",
       "        text-align: right;\n",
       "    }\n",
       "</style>\n",
       "<table border=\"1\" class=\"dataframe\">\n",
       "  <thead>\n",
       "    <tr style=\"text-align: right;\">\n",
       "      <th></th>\n",
       "      <th>Customer_Names</th>\n",
       "      <th>Offer_1</th>\n",
       "      <th>Offer_2</th>\n",
       "      <th>Offer_3</th>\n",
       "      <th>Offer_4</th>\n",
       "      <th>Offer_5</th>\n",
       "      <th>Offer_6</th>\n",
       "      <th>Offer_7</th>\n",
       "      <th>Offer_8</th>\n",
       "      <th>Offer_9</th>\n",
       "      <th>...</th>\n",
       "      <th>Offer_23</th>\n",
       "      <th>Offer_24</th>\n",
       "      <th>Offer_25</th>\n",
       "      <th>Offer_26</th>\n",
       "      <th>Offer_27</th>\n",
       "      <th>Offer_28</th>\n",
       "      <th>Offer_29</th>\n",
       "      <th>Offer_30</th>\n",
       "      <th>Offer_31</th>\n",
       "      <th>Offer_32</th>\n",
       "    </tr>\n",
       "  </thead>\n",
       "  <tbody>\n",
       "    <tr>\n",
       "      <th>0</th>\n",
       "      <td>Adams</td>\n",
       "      <td>0</td>\n",
       "      <td>0</td>\n",
       "      <td>0</td>\n",
       "      <td>0</td>\n",
       "      <td>0</td>\n",
       "      <td>0</td>\n",
       "      <td>0</td>\n",
       "      <td>0</td>\n",
       "      <td>0</td>\n",
       "      <td>...</td>\n",
       "      <td>0</td>\n",
       "      <td>0</td>\n",
       "      <td>0</td>\n",
       "      <td>0</td>\n",
       "      <td>0</td>\n",
       "      <td>0</td>\n",
       "      <td>1</td>\n",
       "      <td>1</td>\n",
       "      <td>0</td>\n",
       "      <td>0</td>\n",
       "    </tr>\n",
       "    <tr>\n",
       "      <th>1</th>\n",
       "      <td>Allen</td>\n",
       "      <td>0</td>\n",
       "      <td>0</td>\n",
       "      <td>0</td>\n",
       "      <td>0</td>\n",
       "      <td>0</td>\n",
       "      <td>0</td>\n",
       "      <td>0</td>\n",
       "      <td>0</td>\n",
       "      <td>1</td>\n",
       "      <td>...</td>\n",
       "      <td>0</td>\n",
       "      <td>0</td>\n",
       "      <td>0</td>\n",
       "      <td>0</td>\n",
       "      <td>1</td>\n",
       "      <td>0</td>\n",
       "      <td>0</td>\n",
       "      <td>0</td>\n",
       "      <td>0</td>\n",
       "      <td>0</td>\n",
       "    </tr>\n",
       "    <tr>\n",
       "      <th>2</th>\n",
       "      <td>Anderson</td>\n",
       "      <td>0</td>\n",
       "      <td>0</td>\n",
       "      <td>0</td>\n",
       "      <td>0</td>\n",
       "      <td>0</td>\n",
       "      <td>0</td>\n",
       "      <td>0</td>\n",
       "      <td>0</td>\n",
       "      <td>0</td>\n",
       "      <td>...</td>\n",
       "      <td>0</td>\n",
       "      <td>1</td>\n",
       "      <td>0</td>\n",
       "      <td>1</td>\n",
       "      <td>0</td>\n",
       "      <td>0</td>\n",
       "      <td>0</td>\n",
       "      <td>0</td>\n",
       "      <td>0</td>\n",
       "      <td>0</td>\n",
       "    </tr>\n",
       "    <tr>\n",
       "      <th>3</th>\n",
       "      <td>Bailey</td>\n",
       "      <td>0</td>\n",
       "      <td>0</td>\n",
       "      <td>0</td>\n",
       "      <td>0</td>\n",
       "      <td>0</td>\n",
       "      <td>0</td>\n",
       "      <td>1</td>\n",
       "      <td>0</td>\n",
       "      <td>0</td>\n",
       "      <td>...</td>\n",
       "      <td>0</td>\n",
       "      <td>0</td>\n",
       "      <td>0</td>\n",
       "      <td>0</td>\n",
       "      <td>0</td>\n",
       "      <td>0</td>\n",
       "      <td>0</td>\n",
       "      <td>1</td>\n",
       "      <td>0</td>\n",
       "      <td>0</td>\n",
       "    </tr>\n",
       "    <tr>\n",
       "      <th>4</th>\n",
       "      <td>Baker</td>\n",
       "      <td>0</td>\n",
       "      <td>0</td>\n",
       "      <td>0</td>\n",
       "      <td>0</td>\n",
       "      <td>0</td>\n",
       "      <td>0</td>\n",
       "      <td>1</td>\n",
       "      <td>0</td>\n",
       "      <td>0</td>\n",
       "      <td>...</td>\n",
       "      <td>0</td>\n",
       "      <td>0</td>\n",
       "      <td>0</td>\n",
       "      <td>0</td>\n",
       "      <td>0</td>\n",
       "      <td>0</td>\n",
       "      <td>0</td>\n",
       "      <td>0</td>\n",
       "      <td>1</td>\n",
       "      <td>0</td>\n",
       "    </tr>\n",
       "  </tbody>\n",
       "</table>\n",
       "<p>5 rows × 33 columns</p>\n",
       "</div>"
      ],
      "text/plain": [
       "  Customer_Names  Offer_1  Offer_2  Offer_3  Offer_4  Offer_5  Offer_6  \\\n",
       "0          Adams        0        0        0        0        0        0   \n",
       "1          Allen        0        0        0        0        0        0   \n",
       "2       Anderson        0        0        0        0        0        0   \n",
       "3         Bailey        0        0        0        0        0        0   \n",
       "4          Baker        0        0        0        0        0        0   \n",
       "\n",
       "   Offer_7  Offer_8  Offer_9    ...     Offer_23  Offer_24  Offer_25  \\\n",
       "0        0        0        0    ...            0         0         0   \n",
       "1        0        0        1    ...            0         0         0   \n",
       "2        0        0        0    ...            0         1         0   \n",
       "3        1        0        0    ...            0         0         0   \n",
       "4        1        0        0    ...            0         0         0   \n",
       "\n",
       "   Offer_26  Offer_27  Offer_28  Offer_29  Offer_30  Offer_31  Offer_32  \n",
       "0         0         0         0         1         1         0         0  \n",
       "1         0         1         0         0         0         0         0  \n",
       "2         1         0         0         0         0         0         0  \n",
       "3         0         0         0         0         1         0         0  \n",
       "4         0         0         0         0         0         1         0  \n",
       "\n",
       "[5 rows x 33 columns]"
      ]
     },
     "execution_count": 3,
     "metadata": {},
     "output_type": "execute_result"
    }
   ],
   "source": [
    "data.head()"
   ]
  },
  {
   "cell_type": "code",
   "execution_count": 4,
   "metadata": {},
   "outputs": [],
   "source": [
    "data_2=data.iloc[:,1:]"
   ]
  },
  {
   "cell_type": "code",
   "execution_count": 5,
   "metadata": {},
   "outputs": [
    {
     "data": {
      "text/html": [
       "<div>\n",
       "<style scoped>\n",
       "    .dataframe tbody tr th:only-of-type {\n",
       "        vertical-align: middle;\n",
       "    }\n",
       "\n",
       "    .dataframe tbody tr th {\n",
       "        vertical-align: top;\n",
       "    }\n",
       "\n",
       "    .dataframe thead th {\n",
       "        text-align: right;\n",
       "    }\n",
       "</style>\n",
       "<table border=\"1\" class=\"dataframe\">\n",
       "  <thead>\n",
       "    <tr style=\"text-align: right;\">\n",
       "      <th></th>\n",
       "      <th>Offer_1</th>\n",
       "      <th>Offer_2</th>\n",
       "      <th>Offer_3</th>\n",
       "      <th>Offer_4</th>\n",
       "      <th>Offer_5</th>\n",
       "      <th>Offer_6</th>\n",
       "      <th>Offer_7</th>\n",
       "      <th>Offer_8</th>\n",
       "      <th>Offer_9</th>\n",
       "      <th>Offer_10</th>\n",
       "      <th>...</th>\n",
       "      <th>Offer_23</th>\n",
       "      <th>Offer_24</th>\n",
       "      <th>Offer_25</th>\n",
       "      <th>Offer_26</th>\n",
       "      <th>Offer_27</th>\n",
       "      <th>Offer_28</th>\n",
       "      <th>Offer_29</th>\n",
       "      <th>Offer_30</th>\n",
       "      <th>Offer_31</th>\n",
       "      <th>Offer_32</th>\n",
       "    </tr>\n",
       "  </thead>\n",
       "  <tbody>\n",
       "    <tr>\n",
       "      <th>0</th>\n",
       "      <td>0</td>\n",
       "      <td>0</td>\n",
       "      <td>0</td>\n",
       "      <td>0</td>\n",
       "      <td>0</td>\n",
       "      <td>0</td>\n",
       "      <td>0</td>\n",
       "      <td>0</td>\n",
       "      <td>0</td>\n",
       "      <td>0</td>\n",
       "      <td>...</td>\n",
       "      <td>0</td>\n",
       "      <td>0</td>\n",
       "      <td>0</td>\n",
       "      <td>0</td>\n",
       "      <td>0</td>\n",
       "      <td>0</td>\n",
       "      <td>1</td>\n",
       "      <td>1</td>\n",
       "      <td>0</td>\n",
       "      <td>0</td>\n",
       "    </tr>\n",
       "    <tr>\n",
       "      <th>1</th>\n",
       "      <td>0</td>\n",
       "      <td>0</td>\n",
       "      <td>0</td>\n",
       "      <td>0</td>\n",
       "      <td>0</td>\n",
       "      <td>0</td>\n",
       "      <td>0</td>\n",
       "      <td>0</td>\n",
       "      <td>1</td>\n",
       "      <td>0</td>\n",
       "      <td>...</td>\n",
       "      <td>0</td>\n",
       "      <td>0</td>\n",
       "      <td>0</td>\n",
       "      <td>0</td>\n",
       "      <td>1</td>\n",
       "      <td>0</td>\n",
       "      <td>0</td>\n",
       "      <td>0</td>\n",
       "      <td>0</td>\n",
       "      <td>0</td>\n",
       "    </tr>\n",
       "    <tr>\n",
       "      <th>2</th>\n",
       "      <td>0</td>\n",
       "      <td>0</td>\n",
       "      <td>0</td>\n",
       "      <td>0</td>\n",
       "      <td>0</td>\n",
       "      <td>0</td>\n",
       "      <td>0</td>\n",
       "      <td>0</td>\n",
       "      <td>0</td>\n",
       "      <td>0</td>\n",
       "      <td>...</td>\n",
       "      <td>0</td>\n",
       "      <td>1</td>\n",
       "      <td>0</td>\n",
       "      <td>1</td>\n",
       "      <td>0</td>\n",
       "      <td>0</td>\n",
       "      <td>0</td>\n",
       "      <td>0</td>\n",
       "      <td>0</td>\n",
       "      <td>0</td>\n",
       "    </tr>\n",
       "    <tr>\n",
       "      <th>3</th>\n",
       "      <td>0</td>\n",
       "      <td>0</td>\n",
       "      <td>0</td>\n",
       "      <td>0</td>\n",
       "      <td>0</td>\n",
       "      <td>0</td>\n",
       "      <td>1</td>\n",
       "      <td>0</td>\n",
       "      <td>0</td>\n",
       "      <td>0</td>\n",
       "      <td>...</td>\n",
       "      <td>0</td>\n",
       "      <td>0</td>\n",
       "      <td>0</td>\n",
       "      <td>0</td>\n",
       "      <td>0</td>\n",
       "      <td>0</td>\n",
       "      <td>0</td>\n",
       "      <td>1</td>\n",
       "      <td>0</td>\n",
       "      <td>0</td>\n",
       "    </tr>\n",
       "    <tr>\n",
       "      <th>4</th>\n",
       "      <td>0</td>\n",
       "      <td>0</td>\n",
       "      <td>0</td>\n",
       "      <td>0</td>\n",
       "      <td>0</td>\n",
       "      <td>0</td>\n",
       "      <td>1</td>\n",
       "      <td>0</td>\n",
       "      <td>0</td>\n",
       "      <td>1</td>\n",
       "      <td>...</td>\n",
       "      <td>0</td>\n",
       "      <td>0</td>\n",
       "      <td>0</td>\n",
       "      <td>0</td>\n",
       "      <td>0</td>\n",
       "      <td>0</td>\n",
       "      <td>0</td>\n",
       "      <td>0</td>\n",
       "      <td>1</td>\n",
       "      <td>0</td>\n",
       "    </tr>\n",
       "  </tbody>\n",
       "</table>\n",
       "<p>5 rows × 32 columns</p>\n",
       "</div>"
      ],
      "text/plain": [
       "   Offer_1  Offer_2  Offer_3  Offer_4  Offer_5  Offer_6  Offer_7  Offer_8  \\\n",
       "0        0        0        0        0        0        0        0        0   \n",
       "1        0        0        0        0        0        0        0        0   \n",
       "2        0        0        0        0        0        0        0        0   \n",
       "3        0        0        0        0        0        0        1        0   \n",
       "4        0        0        0        0        0        0        1        0   \n",
       "\n",
       "   Offer_9  Offer_10    ...     Offer_23  Offer_24  Offer_25  Offer_26  \\\n",
       "0        0         0    ...            0         0         0         0   \n",
       "1        1         0    ...            0         0         0         0   \n",
       "2        0         0    ...            0         1         0         1   \n",
       "3        0         0    ...            0         0         0         0   \n",
       "4        0         1    ...            0         0         0         0   \n",
       "\n",
       "   Offer_27  Offer_28  Offer_29  Offer_30  Offer_31  Offer_32  \n",
       "0         0         0         1         1         0         0  \n",
       "1         1         0         0         0         0         0  \n",
       "2         0         0         0         0         0         0  \n",
       "3         0         0         0         1         0         0  \n",
       "4         0         0         0         0         1         0  \n",
       "\n",
       "[5 rows x 32 columns]"
      ]
     },
     "execution_count": 5,
     "metadata": {},
     "output_type": "execute_result"
    }
   ],
   "source": [
    "data_2.head()"
   ]
  },
  {
   "cell_type": "code",
   "execution_count": 6,
   "metadata": {},
   "outputs": [],
   "source": [
    "model1_cluster = KMeans(5,random_state=42)"
   ]
  },
  {
   "cell_type": "code",
   "execution_count": 7,
   "metadata": {},
   "outputs": [
    {
     "data": {
      "text/plain": [
       "array([1, 0, 4, 1, 0, 2, 4, 1, 2, 1, 2, 4, 1, 0, 1, 4, 0, 4, 1, 2, 1, 1,\n",
       "       2, 2, 4, 3, 3, 0, 0, 4, 1, 1, 2, 2, 1, 1, 2, 1, 2, 1, 4, 4, 1, 0,\n",
       "       1, 2, 1, 1, 0, 0, 0, 3, 4, 4, 2, 1, 4, 1, 1, 0, 0, 1, 0, 1, 1, 4,\n",
       "       4, 0, 2, 0, 3, 0, 2, 1, 0, 1, 4, 2, 1, 4, 3, 0, 3, 4, 1, 1, 1, 3,\n",
       "       0, 1, 0, 1, 0, 1, 3, 2, 1, 3, 0, 2])"
      ]
     },
     "execution_count": 7,
     "metadata": {},
     "output_type": "execute_result"
    }
   ],
   "source": [
    "model1_cluster.fit_predict(data_2)"
   ]
  },
  {
   "cell_type": "code",
   "execution_count": 8,
   "metadata": {
    "scrolled": false
   },
   "outputs": [
    {
     "data": {
      "text/plain": [
       "array([[ 4.54545455e-02,  4.54545455e-02,  4.54545455e-02,\n",
       "         3.18181818e-01,  9.09090909e-02,  1.81818182e-01,\n",
       "         4.54545455e-02,  4.54545455e-02,  3.18181818e-01,\n",
       "         4.54545455e-02,  2.72727273e-01,  4.54545455e-02,\n",
       "        -3.46944695e-17, -2.77555756e-17,  4.54545455e-02,\n",
       "         1.81818182e-01, -4.16333634e-17, -8.32667268e-17,\n",
       "         9.09090909e-02,  2.27272727e-01,  4.54545455e-02,\n",
       "         0.00000000e+00,  4.54545455e-02, -6.93889390e-17,\n",
       "         1.81818182e-01,  4.54545455e-02,  1.81818182e-01,\n",
       "         1.36363636e-01,  4.54545455e-02,  4.54545455e-02,\n",
       "         4.09090909e-01,  1.36363636e-01],\n",
       "       [-4.16333634e-17, -4.16333634e-17,  2.85714286e-02,\n",
       "        -8.32667268e-17, -1.38777878e-17,  2.85714286e-02,\n",
       "         4.28571429e-01,  4.57142857e-01, -4.16333634e-17,\n",
       "         5.71428571e-02,  2.85714286e-02,  2.85714286e-02,\n",
       "         1.71428571e-01,  2.77555756e-17, -4.16333634e-17,\n",
       "        -2.08166817e-17,  0.00000000e+00,  3.71428571e-01,\n",
       "        -2.08166817e-17, -4.16333634e-17,  2.85714286e-02,\n",
       "         0.00000000e+00, -2.08166817e-17, -8.32667268e-17,\n",
       "        -4.16333634e-17, -5.55111512e-17,  2.85714286e-02,\n",
       "         2.85714286e-02,  4.57142857e-01,  4.85714286e-01,\n",
       "         5.55111512e-17, -1.38777878e-17],\n",
       "       [ 2.35294118e-01,  1.17647059e-01,  2.35294118e-01,\n",
       "         1.76470588e-01,  0.00000000e+00,  2.94117647e-01,\n",
       "         1.76470588e-01,  1.76470588e-01,  5.88235294e-02,\n",
       "         5.88235294e-02,  2.94117647e-01,  1.17647059e-01,\n",
       "        -2.77555756e-17, -1.38777878e-17,  1.17647059e-01,\n",
       "        -6.93889390e-18, -2.77555756e-17,  5.88235294e-02,\n",
       "         1.76470588e-01, -2.77555756e-17,  1.17647059e-01,\n",
       "         1.00000000e+00, -6.93889390e-18, -5.55111512e-17,\n",
       "         5.88235294e-02,  2.77555756e-17,  1.76470588e-01,\n",
       "         1.17647059e-01,  5.55111512e-17,  1.76470588e-01,\n",
       "         3.52941176e-01,  5.88235294e-02],\n",
       "       [ 3.33333333e-01,  1.38777878e-17, -6.93889390e-18,\n",
       "         2.22222222e-01,  2.22222222e-01,  2.22222222e-01,\n",
       "         2.77555756e-17,  2.77555756e-17,  2.22222222e-01,\n",
       "         2.22222222e-01,  1.11111111e-01,  6.93889390e-18,\n",
       "        -6.93889390e-18,  1.00000000e+00,  3.33333333e-01,\n",
       "         6.93889390e-18,  0.00000000e+00,  0.00000000e+00,\n",
       "         6.93889390e-18,  1.11111111e-01,  0.00000000e+00,\n",
       "         4.44444444e-01,  3.33333333e-01, -1.38777878e-17,\n",
       "         1.11111111e-01,  2.22222222e-01,  1.38777878e-17,\n",
       "        -6.93889390e-18,  2.77555756e-17,  1.11111111e-01,\n",
       "         2.22222222e-01,  0.00000000e+00],\n",
       "       [ 1.17647059e-01,  4.11764706e-01, -2.77555756e-17,\n",
       "        -5.55111512e-17,  0.00000000e+00, -5.55111512e-17,\n",
       "         2.77555756e-17, -2.77555756e-17, -1.38777878e-17,\n",
       "         5.88235294e-02,  5.55111512e-17,  5.88235294e-02,\n",
       "        -2.77555756e-17, -1.38777878e-17, -2.77555756e-17,\n",
       "         5.88235294e-02,  4.11764706e-01, -5.55111512e-17,\n",
       "        -6.93889390e-18, -2.77555756e-17,  0.00000000e+00,\n",
       "         0.00000000e+00,  5.88235294e-02,  7.05882353e-01,\n",
       "        -2.77555756e-17,  7.05882353e-01,  5.88235294e-02,\n",
       "        -2.77555756e-17,  5.55111512e-17, -8.32667268e-17,\n",
       "         5.55111512e-17,  0.00000000e+00]])"
      ]
     },
     "execution_count": 8,
     "metadata": {},
     "output_type": "execute_result"
    }
   ],
   "source": [
    "#let's get values of cluster centers\n",
    "model1_cluster.cluster_centers_"
   ]
  },
  {
   "cell_type": "code",
   "execution_count": 9,
   "metadata": {},
   "outputs": [
    {
     "data": {
      "text/plain": [
       "203.76651387827857"
      ]
     },
     "execution_count": 9,
     "metadata": {},
     "output_type": "execute_result"
    }
   ],
   "source": [
    "#let's see Sum of squared distances of samples to their closest cluster center. The smaller the number the better\n",
    "model1_cluster.inertia_"
   ]
  },
  {
   "cell_type": "markdown",
   "metadata": {},
   "source": [
    "# Elbow Method\n",
    "\n",
    "There is a method to choose optimal value of k (number of clusters). The method is called elbow method. "
   ]
  },
  {
   "cell_type": "code",
   "execution_count": 10,
   "metadata": {},
   "outputs": [
    {
     "data": {
      "text/plain": [
       "{1: 281.90000000000003,\n",
       " 2: 251.46031746031744,\n",
       " 3: 228.3105506822612,\n",
       " 4: 216.95436507936506,\n",
       " 5: 203.76651387827857,\n",
       " 6: 195.38591269841268,\n",
       " 7: 187.12400779045515,\n",
       " 8: 178.82063492063492,\n",
       " 9: 171.77997835497837,\n",
       " 10: 164.792316017316}"
      ]
     },
     "execution_count": 10,
     "metadata": {},
     "output_type": "execute_result"
    }
   ],
   "source": [
    "K=range(1,11) #defining the range of the numbers of clusters out of which we want to choose the optimal k\n",
    "\n",
    "sse={}\n",
    "for k in K:\n",
    "    cluster_wine=KMeans(k,random_state=42)\n",
    "    cluster_wine.fit_predict(data_2)\n",
    "    sse[k] = cluster_wine.inertia_ #Sum of squared distances of samples to their closest cluster center, \n",
    "                                        #other measures of distances can also be taken\n",
    "        \n",
    "#lets see what sse contains\n",
    "sse"
   ]
  },
  {
   "cell_type": "code",
   "execution_count": 11,
   "metadata": {},
   "outputs": [
    {
     "data": {
      "image/png": "[encoded data removed]",
      "text/plain": [
       "<Figure size 432x288 with 1 Axes>"
      ]
     },
     "metadata": {},
     "output_type": "display_data"
    }
   ],
   "source": [
    "#let's visualize SSE values for 10 values of k - Elbow Curve\n",
    "plt.figure()\n",
    "plt.plot(sse.keys(),sse.values(), marker=\"o\") #sse is dictionary \n",
    "plt.xlabel(\"Number of cluster\")\n",
    "plt.ylabel(\"SSE\")\n",
    "plt.show()"
   ]
  },
  {
   "cell_type": "markdown",
   "metadata": {},
   "source": [
    "# Now let's just use <code>plot_elbow_curve()</code> function to plot elbow curve!"
   ]
  },
  {
   "cell_type": "code",
   "execution_count": 12,
   "metadata": {},
   "outputs": [
    {
     "data": {
      "image/png": "[encoded data removed]",
      "text/plain": [
       "<Figure size 432x288 with 1 Axes>"
      ]
     },
     "metadata": {},
     "output_type": "display_data"
    }
   ],
   "source": [
    "plot_elbow_curve(KMeans(random_state=42),data_2,cluster_ranges=range(1,10),show_cluster_time=False)\n",
    "plt.show()"
   ]
  },
  {
   "cell_type": "markdown",
   "metadata": {},
   "source": [
    "<b>It seems that 4 is an optimal value for k. However as the elbow plot is not broken enough at that point, it's difficult to choose optimal k from this elbow plot.</b>"
   ]
  },
  {
   "cell_type": "markdown",
   "metadata": {},
   "source": [
    "# Silhouette score method\n",
    "\n",
    "    Silhouette Coefficient is calculated using the mean intra-cluster distance (a) and the mean nearest-cluster distance (b) for each sample. The Silhouette Coefficient for a sample is (b - a) / max(a, b)."
   ]
  },
  {
   "cell_type": "code",
   "execution_count": 13,
   "metadata": {},
   "outputs": [
    {
     "data": {
      "text/plain": [
       "{2: 0.09174871508750351,\n",
       " 3: 0.1124017526599717,\n",
       " 4: 0.12686844766649183,\n",
       " 5: 0.10983457135098874,\n",
       " 6: 0.11862276260442343,\n",
       " 7: 0.11389004516301761,\n",
       " 8: 0.11916975189111405,\n",
       " 9: 0.12301380394403673}"
      ]
     },
     "execution_count": 13,
     "metadata": {},
     "output_type": "execute_result"
    }
   ],
   "source": [
    "np.random.seed(42)\n",
    "\n",
    "sil_coef={}\n",
    "for k in range (2,10): \n",
    "    cluster_wine=KMeans(k)\n",
    "    cluster_wine.fit_predict(data_2)\n",
    "    sil_coef[k]=silhouette_score(data_2,cluster_wine.labels_,metric='euclidean')\n",
    "\n",
    "#Higher Silhouette Coefficient score relates to a model with better defined clusters\n",
    "sil_coef"
   ]
  },
  {
   "cell_type": "code",
   "execution_count": 14,
   "metadata": {},
   "outputs": [
    {
     "data": {
      "image/png": "[encoded data removed]",
      "text/plain": [
       "<Figure size 432x288 with 1 Axes>"
      ]
     },
     "metadata": {},
     "output_type": "display_data"
    }
   ],
   "source": [
    "plt.figure()\n",
    "plt.plot(sil_coef.keys(),sil_coef.values(), color='#840101',linewidth=2,marker='o') #sse is dictionary, plotting \n",
    "plt.xlabel(\"Number of cluster\")\n",
    "plt.ylabel(\"Silhouette Score\")\n",
    "plt.show()"
   ]
  },
  {
   "cell_type": "markdown",
   "metadata": {},
   "source": [
    "# Final Model based on the optimal K"
   ]
  },
  {
   "cell_type": "code",
   "execution_count": 15,
   "metadata": {},
   "outputs": [],
   "source": [
    "#let's add cluster labels to our original data\n",
    "cluster_final=KMeans(4,random_state=42)\n",
    "data[\"cluster_final\"]=cluster_final.fit_predict(data_2)"
   ]
  },
  {
   "cell_type": "code",
   "execution_count": 16,
   "metadata": {},
   "outputs": [
    {
     "data": {
      "text/html": [
       "<div>\n",
       "<style scoped>\n",
       "    .dataframe tbody tr th:only-of-type {\n",
       "        vertical-align: middle;\n",
       "    }\n",
       "\n",
       "    .dataframe tbody tr th {\n",
       "        vertical-align: top;\n",
       "    }\n",
       "\n",
       "    .dataframe thead th {\n",
       "        text-align: right;\n",
       "    }\n",
       "</style>\n",
       "<table border=\"1\" class=\"dataframe\">\n",
       "  <thead>\n",
       "    <tr style=\"text-align: right;\">\n",
       "      <th></th>\n",
       "      <th>Customer_Names</th>\n",
       "      <th>Offer_1</th>\n",
       "      <th>Offer_2</th>\n",
       "      <th>Offer_3</th>\n",
       "      <th>Offer_4</th>\n",
       "      <th>Offer_5</th>\n",
       "      <th>Offer_6</th>\n",
       "      <th>Offer_7</th>\n",
       "      <th>Offer_8</th>\n",
       "      <th>Offer_9</th>\n",
       "      <th>...</th>\n",
       "      <th>Offer_24</th>\n",
       "      <th>Offer_25</th>\n",
       "      <th>Offer_26</th>\n",
       "      <th>Offer_27</th>\n",
       "      <th>Offer_28</th>\n",
       "      <th>Offer_29</th>\n",
       "      <th>Offer_30</th>\n",
       "      <th>Offer_31</th>\n",
       "      <th>Offer_32</th>\n",
       "      <th>cluster_final</th>\n",
       "    </tr>\n",
       "  </thead>\n",
       "  <tbody>\n",
       "    <tr>\n",
       "      <th>0</th>\n",
       "      <td>Adams</td>\n",
       "      <td>0</td>\n",
       "      <td>0</td>\n",
       "      <td>0</td>\n",
       "      <td>0</td>\n",
       "      <td>0</td>\n",
       "      <td>0</td>\n",
       "      <td>0</td>\n",
       "      <td>0</td>\n",
       "      <td>0</td>\n",
       "      <td>...</td>\n",
       "      <td>0</td>\n",
       "      <td>0</td>\n",
       "      <td>0</td>\n",
       "      <td>0</td>\n",
       "      <td>0</td>\n",
       "      <td>1</td>\n",
       "      <td>1</td>\n",
       "      <td>0</td>\n",
       "      <td>0</td>\n",
       "      <td>3</td>\n",
       "    </tr>\n",
       "    <tr>\n",
       "      <th>1</th>\n",
       "      <td>Allen</td>\n",
       "      <td>0</td>\n",
       "      <td>0</td>\n",
       "      <td>0</td>\n",
       "      <td>0</td>\n",
       "      <td>0</td>\n",
       "      <td>0</td>\n",
       "      <td>0</td>\n",
       "      <td>0</td>\n",
       "      <td>1</td>\n",
       "      <td>...</td>\n",
       "      <td>0</td>\n",
       "      <td>0</td>\n",
       "      <td>0</td>\n",
       "      <td>1</td>\n",
       "      <td>0</td>\n",
       "      <td>0</td>\n",
       "      <td>0</td>\n",
       "      <td>0</td>\n",
       "      <td>0</td>\n",
       "      <td>0</td>\n",
       "    </tr>\n",
       "    <tr>\n",
       "      <th>2</th>\n",
       "      <td>Anderson</td>\n",
       "      <td>0</td>\n",
       "      <td>0</td>\n",
       "      <td>0</td>\n",
       "      <td>0</td>\n",
       "      <td>0</td>\n",
       "      <td>0</td>\n",
       "      <td>0</td>\n",
       "      <td>0</td>\n",
       "      <td>0</td>\n",
       "      <td>...</td>\n",
       "      <td>1</td>\n",
       "      <td>0</td>\n",
       "      <td>1</td>\n",
       "      <td>0</td>\n",
       "      <td>0</td>\n",
       "      <td>0</td>\n",
       "      <td>0</td>\n",
       "      <td>0</td>\n",
       "      <td>0</td>\n",
       "      <td>2</td>\n",
       "    </tr>\n",
       "    <tr>\n",
       "      <th>3</th>\n",
       "      <td>Bailey</td>\n",
       "      <td>0</td>\n",
       "      <td>0</td>\n",
       "      <td>0</td>\n",
       "      <td>0</td>\n",
       "      <td>0</td>\n",
       "      <td>0</td>\n",
       "      <td>1</td>\n",
       "      <td>0</td>\n",
       "      <td>0</td>\n",
       "      <td>...</td>\n",
       "      <td>0</td>\n",
       "      <td>0</td>\n",
       "      <td>0</td>\n",
       "      <td>0</td>\n",
       "      <td>0</td>\n",
       "      <td>0</td>\n",
       "      <td>1</td>\n",
       "      <td>0</td>\n",
       "      <td>0</td>\n",
       "      <td>3</td>\n",
       "    </tr>\n",
       "    <tr>\n",
       "      <th>4</th>\n",
       "      <td>Baker</td>\n",
       "      <td>0</td>\n",
       "      <td>0</td>\n",
       "      <td>0</td>\n",
       "      <td>0</td>\n",
       "      <td>0</td>\n",
       "      <td>0</td>\n",
       "      <td>1</td>\n",
       "      <td>0</td>\n",
       "      <td>0</td>\n",
       "      <td>...</td>\n",
       "      <td>0</td>\n",
       "      <td>0</td>\n",
       "      <td>0</td>\n",
       "      <td>0</td>\n",
       "      <td>0</td>\n",
       "      <td>0</td>\n",
       "      <td>0</td>\n",
       "      <td>1</td>\n",
       "      <td>0</td>\n",
       "      <td>0</td>\n",
       "    </tr>\n",
       "  </tbody>\n",
       "</table>\n",
       "<p>5 rows × 34 columns</p>\n",
       "</div>"
      ],
      "text/plain": [
       "  Customer_Names  Offer_1  Offer_2  Offer_3  Offer_4  Offer_5  Offer_6  \\\n",
       "0          Adams        0        0        0        0        0        0   \n",
       "1          Allen        0        0        0        0        0        0   \n",
       "2       Anderson        0        0        0        0        0        0   \n",
       "3         Bailey        0        0        0        0        0        0   \n",
       "4          Baker        0        0        0        0        0        0   \n",
       "\n",
       "   Offer_7  Offer_8  Offer_9      ...        Offer_24  Offer_25  Offer_26  \\\n",
       "0        0        0        0      ...               0         0         0   \n",
       "1        0        0        1      ...               0         0         0   \n",
       "2        0        0        0      ...               1         0         1   \n",
       "3        1        0        0      ...               0         0         0   \n",
       "4        1        0        0      ...               0         0         0   \n",
       "\n",
       "   Offer_27  Offer_28  Offer_29  Offer_30  Offer_31  Offer_32  cluster_final  \n",
       "0         0         0         1         1         0         0              3  \n",
       "1         1         0         0         0         0         0              0  \n",
       "2         0         0         0         0         0         0              2  \n",
       "3         0         0         0         1         0         0              3  \n",
       "4         0         0         0         0         1         0              0  \n",
       "\n",
       "[5 rows x 34 columns]"
      ]
     },
     "execution_count": 16,
     "metadata": {},
     "output_type": "execute_result"
    }
   ],
   "source": [
    "data.head()"
   ]
  },
  {
   "cell_type": "code",
   "execution_count": 17,
   "metadata": {},
   "outputs": [
    {
     "data": {
      "text/plain": [
       "0    36\n",
       "1    28\n",
       "3    20\n",
       "2    16\n",
       "Name: cluster_final, dtype: int64"
      ]
     },
     "execution_count": 17,
     "metadata": {},
     "output_type": "execute_result"
    }
   ],
   "source": [
    "# quickly count the number of customers in each cluster\n",
    "data.cluster_final.value_counts()"
   ]
  },
  {
   "cell_type": "markdown",
   "metadata": {},
   "source": [
    "<b> The biggest cluster is the first one (with label 0). </b>"
   ]
  },
  {
   "cell_type": "code",
   "execution_count": 18,
   "metadata": {},
   "outputs": [],
   "source": [
    "#saving the data into excel (now data includes the labels of clusters for each observation)\n",
    "data.to_excel('clusters.xlsx')"
   ]
  }
 ],
 "metadata": {
  "kernelspec": {
   "display_name": "Python 3",
   "language": "python",
   "name": "python3"
  },
  "language_info": {
   "codemirror_mode": {
    "name": "ipython",
    "version": 3
   },
   "file_extension": ".py",
   "mimetype": "text/x-python",
   "name": "python",
   "nbconvert_exporter": "python",
   "pygments_lexer": "ipython3",
   "version": "3.6.5"
  }
 },
 "nbformat": 4,
 "nbformat_minor": 2
}
