{
 "cells": [
  {
   "cell_type": "markdown",
   "metadata": {},
   "source": [
    "# Session 10: Decision Tree Classification with Bank data"
   ]
  },
  {
   "cell_type": "markdown",
   "metadata": {},
   "source": [
    "This notebook provides an example code of predicting whether a customer will default or not given the explanatory variables. \n",
    "\n",
    "Dependent variable describes default - <b>y(1-yes, 0-no)</b> \n",
    "\n",
    "The general sequence of steps that we will follow is the following:\n",
    "\n",
    "- Data manipulation\n",
    "    - Describing the data (checking for NAs, 0 variance, etc)\n",
    "    - Creating dummy variables from categorical variables\n",
    "    - Doing train and test split\n",
    "- Model construction and interpretation\n",
    "    - Model 1: Decision Tree Classification (the tree is fully grown)\n",
    "    - Model 2: Decision Tree Classification (Pre-pruning the tree)\n",
    "- Sensitivity (recall), Specificity, Overall Accuracy, ROC Curve\n",
    "    - Predicting probabilities for train and test data\n",
    "    - Getting classification report for train and test data\n",
    "    - Calculating ROC_AUC, and drawing ROC curve\n",
    "- Gain and Lift Chart from scikitplot\n"
   ]
  },
  {
   "cell_type": "code",
   "execution_count": 1,
   "metadata": {},
   "outputs": [],
   "source": [
    "import numpy as np\n",
    "import pandas as pd\n",
    "import matplotlib.pyplot as plt\n",
    "import seaborn as sns\n",
    "import graphviz\n",
    "from sklearn.tree import DecisionTreeClassifier\n",
    "from sklearn.model_selection import train_test_split\n",
    "from sklearn.tree import export_graphviz\n",
    "from sklearn.metrics import classification_report\n",
    "from  sklearn.metrics import roc_auc_score, roc_curve\n",
    "import scikitplot as skplt #in case of error run <<!pip install scikit-plot>> and run the code again"
   ]
  },
  {
   "cell_type": "code",
   "execution_count": 2,
   "metadata": {},
   "outputs": [],
   "source": [
    "data=pd.read_excel(\"bank.xlsx\")"
   ]
  },
  {
   "cell_type": "code",
   "execution_count": 3,
   "metadata": {},
   "outputs": [
    {
     "name": "stdout",
     "output_type": "stream",
     "text": [
      "<class 'pandas.core.frame.DataFrame'>\n",
      "RangeIndex: 4119 entries, 0 to 4118\n",
      "Data columns (total 20 columns):\n",
      "age               4119 non-null int64\n",
      "job               4119 non-null object\n",
      "marital           4119 non-null object\n",
      "education         4119 non-null object\n",
      "default           4119 non-null object\n",
      "housing           4119 non-null object\n",
      "loan              4119 non-null object\n",
      "contact           4119 non-null object\n",
      "month             4119 non-null object\n",
      "day_of_week       4119 non-null object\n",
      "duration          4119 non-null int64\n",
      "campaign          4119 non-null int64\n",
      "previous          4119 non-null int64\n",
      "poutcome          4119 non-null object\n",
      "emp_var_rate      4119 non-null float64\n",
      "cons_price_idx    4119 non-null float64\n",
      "cons_conf_idx     4119 non-null float64\n",
      "euribor3m         4119 non-null float64\n",
      "nr_employed       4119 non-null float64\n",
      "y                 4119 non-null int64\n",
      "dtypes: float64(5), int64(5), object(10)\n",
      "memory usage: 643.7+ KB\n"
     ]
    }
   ],
   "source": [
    "data.info()"
   ]
  },
  {
   "cell_type": "code",
   "execution_count": 4,
   "metadata": {},
   "outputs": [
    {
     "data": {
      "text/plain": [
       "age               False\n",
       "duration          False\n",
       "campaign          False\n",
       "previous          False\n",
       "emp_var_rate      False\n",
       "cons_price_idx    False\n",
       "cons_conf_idx     False\n",
       "euribor3m         False\n",
       "nr_employed       False\n",
       "y                 False\n",
       "dtype: bool"
      ]
     },
     "execution_count": 4,
     "metadata": {},
     "output_type": "execute_result"
    }
   ],
   "source": [
    "data.var()==0"
   ]
  },
  {
   "cell_type": "code",
   "execution_count": 5,
   "metadata": {},
   "outputs": [
    {
     "data": {
      "text/plain": [
       "age                67\n",
       "job                12\n",
       "marital             4\n",
       "education           8\n",
       "default             3\n",
       "housing             3\n",
       "loan                3\n",
       "contact             2\n",
       "month              10\n",
       "day_of_week         5\n",
       "duration          828\n",
       "campaign           25\n",
       "previous            7\n",
       "poutcome            3\n",
       "emp_var_rate       10\n",
       "cons_price_idx     26\n",
       "cons_conf_idx      26\n",
       "euribor3m         234\n",
       "nr_employed        11\n",
       "y                   2\n",
       "dtype: int64"
      ]
     },
     "execution_count": 5,
     "metadata": {},
     "output_type": "execute_result"
    }
   ],
   "source": [
    "#to check whether there is a variable with 1 unique value (if there is we will drop it)\n",
    "data.nunique()"
   ]
  },
  {
   "cell_type": "code",
   "execution_count": 6,
   "metadata": {},
   "outputs": [],
   "source": [
    "#getting dummy variables from object type variables\n",
    "data=pd.get_dummies(data,drop_first=True)"
   ]
  },
  {
   "cell_type": "code",
   "execution_count": 7,
   "metadata": {},
   "outputs": [],
   "source": [
    "Y=data.y\n",
    "X=data.drop(\"y\",axis=1)"
   ]
  },
  {
   "cell_type": "code",
   "execution_count": 8,
   "metadata": {},
   "outputs": [
    {
     "name": "stdout",
     "output_type": "stream",
     "text": [
      "0    89.05074\n",
      "1    10.94926\n",
      "Name: y, dtype: float64\n"
     ]
    }
   ],
   "source": [
    "print(data.y.value_counts()/len(data)*100)"
   ]
  },
  {
   "cell_type": "markdown",
   "metadata": {},
   "source": [
    "<b>About 89% of bank customers didn't have default.This means that without any model we will probably clasify a new record (a new customer) as 0 with accuracy of 89%, but we want to do better than this very naive classification. </b>"
   ]
  },
  {
   "cell_type": "code",
   "execution_count": 9,
   "metadata": {},
   "outputs": [],
   "source": [
    "#let's split the data into train and test sets\n",
    "x_train,x_test,y_train,y_test=train_test_split(X,Y,test_size=0.25,random_state=42)"
   ]
  },
  {
   "cell_type": "markdown",
   "metadata": {},
   "source": [
    "# Model 1: Decision Tree Classification (the tree is fully grown)"
   ]
  },
  {
   "cell_type": "code",
   "execution_count": 12,
   "metadata": {},
   "outputs": [
    {
     "data": {
      "text/plain": [
       "DecisionTreeClassifier(class_weight=None, criterion='gini', max_depth=None,\n",
       "            max_features=None, max_leaf_nodes=None,\n",
       "            min_impurity_decrease=0.0, min_impurity_split=None,\n",
       "            min_samples_leaf=1, min_samples_split=2,\n",
       "            min_weight_fraction_leaf=0.0, presort=False, random_state=42,\n",
       "            splitter='best')"
      ]
     },
     "execution_count": 12,
     "metadata": {},
     "output_type": "execute_result"
    }
   ],
   "source": [
    "#running and fitting Decision Tree\n",
    "tree_1=DecisionTreeClassifier(random_state=42)\n",
    "tree_1.fit(x_train,y_train)"
   ]
  },
  {
   "cell_type": "code",
   "execution_count": 13,
   "metadata": {},
   "outputs": [
    {
     "name": "stdout",
     "output_type": "stream",
     "text": [
      "Accuracy_Train: 100.0\n",
      "Accuracy_Test: 89.2233009708738\n",
      "ROC AUC Train: 100.0\n",
      "ROC AUC Test: 73.34817559692794\n"
     ]
    }
   ],
   "source": [
    "#to check accuracy scores for training and testing data\n",
    "print(\"Accuracy_Train:\",tree_1.score(x_train,y_train)*100)\n",
    "print(\"Accuracy_Test:\",tree_1.score(x_test,y_test)*100)\n",
    "print(\"ROC AUC Train:\",roc_auc_score(y_train,tree_1.predict(x_train))*100)\n",
    "print(\"ROC AUC Test:\",roc_auc_score(y_test,tree_1.predict(x_test))*100)"
   ]
  },
  {
   "cell_type": "markdown",
   "metadata": {},
   "source": [
    "<b>Thre tree overfits on the train data.</b>"
   ]
  },
  {
   "cell_type": "markdown",
   "metadata": {},
   "source": [
    "# Model 2: Decision Tree Classification (Pre-pruning the tree)"
   ]
  },
  {
   "cell_type": "markdown",
   "metadata": {},
   "source": [
    "<b>As the previous model overfits the tarin data, let's define max depth of tree to be 5 using <code>max_depth</code> parameter.</b>"
   ]
  },
  {
   "cell_type": "code",
   "execution_count": 14,
   "metadata": {},
   "outputs": [
    {
     "data": {
      "text/plain": [
       "DecisionTreeClassifier(class_weight=None, criterion='gini', max_depth=5,\n",
       "            max_features=None, max_leaf_nodes=None,\n",
       "            min_impurity_decrease=0.0, min_impurity_split=None,\n",
       "            min_samples_leaf=1, min_samples_split=2,\n",
       "            min_weight_fraction_leaf=0.0, presort=False, random_state=42,\n",
       "            splitter='best')"
      ]
     },
     "execution_count": 14,
     "metadata": {},
     "output_type": "execute_result"
    }
   ],
   "source": [
    "#running and fitting Decision Tree\n",
    "tree_2=DecisionTreeClassifier(random_state=42,max_depth=5)\n",
    "tree_2.fit(x_train,y_train)"
   ]
  },
  {
   "cell_type": "code",
   "execution_count": 15,
   "metadata": {},
   "outputs": [
    {
     "name": "stdout",
     "output_type": "stream",
     "text": [
      "Accuracy_Train: 93.23405632890903\n",
      "Accuracy_Test: 90.97087378640776\n",
      "ROC AUC Train: 75.33231361378814\n",
      "ROC AUC Test: 69.06782615625218\n"
     ]
    }
   ],
   "source": [
    "#to check accuracy scores for training and testing data\n",
    "print(\"Accuracy_Train:\",tree_2.score(x_train,y_train)*100)\n",
    "print(\"Accuracy_Test:\",tree_2.score(x_test,y_test)*100)\n",
    "print(\"ROC AUC Train:\",roc_auc_score(y_train,tree_2.predict(x_train))*100)\n",
    "print(\"ROC AUC Test:\",roc_auc_score(y_test,tree_2.predict(x_test))*100)"
   ]
  },
  {
   "cell_type": "markdown",
   "metadata": {},
   "source": [
    "<b>Again the tree overfits on the train data, but compared to the first model it performs better. </b>"
   ]
  },
  {
   "cell_type": "code",
   "execution_count": 16,
   "metadata": {},
   "outputs": [
    {
     "name": "stdout",
     "output_type": "stream",
     "text": [
      "Train:              precision    recall  f1-score   support\n",
      "\n",
      "          0       0.93      0.97      0.95       921\n",
      "          1       0.61      0.41      0.49       109\n",
      "\n",
      "avg / total       0.90      0.91      0.90      1030\n",
      "\n"
     ]
    }
   ],
   "source": [
    "#let's get sensitivity and specificity for train and test set\n",
    "print(\"Train:\",classification_report(y_test,tree_2.predict(x_test)))"
   ]
  },
  {
   "cell_type": "code",
   "execution_count": 17,
   "metadata": {},
   "outputs": [],
   "source": [
    "#To plot ROC curve, we should get TPR(sensitivity), FPR(1-Specificity) for different thresholds\n",
    "FPR,TPR,thresholds=roc_curve(y_test,tree_2.predict_proba(x_test)[:,1])"
   ]
  },
  {
   "cell_type": "code",
   "execution_count": 18,
   "metadata": {},
   "outputs": [
    {
     "data": {
      "image/png": "[encoded data removed]",
      "text/plain": [
       "<Figure size 432x288 with 1 Axes>"
      ]
     },
     "metadata": {},
     "output_type": "display_data"
    }
   ],
   "source": [
    "#plotting ROC Curve\n",
    "plt.plot(FPR,TPR,label=\"ROC AUC=%f\"%roc_auc_score(y_test,tree_2.predict(x_test)))\n",
    "plt.plot([0,1],[0,1])\n",
    "plt.legend(loc=\"lower right\")\n",
    "plt.xlabel(\"FPR\")\n",
    "plt.ylabel(\"TPR\")\n",
    "plt.show()"
   ]
  },
  {
   "cell_type": "code",
   "execution_count": 19,
   "metadata": {},
   "outputs": [
    {
     "data": {
      "text/html": [
       "<div>\n",
       "<style scoped>\n",
       "    .dataframe tbody tr th:only-of-type {\n",
       "        vertical-align: middle;\n",
       "    }\n",
       "\n",
       "    .dataframe tbody tr th {\n",
       "        vertical-align: top;\n",
       "    }\n",
       "\n",
       "    .dataframe thead th {\n",
       "        text-align: right;\n",
       "    }\n",
       "</style>\n",
       "<table border=\"1\" class=\"dataframe\">\n",
       "  <thead>\n",
       "    <tr style=\"text-align: right;\">\n",
       "      <th></th>\n",
       "      <th>Feature Importances</th>\n",
       "    </tr>\n",
       "  </thead>\n",
       "  <tbody>\n",
       "    <tr>\n",
       "      <th>duration</th>\n",
       "      <td>0.477420</td>\n",
       "    </tr>\n",
       "    <tr>\n",
       "      <th>nr_employed</th>\n",
       "      <td>0.312673</td>\n",
       "    </tr>\n",
       "    <tr>\n",
       "      <th>cons_conf_idx</th>\n",
       "      <td>0.067318</td>\n",
       "    </tr>\n",
       "    <tr>\n",
       "      <th>poutcome_success</th>\n",
       "      <td>0.044787</td>\n",
       "    </tr>\n",
       "    <tr>\n",
       "      <th>cons_price_idx</th>\n",
       "      <td>0.029760</td>\n",
       "    </tr>\n",
       "    <tr>\n",
       "      <th>age</th>\n",
       "      <td>0.018408</td>\n",
       "    </tr>\n",
       "    <tr>\n",
       "      <th>campaign</th>\n",
       "      <td>0.014548</td>\n",
       "    </tr>\n",
       "    <tr>\n",
       "      <th>euribor3m</th>\n",
       "      <td>0.008428</td>\n",
       "    </tr>\n",
       "    <tr>\n",
       "      <th>month_oct</th>\n",
       "      <td>0.008302</td>\n",
       "    </tr>\n",
       "    <tr>\n",
       "      <th>default_unknown</th>\n",
       "      <td>0.006999</td>\n",
       "    </tr>\n",
       "    <tr>\n",
       "      <th>education_professional_course</th>\n",
       "      <td>0.006935</td>\n",
       "    </tr>\n",
       "    <tr>\n",
       "      <th>education_unknown</th>\n",
       "      <td>0.004422</td>\n",
       "    </tr>\n",
       "    <tr>\n",
       "      <th>day_of_week_mon</th>\n",
       "      <td>0.000000</td>\n",
       "    </tr>\n",
       "    <tr>\n",
       "      <th>contact_telephone</th>\n",
       "      <td>0.000000</td>\n",
       "    </tr>\n",
       "    <tr>\n",
       "      <th>poutcome_nonexistent</th>\n",
       "      <td>0.000000</td>\n",
       "    </tr>\n",
       "    <tr>\n",
       "      <th>housing_unknown</th>\n",
       "      <td>0.000000</td>\n",
       "    </tr>\n",
       "    <tr>\n",
       "      <th>day_of_week_wed</th>\n",
       "      <td>0.000000</td>\n",
       "    </tr>\n",
       "    <tr>\n",
       "      <th>day_of_week_tue</th>\n",
       "      <td>0.000000</td>\n",
       "    </tr>\n",
       "    <tr>\n",
       "      <th>housing_yes</th>\n",
       "      <td>0.000000</td>\n",
       "    </tr>\n",
       "    <tr>\n",
       "      <th>loan_unknown</th>\n",
       "      <td>0.000000</td>\n",
       "    </tr>\n",
       "    <tr>\n",
       "      <th>loan_yes</th>\n",
       "      <td>0.000000</td>\n",
       "    </tr>\n",
       "    <tr>\n",
       "      <th>month_aug</th>\n",
       "      <td>0.000000</td>\n",
       "    </tr>\n",
       "    <tr>\n",
       "      <th>month_sep</th>\n",
       "      <td>0.000000</td>\n",
       "    </tr>\n",
       "    <tr>\n",
       "      <th>month_dec</th>\n",
       "      <td>0.000000</td>\n",
       "    </tr>\n",
       "    <tr>\n",
       "      <th>month_jul</th>\n",
       "      <td>0.000000</td>\n",
       "    </tr>\n",
       "    <tr>\n",
       "      <th>default_yes</th>\n",
       "      <td>0.000000</td>\n",
       "    </tr>\n",
       "    <tr>\n",
       "      <th>month_mar</th>\n",
       "      <td>0.000000</td>\n",
       "    </tr>\n",
       "    <tr>\n",
       "      <th>month_may</th>\n",
       "      <td>0.000000</td>\n",
       "    </tr>\n",
       "    <tr>\n",
       "      <th>month_nov</th>\n",
       "      <td>0.000000</td>\n",
       "    </tr>\n",
       "    <tr>\n",
       "      <th>day_of_week_thu</th>\n",
       "      <td>0.000000</td>\n",
       "    </tr>\n",
       "    <tr>\n",
       "      <th>month_jun</th>\n",
       "      <td>0.000000</td>\n",
       "    </tr>\n",
       "    <tr>\n",
       "      <th>emp_var_rate</th>\n",
       "      <td>0.000000</td>\n",
       "    </tr>\n",
       "    <tr>\n",
       "      <th>education_university_degree</th>\n",
       "      <td>0.000000</td>\n",
       "    </tr>\n",
       "    <tr>\n",
       "      <th>education_high_school</th>\n",
       "      <td>0.000000</td>\n",
       "    </tr>\n",
       "    <tr>\n",
       "      <th>previous</th>\n",
       "      <td>0.000000</td>\n",
       "    </tr>\n",
       "    <tr>\n",
       "      <th>job_blue_collar</th>\n",
       "      <td>0.000000</td>\n",
       "    </tr>\n",
       "    <tr>\n",
       "      <th>job_entrepreneur</th>\n",
       "      <td>0.000000</td>\n",
       "    </tr>\n",
       "    <tr>\n",
       "      <th>job_housemaid</th>\n",
       "      <td>0.000000</td>\n",
       "    </tr>\n",
       "    <tr>\n",
       "      <th>job_management</th>\n",
       "      <td>0.000000</td>\n",
       "    </tr>\n",
       "    <tr>\n",
       "      <th>job_retired</th>\n",
       "      <td>0.000000</td>\n",
       "    </tr>\n",
       "    <tr>\n",
       "      <th>job_self_employed</th>\n",
       "      <td>0.000000</td>\n",
       "    </tr>\n",
       "    <tr>\n",
       "      <th>job_services</th>\n",
       "      <td>0.000000</td>\n",
       "    </tr>\n",
       "    <tr>\n",
       "      <th>job_student</th>\n",
       "      <td>0.000000</td>\n",
       "    </tr>\n",
       "    <tr>\n",
       "      <th>job_technician</th>\n",
       "      <td>0.000000</td>\n",
       "    </tr>\n",
       "    <tr>\n",
       "      <th>job_unemployed</th>\n",
       "      <td>0.000000</td>\n",
       "    </tr>\n",
       "    <tr>\n",
       "      <th>job_unknown</th>\n",
       "      <td>0.000000</td>\n",
       "    </tr>\n",
       "    <tr>\n",
       "      <th>marital_married</th>\n",
       "      <td>0.000000</td>\n",
       "    </tr>\n",
       "    <tr>\n",
       "      <th>marital_single</th>\n",
       "      <td>0.000000</td>\n",
       "    </tr>\n",
       "    <tr>\n",
       "      <th>marital_unknown</th>\n",
       "      <td>0.000000</td>\n",
       "    </tr>\n",
       "    <tr>\n",
       "      <th>education_basic_6y</th>\n",
       "      <td>0.000000</td>\n",
       "    </tr>\n",
       "    <tr>\n",
       "      <th>education_basic_9y</th>\n",
       "      <td>0.000000</td>\n",
       "    </tr>\n",
       "    <tr>\n",
       "      <th>education_illiterate</th>\n",
       "      <td>0.000000</td>\n",
       "    </tr>\n",
       "  </tbody>\n",
       "</table>\n",
       "</div>"
      ],
      "text/plain": [
       "                               Feature Importances\n",
       "duration                                  0.477420\n",
       "nr_employed                               0.312673\n",
       "cons_conf_idx                             0.067318\n",
       "poutcome_success                          0.044787\n",
       "cons_price_idx                            0.029760\n",
       "age                                       0.018408\n",
       "campaign                                  0.014548\n",
       "euribor3m                                 0.008428\n",
       "month_oct                                 0.008302\n",
       "default_unknown                           0.006999\n",
       "education_professional_course             0.006935\n",
       "education_unknown                         0.004422\n",
       "day_of_week_mon                           0.000000\n",
       "contact_telephone                         0.000000\n",
       "poutcome_nonexistent                      0.000000\n",
       "housing_unknown                           0.000000\n",
       "day_of_week_wed                           0.000000\n",
       "day_of_week_tue                           0.000000\n",
       "housing_yes                               0.000000\n",
       "loan_unknown                              0.000000\n",
       "loan_yes                                  0.000000\n",
       "month_aug                                 0.000000\n",
       "month_sep                                 0.000000\n",
       "month_dec                                 0.000000\n",
       "month_jul                                 0.000000\n",
       "default_yes                               0.000000\n",
       "month_mar                                 0.000000\n",
       "month_may                                 0.000000\n",
       "month_nov                                 0.000000\n",
       "day_of_week_thu                           0.000000\n",
       "month_jun                                 0.000000\n",
       "emp_var_rate                              0.000000\n",
       "education_university_degree               0.000000\n",
       "education_high_school                     0.000000\n",
       "previous                                  0.000000\n",
       "job_blue_collar                           0.000000\n",
       "job_entrepreneur                          0.000000\n",
       "job_housemaid                             0.000000\n",
       "job_management                            0.000000\n",
       "job_retired                               0.000000\n",
       "job_self_employed                         0.000000\n",
       "job_services                              0.000000\n",
       "job_student                               0.000000\n",
       "job_technician                            0.000000\n",
       "job_unemployed                            0.000000\n",
       "job_unknown                               0.000000\n",
       "marital_married                           0.000000\n",
       "marital_single                            0.000000\n",
       "marital_unknown                           0.000000\n",
       "education_basic_6y                        0.000000\n",
       "education_basic_9y                        0.000000\n",
       "education_illiterate                      0.000000"
      ]
     },
     "execution_count": 19,
     "metadata": {},
     "output_type": "execute_result"
    }
   ],
   "source": [
    "#lets get feature importances\n",
    "feature_imp=pd.DataFrame(tree_2.feature_importances_,index=X.columns,columns=[\"Feature Importances\"])\n",
    "feature_imp.sort_values(by=\"Feature Importances\",ascending=False)"
   ]
  },
  {
   "cell_type": "markdown",
   "metadata": {},
   "source": [
    "<b>Duration has the highest importance, i.e. 47.74% of total Gini reduction happened as a result of\n",
    "splits based on duration. </b>"
   ]
  },
  {
   "cell_type": "code",
   "execution_count": 20,
   "metadata": {},
   "outputs": [],
   "source": [
    "#let's visually see the tree\n",
    "tree_gr=export_graphviz(tree_1,out_file=\"tree1.txt\", max_depth=5, class_names=True, feature_names=X.columns, filled=True) \n",
    "#Go to http://webgraphviz.com/, enter the code from the text file saved"
   ]
  },
  {
   "cell_type": "markdown",
   "metadata": {},
   "source": [
    "# Gain, Lift Chart"
   ]
  },
  {
   "cell_type": "code",
   "execution_count": 21,
   "metadata": {},
   "outputs": [
    {
     "name": "stderr",
     "output_type": "stream",
     "text": [
      "C:\\Users\\HP\\Anaconda3\\lib\\site-packages\\matplotlib\\cbook\\deprecation.py:107: MatplotlibDeprecationWarning: Passing one of 'on', 'true', 'off', 'false' as a boolean is deprecated; use an actual boolean (True/False) instead.\n",
      "  warnings.warn(message, mplDeprecation, stacklevel=1)\n"
     ]
    },
    {
     "data": {
      "text/plain": [
       "<matplotlib.axes._subplots.AxesSubplot at 0x19f05e10208>"
      ]
     },
     "execution_count": 21,
     "metadata": {},
     "output_type": "execute_result"
    },
    {
     "data": {
      "image/png": "[encoded data removed]",
      "text/plain": [
       "<Figure size 432x288 with 1 Axes>"
      ]
     },
     "metadata": {},
     "output_type": "display_data"
    }
   ],
   "source": [
    "#Cummulative gain curve\n",
    "skplt.metrics.plot_cumulative_gain(y_test,tree_1.predict_proba(x_test))"
   ]
  },
  {
   "cell_type": "code",
   "execution_count": 22,
   "metadata": {},
   "outputs": [
    {
     "name": "stderr",
     "output_type": "stream",
     "text": [
      "C:\\Users\\HP\\Anaconda3\\lib\\site-packages\\matplotlib\\cbook\\deprecation.py:107: MatplotlibDeprecationWarning: Passing one of 'on', 'true', 'off', 'false' as a boolean is deprecated; use an actual boolean (True/False) instead.\n",
      "  warnings.warn(message, mplDeprecation, stacklevel=1)\n"
     ]
    },
    {
     "data": {
      "text/plain": [
       "<matplotlib.axes._subplots.AxesSubplot at 0x19f05885e48>"
      ]
     },
     "execution_count": 22,
     "metadata": {},
     "output_type": "execute_result"
    },
    {
     "data": {
      "image/png": "[encoded data removed]",
      "text/plain": [
       "<Figure size 432x288 with 1 Axes>"
      ]
     },
     "metadata": {},
     "output_type": "display_data"
    }
   ],
   "source": [
    "#lift curve\n",
    "skplt.metrics.plot_lift_curve(y_test,tree_1.predict_proba(x_test))"
   ]
  }
 ],
 "metadata": {
  "kernelspec": {
   "display_name": "Python 3",
   "language": "python",
   "name": "python3"
  },
  "language_info": {
   "codemirror_mode": {
    "name": "ipython",
    "version": 3
   },
   "file_extension": ".py",
   "mimetype": "text/x-python",
   "name": "python",
   "nbconvert_exporter": "python",
   "pygments_lexer": "ipython3",
   "version": "3.6.5"
  }
 },
 "nbformat": 4,
 "nbformat_minor": 2
}
