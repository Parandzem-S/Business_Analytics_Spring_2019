{
 "cells": [
  {
   "cell_type": "markdown",
   "metadata": {},
   "source": [
    "<h1>Linear Regression</h1>\n",
    "<p>This notebook provides an example code of analyzing <b>Consumer confidence index</b> for customers of a specific bank using linear regression. The dependent variable which we will use in OLS model is <b>Consumer confidence index</b>. We would like to understand what variables have significant relationship with consumers' confidence.\n",
    "    \n",
    "The general sequence of steps that we will follow is the following:\n",
    "<ol>\n",
    "<li>Describing the data (checking for NAs, outliers,summary statistics of our variables, etc)\n",
    "<li>Do statistical testing (<b>T-test</b>) if needed\n",
    "<li>Checking for correlations between the variables, and drop one of correlated variables \n",
    "<li>Visualize the relationship between dependent variable (consumer conf. index) and some of variables which are highly correlated to consumer conf. index\n",
    "<li>Construct the OLS model using statsmodel package\n",
    "<li>Get summary of the model\n",
    "<li>Interpret the results\n",
    "</ol>\n",
    "</p>"
   ]
  },
  {
   "cell_type": "code",
   "execution_count": 93,
   "metadata": {},
   "outputs": [],
   "source": [
    "import pandas as pd\n",
    "import matplotlib.pyplot as plt\n",
    "import numpy as np\n",
    "from statsmodels.formula.api import ols #for linear regression\n",
    "import seaborn as sns #for heatmap\n",
    "from scipy import stats\n",
    "import pandas as pd\n",
    "import matplotlib.pyplot as plt\n",
    "import numpy as np\n",
    "from statsmodels.api import qqplot\n",
    "from statsmodels.stats.diagnostic import het_breuschpagan #for Breusch-Pagan test test\n",
    "from statsmodels.formula.api import ols #for linear regression\n",
    "import seaborn as sns #for heatmap\n",
    "from scipy import stats\n",
    "from statsmodels.stats.diagnostic import linear_rainbow #linearity test\n",
    "from scipy.stats import shapiro #for checking normality\n",
    "from statsmodels.stats.outliers_influence import variance_inflation_factor #for checking Multicolinearity"
   ]
  },
  {
   "cell_type": "code",
   "execution_count": 2,
   "metadata": {},
   "outputs": [],
   "source": [
    "#read the data\n",
    "data=pd.read_excel(\"housing_data.xlsx\")"
   ]
  },
  {
   "cell_type": "markdown",
   "metadata": {},
   "source": [
    "<h1>Description of data</h1>"
   ]
  },
  {
   "cell_type": "code",
   "execution_count": 3,
   "metadata": {},
   "outputs": [
    {
     "data": {
      "text/html": [
       "<div>\n",
       "<style scoped>\n",
       "    .dataframe tbody tr th:only-of-type {\n",
       "        vertical-align: middle;\n",
       "    }\n",
       "\n",
       "    .dataframe tbody tr th {\n",
       "        vertical-align: top;\n",
       "    }\n",
       "\n",
       "    .dataframe thead th {\n",
       "        text-align: right;\n",
       "    }\n",
       "</style>\n",
       "<table border=\"1\" class=\"dataframe\">\n",
       "  <thead>\n",
       "    <tr style=\"text-align: right;\">\n",
       "      <th></th>\n",
       "      <th>Suburb</th>\n",
       "      <th>Address</th>\n",
       "      <th>Rooms</th>\n",
       "      <th>Type</th>\n",
       "      <th>Price</th>\n",
       "      <th>Method</th>\n",
       "      <th>SellerG</th>\n",
       "      <th>Date</th>\n",
       "      <th>Distance</th>\n",
       "      <th>Postcode</th>\n",
       "      <th>...</th>\n",
       "      <th>Bathroom</th>\n",
       "      <th>Car</th>\n",
       "      <th>Landsize</th>\n",
       "      <th>BuildingArea</th>\n",
       "      <th>YearBuilt</th>\n",
       "      <th>CouncilArea</th>\n",
       "      <th>Lattitude</th>\n",
       "      <th>Longtitude</th>\n",
       "      <th>Regionname</th>\n",
       "      <th>Propertycount</th>\n",
       "    </tr>\n",
       "  </thead>\n",
       "  <tbody>\n",
       "    <tr>\n",
       "      <th>0</th>\n",
       "      <td>Ascot Vale</td>\n",
       "      <td>3/8 Walter St</td>\n",
       "      <td>2</td>\n",
       "      <td>t</td>\n",
       "      <td>865000</td>\n",
       "      <td>SP</td>\n",
       "      <td>Nelson</td>\n",
       "      <td>18/03/2017</td>\n",
       "      <td>5.9</td>\n",
       "      <td>3032</td>\n",
       "      <td>...</td>\n",
       "      <td>2</td>\n",
       "      <td>1</td>\n",
       "      <td>146</td>\n",
       "      <td>132.0</td>\n",
       "      <td>2015</td>\n",
       "      <td>Moonee Valley City Council</td>\n",
       "      <td>-37.7713</td>\n",
       "      <td>144.9038</td>\n",
       "      <td>Western Metropolitan</td>\n",
       "      <td>6567</td>\n",
       "    </tr>\n",
       "    <tr>\n",
       "      <th>1</th>\n",
       "      <td>Ascot Vale</td>\n",
       "      <td>12/9 Milton St</td>\n",
       "      <td>2</td>\n",
       "      <td>u</td>\n",
       "      <td>442000</td>\n",
       "      <td>S</td>\n",
       "      <td>Alexkarbon</td>\n",
       "      <td>18/06/2016</td>\n",
       "      <td>5.9</td>\n",
       "      <td>3032</td>\n",
       "      <td>...</td>\n",
       "      <td>1</td>\n",
       "      <td>1</td>\n",
       "      <td>0</td>\n",
       "      <td>62.0</td>\n",
       "      <td>1975</td>\n",
       "      <td>Moonee Valley City Council</td>\n",
       "      <td>-37.7733</td>\n",
       "      <td>144.9219</td>\n",
       "      <td>Western Metropolitan</td>\n",
       "      <td>6567</td>\n",
       "    </tr>\n",
       "    <tr>\n",
       "      <th>2</th>\n",
       "      <td>Ascot Vale</td>\n",
       "      <td>21A Geddes St</td>\n",
       "      <td>3</td>\n",
       "      <td>h</td>\n",
       "      <td>1037500</td>\n",
       "      <td>S</td>\n",
       "      <td>Alexkarbon</td>\n",
       "      <td>19/11/2016</td>\n",
       "      <td>5.9</td>\n",
       "      <td>3032</td>\n",
       "      <td>...</td>\n",
       "      <td>1</td>\n",
       "      <td>2</td>\n",
       "      <td>506</td>\n",
       "      <td>110.0</td>\n",
       "      <td>1920</td>\n",
       "      <td>Moonee Valley City Council</td>\n",
       "      <td>-37.7779</td>\n",
       "      <td>144.9133</td>\n",
       "      <td>Western Metropolitan</td>\n",
       "      <td>6567</td>\n",
       "    </tr>\n",
       "    <tr>\n",
       "      <th>3</th>\n",
       "      <td>Ascot Vale</td>\n",
       "      <td>1/20 Newsom St</td>\n",
       "      <td>3</td>\n",
       "      <td>t</td>\n",
       "      <td>1050000</td>\n",
       "      <td>S</td>\n",
       "      <td>Jellis</td>\n",
       "      <td>19/11/2016</td>\n",
       "      <td>5.9</td>\n",
       "      <td>3032</td>\n",
       "      <td>...</td>\n",
       "      <td>2</td>\n",
       "      <td>2</td>\n",
       "      <td>318</td>\n",
       "      <td>160.0</td>\n",
       "      <td>2013</td>\n",
       "      <td>Moonee Valley City Council</td>\n",
       "      <td>-37.7744</td>\n",
       "      <td>144.9035</td>\n",
       "      <td>Western Metropolitan</td>\n",
       "      <td>6567</td>\n",
       "    </tr>\n",
       "    <tr>\n",
       "      <th>4</th>\n",
       "      <td>Ascot Vale</td>\n",
       "      <td>4/27 Roseberry St</td>\n",
       "      <td>2</td>\n",
       "      <td>u</td>\n",
       "      <td>440000</td>\n",
       "      <td>S</td>\n",
       "      <td>McDonald</td>\n",
       "      <td>19/11/2016</td>\n",
       "      <td>5.9</td>\n",
       "      <td>3032</td>\n",
       "      <td>...</td>\n",
       "      <td>1</td>\n",
       "      <td>1</td>\n",
       "      <td>0</td>\n",
       "      <td>65.0</td>\n",
       "      <td>1970</td>\n",
       "      <td>Moonee Valley City Council</td>\n",
       "      <td>-37.7749</td>\n",
       "      <td>144.9137</td>\n",
       "      <td>Western Metropolitan</td>\n",
       "      <td>6567</td>\n",
       "    </tr>\n",
       "  </tbody>\n",
       "</table>\n",
       "<p>5 rows × 21 columns</p>\n",
       "</div>"
      ],
      "text/plain": [
       "       Suburb            Address  Rooms Type    Price Method     SellerG  \\\n",
       "0  Ascot Vale      3/8 Walter St      2    t   865000     SP      Nelson   \n",
       "1  Ascot Vale     12/9 Milton St      2    u   442000      S  Alexkarbon   \n",
       "2  Ascot Vale      21A Geddes St      3    h  1037500      S  Alexkarbon   \n",
       "3  Ascot Vale     1/20 Newsom St      3    t  1050000      S      Jellis   \n",
       "4  Ascot Vale  4/27 Roseberry St      2    u   440000      S    McDonald   \n",
       "\n",
       "         Date  Distance  Postcode      ...       Bathroom  Car  Landsize  \\\n",
       "0  18/03/2017       5.9      3032      ...              2    1       146   \n",
       "1  18/06/2016       5.9      3032      ...              1    1         0   \n",
       "2  19/11/2016       5.9      3032      ...              1    2       506   \n",
       "3  19/11/2016       5.9      3032      ...              2    2       318   \n",
       "4  19/11/2016       5.9      3032      ...              1    1         0   \n",
       "\n",
       "   BuildingArea  YearBuilt                 CouncilArea Lattitude  Longtitude  \\\n",
       "0         132.0       2015  Moonee Valley City Council  -37.7713    144.9038   \n",
       "1          62.0       1975  Moonee Valley City Council  -37.7733    144.9219   \n",
       "2         110.0       1920  Moonee Valley City Council  -37.7779    144.9133   \n",
       "3         160.0       2013  Moonee Valley City Council  -37.7744    144.9035   \n",
       "4          65.0       1970  Moonee Valley City Council  -37.7749    144.9137   \n",
       "\n",
       "             Regionname Propertycount  \n",
       "0  Western Metropolitan          6567  \n",
       "1  Western Metropolitan          6567  \n",
       "2  Western Metropolitan          6567  \n",
       "3  Western Metropolitan          6567  \n",
       "4  Western Metropolitan          6567  \n",
       "\n",
       "[5 rows x 21 columns]"
      ]
     },
     "execution_count": 3,
     "metadata": {},
     "output_type": "execute_result"
    }
   ],
   "source": [
    "#lets see how the data looks \n",
    "data.head()"
   ]
  },
  {
   "cell_type": "code",
   "execution_count": 4,
   "metadata": {},
   "outputs": [
    {
     "data": {
      "text/plain": [
       "Suburb           0\n",
       "Address          0\n",
       "Rooms            0\n",
       "Type             0\n",
       "Price            0\n",
       "Method           0\n",
       "SellerG          0\n",
       "Date             0\n",
       "Distance         0\n",
       "Postcode         0\n",
       "Bedroom2         0\n",
       "Bathroom         0\n",
       "Car              0\n",
       "Landsize         0\n",
       "BuildingArea     0\n",
       "YearBuilt        0\n",
       "CouncilArea      0\n",
       "Lattitude        0\n",
       "Longtitude       0\n",
       "Regionname       0\n",
       "Propertycount    0\n",
       "dtype: int64"
      ]
     },
     "execution_count": 4,
     "metadata": {},
     "output_type": "execute_result"
    }
   ],
   "source": [
    "#let's check for NA's\n",
    "data.isnull().sum()"
   ]
  },
  {
   "cell_type": "code",
   "execution_count": 5,
   "metadata": {},
   "outputs": [
    {
     "name": "stdout",
     "output_type": "stream",
     "text": [
      "<class 'pandas.core.frame.DataFrame'>\n",
      "RangeIndex: 110 entries, 0 to 109\n",
      "Data columns (total 21 columns):\n",
      "Suburb           110 non-null object\n",
      "Address          110 non-null object\n",
      "Rooms            110 non-null int64\n",
      "Type             110 non-null object\n",
      "Price            110 non-null int64\n",
      "Method           110 non-null object\n",
      "SellerG          110 non-null object\n",
      "Date             110 non-null object\n",
      "Distance         110 non-null float64\n",
      "Postcode         110 non-null int64\n",
      "Bedroom2         110 non-null int64\n",
      "Bathroom         110 non-null int64\n",
      "Car              110 non-null int64\n",
      "Landsize         110 non-null int64\n",
      "BuildingArea     110 non-null float64\n",
      "YearBuilt        110 non-null int64\n",
      "CouncilArea      110 non-null object\n",
      "Lattitude        110 non-null float64\n",
      "Longtitude       110 non-null float64\n",
      "Regionname       110 non-null object\n",
      "Propertycount    110 non-null int64\n",
      "dtypes: float64(4), int64(9), object(8)\n",
      "memory usage: 18.1+ KB\n"
     ]
    }
   ],
   "source": [
    "#let's get info about all the variables and the types of them\n",
    "data.info()"
   ]
  },
  {
   "cell_type": "code",
   "execution_count": 6,
   "metadata": {},
   "outputs": [
    {
     "data": {
      "text/html": [
       "<div>\n",
       "<style scoped>\n",
       "    .dataframe tbody tr th:only-of-type {\n",
       "        vertical-align: middle;\n",
       "    }\n",
       "\n",
       "    .dataframe tbody tr th {\n",
       "        vertical-align: top;\n",
       "    }\n",
       "\n",
       "    .dataframe thead th {\n",
       "        text-align: right;\n",
       "    }\n",
       "</style>\n",
       "<table border=\"1\" class=\"dataframe\">\n",
       "  <thead>\n",
       "    <tr style=\"text-align: right;\">\n",
       "      <th></th>\n",
       "      <th>Rooms</th>\n",
       "      <th>Price</th>\n",
       "      <th>Distance</th>\n",
       "      <th>Postcode</th>\n",
       "      <th>Bedroom2</th>\n",
       "      <th>Bathroom</th>\n",
       "      <th>Car</th>\n",
       "      <th>Landsize</th>\n",
       "      <th>BuildingArea</th>\n",
       "      <th>YearBuilt</th>\n",
       "      <th>Lattitude</th>\n",
       "      <th>Longtitude</th>\n",
       "      <th>Propertycount</th>\n",
       "    </tr>\n",
       "  </thead>\n",
       "  <tbody>\n",
       "    <tr>\n",
       "      <th>count</th>\n",
       "      <td>110.000000</td>\n",
       "      <td>1.100000e+02</td>\n",
       "      <td>110.000000</td>\n",
       "      <td>110.000000</td>\n",
       "      <td>110.000000</td>\n",
       "      <td>110.000000</td>\n",
       "      <td>110.000000</td>\n",
       "      <td>110.000000</td>\n",
       "      <td>110.000000</td>\n",
       "      <td>110.000000</td>\n",
       "      <td>110.000000</td>\n",
       "      <td>110.000000</td>\n",
       "      <td>110.000000</td>\n",
       "    </tr>\n",
       "    <tr>\n",
       "      <th>mean</th>\n",
       "      <td>3.081818</td>\n",
       "      <td>1.011146e+06</td>\n",
       "      <td>10.210000</td>\n",
       "      <td>3083.490909</td>\n",
       "      <td>3.081818</td>\n",
       "      <td>1.672727</td>\n",
       "      <td>1.609091</td>\n",
       "      <td>488.327273</td>\n",
       "      <td>149.456818</td>\n",
       "      <td>1964.009091</td>\n",
       "      <td>-37.805117</td>\n",
       "      <td>144.963558</td>\n",
       "      <td>7644.827273</td>\n",
       "    </tr>\n",
       "    <tr>\n",
       "      <th>std</th>\n",
       "      <td>0.968606</td>\n",
       "      <td>5.049120e+05</td>\n",
       "      <td>6.508653</td>\n",
       "      <td>90.533561</td>\n",
       "      <td>1.023860</td>\n",
       "      <td>0.791110</td>\n",
       "      <td>0.919667</td>\n",
       "      <td>434.624738</td>\n",
       "      <td>79.724047</td>\n",
       "      <td>39.751636</td>\n",
       "      <td>0.076131</td>\n",
       "      <td>0.127405</td>\n",
       "      <td>4100.849961</td>\n",
       "    </tr>\n",
       "    <tr>\n",
       "      <th>min</th>\n",
       "      <td>1.000000</td>\n",
       "      <td>2.750000e+05</td>\n",
       "      <td>2.400000</td>\n",
       "      <td>3011.000000</td>\n",
       "      <td>1.000000</td>\n",
       "      <td>1.000000</td>\n",
       "      <td>0.000000</td>\n",
       "      <td>0.000000</td>\n",
       "      <td>35.000000</td>\n",
       "      <td>1890.000000</td>\n",
       "      <td>-38.099950</td>\n",
       "      <td>144.609770</td>\n",
       "      <td>962.000000</td>\n",
       "    </tr>\n",
       "    <tr>\n",
       "      <th>25%</th>\n",
       "      <td>3.000000</td>\n",
       "      <td>6.888750e+05</td>\n",
       "      <td>5.200000</td>\n",
       "      <td>3032.000000</td>\n",
       "      <td>2.250000</td>\n",
       "      <td>1.000000</td>\n",
       "      <td>1.000000</td>\n",
       "      <td>208.500000</td>\n",
       "      <td>101.750000</td>\n",
       "      <td>1930.000000</td>\n",
       "      <td>-37.861365</td>\n",
       "      <td>144.908150</td>\n",
       "      <td>5164.500000</td>\n",
       "    </tr>\n",
       "    <tr>\n",
       "      <th>50%</th>\n",
       "      <td>3.000000</td>\n",
       "      <td>9.435000e+05</td>\n",
       "      <td>6.400000</td>\n",
       "      <td>3056.000000</td>\n",
       "      <td>3.000000</td>\n",
       "      <td>2.000000</td>\n",
       "      <td>2.000000</td>\n",
       "      <td>450.500000</td>\n",
       "      <td>139.000000</td>\n",
       "      <td>1970.000000</td>\n",
       "      <td>-37.778100</td>\n",
       "      <td>144.958350</td>\n",
       "      <td>6567.000000</td>\n",
       "    </tr>\n",
       "    <tr>\n",
       "      <th>75%</th>\n",
       "      <td>4.000000</td>\n",
       "      <td>1.272000e+06</td>\n",
       "      <td>14.000000</td>\n",
       "      <td>3132.500000</td>\n",
       "      <td>4.000000</td>\n",
       "      <td>2.000000</td>\n",
       "      <td>2.000000</td>\n",
       "      <td>639.500000</td>\n",
       "      <td>175.750000</td>\n",
       "      <td>2004.000000</td>\n",
       "      <td>-37.772800</td>\n",
       "      <td>145.023403</td>\n",
       "      <td>10579.000000</td>\n",
       "    </tr>\n",
       "    <tr>\n",
       "      <th>max</th>\n",
       "      <td>8.000000</td>\n",
       "      <td>2.950000e+06</td>\n",
       "      <td>35.400000</td>\n",
       "      <td>3752.000000</td>\n",
       "      <td>9.000000</td>\n",
       "      <td>7.000000</td>\n",
       "      <td>4.000000</td>\n",
       "      <td>2905.000000</td>\n",
       "      <td>618.000000</td>\n",
       "      <td>2017.000000</td>\n",
       "      <td>-37.576810</td>\n",
       "      <td>145.299590</td>\n",
       "      <td>21650.000000</td>\n",
       "    </tr>\n",
       "  </tbody>\n",
       "</table>\n",
       "</div>"
      ],
      "text/plain": [
       "            Rooms         Price    Distance     Postcode    Bedroom2  \\\n",
       "count  110.000000  1.100000e+02  110.000000   110.000000  110.000000   \n",
       "mean     3.081818  1.011146e+06   10.210000  3083.490909    3.081818   \n",
       "std      0.968606  5.049120e+05    6.508653    90.533561    1.023860   \n",
       "min      1.000000  2.750000e+05    2.400000  3011.000000    1.000000   \n",
       "25%      3.000000  6.888750e+05    5.200000  3032.000000    2.250000   \n",
       "50%      3.000000  9.435000e+05    6.400000  3056.000000    3.000000   \n",
       "75%      4.000000  1.272000e+06   14.000000  3132.500000    4.000000   \n",
       "max      8.000000  2.950000e+06   35.400000  3752.000000    9.000000   \n",
       "\n",
       "         Bathroom         Car     Landsize  BuildingArea    YearBuilt  \\\n",
       "count  110.000000  110.000000   110.000000    110.000000   110.000000   \n",
       "mean     1.672727    1.609091   488.327273    149.456818  1964.009091   \n",
       "std      0.791110    0.919667   434.624738     79.724047    39.751636   \n",
       "min      1.000000    0.000000     0.000000     35.000000  1890.000000   \n",
       "25%      1.000000    1.000000   208.500000    101.750000  1930.000000   \n",
       "50%      2.000000    2.000000   450.500000    139.000000  1970.000000   \n",
       "75%      2.000000    2.000000   639.500000    175.750000  2004.000000   \n",
       "max      7.000000    4.000000  2905.000000    618.000000  2017.000000   \n",
       "\n",
       "        Lattitude  Longtitude  Propertycount  \n",
       "count  110.000000  110.000000     110.000000  \n",
       "mean   -37.805117  144.963558    7644.827273  \n",
       "std      0.076131    0.127405    4100.849961  \n",
       "min    -38.099950  144.609770     962.000000  \n",
       "25%    -37.861365  144.908150    5164.500000  \n",
       "50%    -37.778100  144.958350    6567.000000  \n",
       "75%    -37.772800  145.023403   10579.000000  \n",
       "max    -37.576810  145.299590   21650.000000  "
      ]
     },
     "execution_count": 6,
     "metadata": {},
     "output_type": "execute_result"
    }
   ],
   "source": [
    "#Getting summary statistics of numeric variables\n",
    "data.describe()"
   ]
  },
  {
   "cell_type": "code",
   "execution_count": 155,
   "metadata": {},
   "outputs": [
    {
     "name": "stderr",
     "output_type": "stream",
     "text": [
      "C:\\Users\\psargsyan\\Anaconda3\\lib\\site-packages\\scipy\\stats\\stats.py:1713: FutureWarning: Using a non-tuple sequence for multidimensional indexing is deprecated; use `arr[tuple(seq)]` instead of `arr[seq]`. In the future this will be interpreted as an array index, `arr[np.array(seq)]`, which will result either in an error or a different result.\n",
      "  return np.add.reduce(sorted[indexer] * weights, axis=axis) / sumval\n"
     ]
    },
    {
     "data": {
      "image/png": "[encoded data removed]",
      "text/plain": [
       "<Figure size 432x288 with 1 Axes>"
      ]
     },
     "metadata": {
      "needs_background": "light"
     },
     "output_type": "display_data"
    }
   ],
   "source": [
    "#for pdays the histogram has this shape as missing values were coded to very high number-999 for this case\n",
    "#this is another approach of handling missing values in dataset\n",
    "sns.distplot(data.Price)\n",
    "plt.show()"
   ]
  },
  {
   "cell_type": "code",
   "execution_count": 156,
   "metadata": {},
   "outputs": [
    {
     "data": {
      "image/png": "[encoded data removed]",
      "text/plain": [
       "<Figure size 432x288 with 1 Axes>"
      ]
     },
     "metadata": {
      "needs_background": "light"
     },
     "output_type": "display_data"
    }
   ],
   "source": [
    "plt.hist(data.Rooms)\n",
    "plt.show()"
   ]
  },
  {
   "cell_type": "code",
   "execution_count": 11,
   "metadata": {
    "scrolled": false
   },
   "outputs": [
    {
     "name": "stdout",
     "output_type": "stream",
     "text": [
      "Suburb \n",
      " Ascot Vale          25\n",
      "Brunswick           16\n",
      "Ashburton            8\n",
      "Brunswick East       5\n",
      "Point Cook           3\n",
      "Werribee             2\n",
      "Taylors Hill         2\n",
      "Sunshine West        2\n",
      "Brighton             2\n",
      "Broadmeadows         2\n",
      "Altona               2\n",
      "Oakleigh South       2\n",
      "Toorak               2\n",
      "Wheelers Hill        2\n",
      "Reservoir            2\n",
      "Richmond             2\n",
      "Yarraville           2\n",
      "Boronia              2\n",
      "Roxburgh Park        2\n",
      "Bayswater North      1\n",
      "Seaford              1\n",
      "Brunswick West       1\n",
      "Sunbury              1\n",
      "Parkdale             1\n",
      "South Morang         1\n",
      "Blackburn North      1\n",
      "Blackburn            1\n",
      "Seddon               1\n",
      "Thomastown           1\n",
      "Nunawading           1\n",
      "Surrey Hills         1\n",
      "Preston              1\n",
      "Seabrook             1\n",
      "Vermont              1\n",
      "Ringwood North       1\n",
      "Brighton East        1\n",
      "West Footscray       1\n",
      "Wyndham Vale         1\n",
      "Brooklyn             1\n",
      "Balwyn               1\n",
      "Aspendale            1\n",
      "Avondale Heights     1\n",
      "Ashwood              1\n",
      "Altona North         1\n",
      "Name: Suburb, dtype: int64 \n",
      " \n",
      "\n",
      "--------------------\n",
      "Address \n",
      " 102 Empress Rd         1\n",
      "24/157 Epsom Rd        1\n",
      "9 Thompson St          1\n",
      "338 Huntingdale Rd     1\n",
      "164 Blyth St           1\n",
      "2/111 Victoria St      1\n",
      "12/9 Milton St         1\n",
      "92 Winmalee Rd         1\n",
      "21 Middle St           1\n",
      "7 Dalgety Dr           1\n",
      "22 Hickford St         1\n",
      "58 Bloomfield Rd       1\n",
      "25 Geddes St           1\n",
      "51 Bay St              1\n",
      "1/1 Nairn St           1\n",
      "2 Daley St             1\n",
      "22 Margaret St         1\n",
      "6 Waller Ct            1\n",
      "3 Devenish Rd          1\n",
      "5 Linden St            1\n",
      "18 Eva Ct              1\n",
      "3/39 Solway St         1\n",
      "5 Amalfi Ct            1\n",
      "44 Walter St           1\n",
      "10 Bennie St           1\n",
      "17 Ascot St            1\n",
      "3/8 Walter St          1\n",
      "65 Sargood St          1\n",
      "38 Edward St           1\n",
      "3 Gladys St            1\n",
      "                      ..\n",
      "2/199 Barkly St        1\n",
      "4/27 Roseberry St      1\n",
      "35 Lowe Av             1\n",
      "5 Cornish St           1\n",
      "3 Frankston St         1\n",
      "37 Roxburgh St         1\n",
      "13 Goodman St          1\n",
      "1 Coonara Av           1\n",
      "21 Rushcutters Pl      1\n",
      "6/14 Woorigoleen Rd    1\n",
      "6 Melliodora Ct        1\n",
      "3 Jensen Ct            1\n",
      "19 Kooringa Cr         1\n",
      "3 Argyle Cr            1\n",
      "37 Stanhope St         1\n",
      "21 Dean St             1\n",
      "115 Ashburn Gr         1\n",
      "46 Dingo St            1\n",
      "2/15 De Carle St       1\n",
      "83 Gresham Wy          1\n",
      "1/20 Newsom St         1\n",
      "11 Manhattan Sq        1\n",
      "10 Kiewa St            1\n",
      "7/200 Albion St        1\n",
      "44 Neptune St          1\n",
      "7/36 Union St          1\n",
      "1 East St              1\n",
      "43 Bloomfield Rd       1\n",
      "1/91 Epsom Rd          1\n",
      "2/139 Union St         1\n",
      "Name: Address, Length: 110, dtype: int64 \n",
      " \n",
      "\n",
      "--------------------\n",
      "Type \n",
      " h    81\n",
      "u    20\n",
      "t     9\n",
      "Name: Type, dtype: int64 \n",
      " \n",
      "\n",
      "--------------------\n",
      "Method \n",
      " S     75\n",
      "SP    15\n",
      "PI    14\n",
      "VB     6\n",
      "Name: Method, dtype: int64 \n",
      " \n",
      "\n",
      "--------------------\n",
      "SellerG \n",
      " Jellis           22\n",
      "Nelson           17\n",
      "YPA               6\n",
      "Barry             6\n",
      "hockingstuart     6\n",
      "Brad              5\n",
      "Buxton            4\n",
      "Woodards          3\n",
      "Ray               3\n",
      "Fletchers         3\n",
      "LJ                3\n",
      "Marshall          3\n",
      "HAR               2\n",
      "Alexkarbon        2\n",
      "iTRAK             2\n",
      "McDonald          2\n",
      "Barlow            2\n",
      "Greg              1\n",
      "Caine             1\n",
      "Purplebricks      1\n",
      "Jas               1\n",
      "Thomson           1\n",
      "RT                1\n",
      "Pagan             1\n",
      "Scott             1\n",
      "Walshe            1\n",
      "Castran           1\n",
      "S&L               1\n",
      "Gary              1\n",
      "Sweeney           1\n",
      "Harcourts         1\n",
      "Moonee            1\n",
      "Jason             1\n",
      "O'Brien           1\n",
      "Hoskins           1\n",
      "Stockdale         1\n",
      "Name: SellerG, dtype: int64 \n",
      " \n",
      "\n",
      "--------------------\n",
      "Date \n",
      " 2017-07-10 00:00:00    25\n",
      "15/07/2017             23\n",
      "2017-12-08 00:00:00    12\n",
      "13/05/2017              6\n",
      "2017-08-04 00:00:00     6\n",
      "2017-06-05 00:00:00     3\n",
      "26/07/2016              3\n",
      "25/02/2017              3\n",
      "19/11/2016              3\n",
      "24/09/2016              2\n",
      "2016-10-09 00:00:00     2\n",
      "28/08/2016              2\n",
      "2016-03-12 00:00:00     2\n",
      "20/05/2017              2\n",
      "27/06/2016              2\n",
      "22/04/2017              2\n",
      "2016-08-10 00:00:00     2\n",
      "2016-03-09 00:00:00     1\n",
      "28/05/2016              1\n",
      "18/06/2016              1\n",
      "22/05/2016              1\n",
      "18/03/2017              1\n",
      "27/11/2016              1\n",
      "29/04/2017              1\n",
      "23/04/2016              1\n",
      "2016-04-06 00:00:00     1\n",
      "30/07/2016              1\n",
      "Name: Date, dtype: int64 \n",
      " \n",
      "\n",
      "--------------------\n",
      "CouncilArea \n",
      " Moonee Valley City Council    26\n",
      "Moreland City Council         22\n",
      "Boroondara City Council       10\n",
      "Wyndham City Council           6\n",
      "Hume City Council              5\n",
      "Maribyrnong City Council       4\n",
      "Hobsons Bay City Council       4\n",
      "Kingston City Council          4\n",
      "Bayside City Council           3\n",
      "Darebin City Council           3\n",
      "Brimbank City Council          3\n",
      "Monash City Council            3\n",
      "Whitehorse City Council        2\n",
      "Maroondah City Council         2\n",
      "Melton City Council            2\n",
      "Whittlesea City Council        2\n",
      "Manningham City Council        2\n",
      "Knox City Council              2\n",
      "Stonnington City Council       2\n",
      "Yarra City Council             2\n",
      "Frankston City Council         1\n",
      "Name: CouncilArea, dtype: int64 \n",
      " \n",
      "\n",
      "--------------------\n",
      "Regionname \n",
      " Western Metropolitan          46\n",
      "Northern Metropolitan         33\n",
      "Southern Metropolitan         16\n",
      "Eastern Metropolitan           8\n",
      "South-Eastern Metropolitan     7\n",
      "Name: Regionname, dtype: int64 \n",
      " \n",
      "\n",
      "--------------------\n"
     ]
    }
   ],
   "source": [
    "#let's see categories and number of observations in each category for object variables\n",
    "for i in data.select_dtypes(include=\"object\").columns:\n",
    "    j=data[i].value_counts()\n",
    "    print(i,\"\\n\",j,\"\\n\",\"\\n\")\n",
    "    print(\"--------------------\")"
   ]
  },
  {
   "cell_type": "code",
   "execution_count": 12,
   "metadata": {},
   "outputs": [],
   "source": [
    "data.drop([\"Suburb\",\"Address\",\"SellerG\",\"Date\",\"CouncilArea\",'Postcode'],axis=1,inplace=True)"
   ]
  },
  {
   "cell_type": "code",
   "execution_count": 15,
   "metadata": {
    "scrolled": false
   },
   "outputs": [
    {
     "data": {
      "image/png": "[encoded data removed]",
      "text/plain": [
       "<Figure size 432x288 with 1 Axes>"
      ]
     },
     "metadata": {
      "needs_background": "light"
     },
     "output_type": "display_data"
    },
    {
     "data": {
      "image/png": "[encoded data removed]",
      "text/plain": [
       "<Figure size 432x288 with 1 Axes>"
      ]
     },
     "metadata": {
      "needs_background": "light"
     },
     "output_type": "display_data"
    },
    {
     "data": {
      "image/png": "[encoded data removed]",
      "text/plain": [
       "<Figure size 432x288 with 1 Axes>"
      ]
     },
     "metadata": {
      "needs_background": "light"
     },
     "output_type": "display_data"
    },
    {
     "data": {
      "image/png": "[encoded data removed]",
      "text/plain": [
       "<Figure size 432x288 with 1 Axes>"
      ]
     },
     "metadata": {
      "needs_background": "light"
     },
     "output_type": "display_data"
    },
    {
     "data": {
      "image/png": "[encoded data removed]",
      "text/plain": [
       "<Figure size 432x288 with 1 Axes>"
      ]
     },
     "metadata": {
      "needs_background": "light"
     },
     "output_type": "display_data"
    },
    {
     "data": {
      "image/png": "[encoded data removed]",
      "text/plain": [
       "<Figure size 432x288 with 1 Axes>"
      ]
     },
     "metadata": {
      "needs_background": "light"
     },
     "output_type": "display_data"
    },
    {
     "data": {
      "image/png": "[encoded data removed]",
      "text/plain": [
       "<Figure size 432x288 with 1 Axes>"
      ]
     },
     "metadata": {
      "needs_background": "light"
     },
     "output_type": "display_data"
    },
    {
     "data": {
      "image/png": "[encoded data removed]",
      "text/plain": [
       "<Figure size 432x288 with 1 Axes>"
      ]
     },
     "metadata": {
      "needs_background": "light"
     },
     "output_type": "display_data"
    },
    {
     "data": {
      "image/png": "[encoded data removed]",
      "text/plain": [
       "<Figure size 432x288 with 1 Axes>"
      ]
     },
     "metadata": {
      "needs_background": "light"
     },
     "output_type": "display_data"
    },
    {
     "data": {
      "image/png": "[encoded data removed]",
      "text/plain": [
       "<Figure size 432x288 with 1 Axes>"
      ]
     },
     "metadata": {
      "needs_background": "light"
     },
     "output_type": "display_data"
    },
    {
     "data": {
      "image/png": "[encoded data removed]",
      "text/plain": [
       "<Figure size 432x288 with 1 Axes>"
      ]
     },
     "metadata": {
      "needs_background": "light"
     },
     "output_type": "display_data"
    },
    {
     "data": {
      "image/png": "[encoded data removed]",
      "text/plain": [
       "<Figure size 432x288 with 1 Axes>"
      ]
     },
     "metadata": {
      "needs_background": "light"
     },
     "output_type": "display_data"
    }
   ],
   "source": [
    "#observe outliers visually\n",
    "for i in data.select_dtypes(exclude=\"object\").columns:\n",
    "  plt.boxplot(data[i])\n",
    "  plt.title(i)\n",
    "  plt.show()"
   ]
  },
  {
   "cell_type": "code",
   "execution_count": 16,
   "metadata": {},
   "outputs": [
    {
     "data": {
      "text/plain": [
       "Rooms            False\n",
       "Price            False\n",
       "Distance         False\n",
       "Bedroom2         False\n",
       "Bathroom         False\n",
       "Car              False\n",
       "Landsize         False\n",
       "BuildingArea     False\n",
       "YearBuilt        False\n",
       "Lattitude        False\n",
       "Longtitude       False\n",
       "Propertycount    False\n",
       "dtype: bool"
      ]
     },
     "execution_count": 16,
     "metadata": {},
     "output_type": "execute_result"
    }
   ],
   "source": [
    "#let's check variables with zero variance(i.e. we have same values for all observations), \n",
    "#if there is any we will not include in our further analysis\n",
    "data.var()==0"
   ]
  },
  {
   "cell_type": "markdown",
   "metadata": {},
   "source": [
    "# Checking for correlations"
   ]
  },
  {
   "cell_type": "code",
   "execution_count": 17,
   "metadata": {},
   "outputs": [
    {
     "data": {
      "text/html": [
       "<div>\n",
       "<style scoped>\n",
       "    .dataframe tbody tr th:only-of-type {\n",
       "        vertical-align: middle;\n",
       "    }\n",
       "\n",
       "    .dataframe tbody tr th {\n",
       "        vertical-align: top;\n",
       "    }\n",
       "\n",
       "    .dataframe thead th {\n",
       "        text-align: right;\n",
       "    }\n",
       "</style>\n",
       "<table border=\"1\" class=\"dataframe\">\n",
       "  <thead>\n",
       "    <tr style=\"text-align: right;\">\n",
       "      <th></th>\n",
       "      <th>Rooms</th>\n",
       "      <th>Price</th>\n",
       "      <th>Distance</th>\n",
       "      <th>Bedroom2</th>\n",
       "      <th>Bathroom</th>\n",
       "      <th>Car</th>\n",
       "      <th>Landsize</th>\n",
       "      <th>BuildingArea</th>\n",
       "      <th>YearBuilt</th>\n",
       "      <th>Lattitude</th>\n",
       "      <th>Longtitude</th>\n",
       "      <th>Propertycount</th>\n",
       "    </tr>\n",
       "  </thead>\n",
       "  <tbody>\n",
       "    <tr>\n",
       "      <th>Rooms</th>\n",
       "      <td>1.000000</td>\n",
       "      <td>0.496441</td>\n",
       "      <td>0.322496</td>\n",
       "      <td>0.992288</td>\n",
       "      <td>0.693759</td>\n",
       "      <td>0.427596</td>\n",
       "      <td>0.289627</td>\n",
       "      <td>0.743288</td>\n",
       "      <td>0.171059</td>\n",
       "      <td>-0.134637</td>\n",
       "      <td>0.041580</td>\n",
       "      <td>-0.094804</td>\n",
       "    </tr>\n",
       "    <tr>\n",
       "      <th>Price</th>\n",
       "      <td>0.496441</td>\n",
       "      <td>1.000000</td>\n",
       "      <td>-0.141503</td>\n",
       "      <td>0.498843</td>\n",
       "      <td>0.570595</td>\n",
       "      <td>0.329081</td>\n",
       "      <td>0.041088</td>\n",
       "      <td>0.628836</td>\n",
       "      <td>-0.202424</td>\n",
       "      <td>-0.206153</td>\n",
       "      <td>0.320891</td>\n",
       "      <td>-0.134389</td>\n",
       "    </tr>\n",
       "    <tr>\n",
       "      <th>Distance</th>\n",
       "      <td>0.322496</td>\n",
       "      <td>-0.141503</td>\n",
       "      <td>1.000000</td>\n",
       "      <td>0.312113</td>\n",
       "      <td>0.133916</td>\n",
       "      <td>0.334017</td>\n",
       "      <td>0.244377</td>\n",
       "      <td>0.220520</td>\n",
       "      <td>0.308820</td>\n",
       "      <td>-0.262469</td>\n",
       "      <td>0.188707</td>\n",
       "      <td>-0.085765</td>\n",
       "    </tr>\n",
       "    <tr>\n",
       "      <th>Bedroom2</th>\n",
       "      <td>0.992288</td>\n",
       "      <td>0.498843</td>\n",
       "      <td>0.312113</td>\n",
       "      <td>1.000000</td>\n",
       "      <td>0.724278</td>\n",
       "      <td>0.433750</td>\n",
       "      <td>0.298613</td>\n",
       "      <td>0.753977</td>\n",
       "      <td>0.186398</td>\n",
       "      <td>-0.138682</td>\n",
       "      <td>0.050343</td>\n",
       "      <td>-0.097368</td>\n",
       "    </tr>\n",
       "    <tr>\n",
       "      <th>Bathroom</th>\n",
       "      <td>0.693759</td>\n",
       "      <td>0.570595</td>\n",
       "      <td>0.133916</td>\n",
       "      <td>0.724278</td>\n",
       "      <td>1.000000</td>\n",
       "      <td>0.427814</td>\n",
       "      <td>0.187223</td>\n",
       "      <td>0.765947</td>\n",
       "      <td>0.335585</td>\n",
       "      <td>-0.208506</td>\n",
       "      <td>0.108217</td>\n",
       "      <td>-0.175644</td>\n",
       "    </tr>\n",
       "    <tr>\n",
       "      <th>Car</th>\n",
       "      <td>0.427596</td>\n",
       "      <td>0.329081</td>\n",
       "      <td>0.334017</td>\n",
       "      <td>0.433750</td>\n",
       "      <td>0.427814</td>\n",
       "      <td>1.000000</td>\n",
       "      <td>0.311213</td>\n",
       "      <td>0.487816</td>\n",
       "      <td>0.317550</td>\n",
       "      <td>-0.141732</td>\n",
       "      <td>0.129748</td>\n",
       "      <td>-0.102099</td>\n",
       "    </tr>\n",
       "    <tr>\n",
       "      <th>Landsize</th>\n",
       "      <td>0.289627</td>\n",
       "      <td>0.041088</td>\n",
       "      <td>0.244377</td>\n",
       "      <td>0.298613</td>\n",
       "      <td>0.187223</td>\n",
       "      <td>0.311213</td>\n",
       "      <td>1.000000</td>\n",
       "      <td>0.284929</td>\n",
       "      <td>0.172289</td>\n",
       "      <td>0.011771</td>\n",
       "      <td>0.120962</td>\n",
       "      <td>-0.044187</td>\n",
       "    </tr>\n",
       "    <tr>\n",
       "      <th>BuildingArea</th>\n",
       "      <td>0.743288</td>\n",
       "      <td>0.628836</td>\n",
       "      <td>0.220520</td>\n",
       "      <td>0.753977</td>\n",
       "      <td>0.765947</td>\n",
       "      <td>0.487816</td>\n",
       "      <td>0.284929</td>\n",
       "      <td>1.000000</td>\n",
       "      <td>0.285590</td>\n",
       "      <td>-0.197247</td>\n",
       "      <td>0.144594</td>\n",
       "      <td>-0.150502</td>\n",
       "    </tr>\n",
       "    <tr>\n",
       "      <th>YearBuilt</th>\n",
       "      <td>0.171059</td>\n",
       "      <td>-0.202424</td>\n",
       "      <td>0.308820</td>\n",
       "      <td>0.186398</td>\n",
       "      <td>0.335585</td>\n",
       "      <td>0.317550</td>\n",
       "      <td>0.172289</td>\n",
       "      <td>0.285590</td>\n",
       "      <td>1.000000</td>\n",
       "      <td>-0.085505</td>\n",
       "      <td>-0.133707</td>\n",
       "      <td>-0.118076</td>\n",
       "    </tr>\n",
       "    <tr>\n",
       "      <th>Lattitude</th>\n",
       "      <td>-0.134637</td>\n",
       "      <td>-0.206153</td>\n",
       "      <td>-0.262469</td>\n",
       "      <td>-0.138682</td>\n",
       "      <td>-0.208506</td>\n",
       "      <td>-0.141732</td>\n",
       "      <td>0.011771</td>\n",
       "      <td>-0.197247</td>\n",
       "      <td>-0.085505</td>\n",
       "      <td>1.000000</td>\n",
       "      <td>-0.248674</td>\n",
       "      <td>0.149609</td>\n",
       "    </tr>\n",
       "    <tr>\n",
       "      <th>Longtitude</th>\n",
       "      <td>0.041580</td>\n",
       "      <td>0.320891</td>\n",
       "      <td>0.188707</td>\n",
       "      <td>0.050343</td>\n",
       "      <td>0.108217</td>\n",
       "      <td>0.129748</td>\n",
       "      <td>0.120962</td>\n",
       "      <td>0.144594</td>\n",
       "      <td>-0.133707</td>\n",
       "      <td>-0.248674</td>\n",
       "      <td>1.000000</td>\n",
       "      <td>-0.209872</td>\n",
       "    </tr>\n",
       "    <tr>\n",
       "      <th>Propertycount</th>\n",
       "      <td>-0.094804</td>\n",
       "      <td>-0.134389</td>\n",
       "      <td>-0.085765</td>\n",
       "      <td>-0.097368</td>\n",
       "      <td>-0.175644</td>\n",
       "      <td>-0.102099</td>\n",
       "      <td>-0.044187</td>\n",
       "      <td>-0.150502</td>\n",
       "      <td>-0.118076</td>\n",
       "      <td>0.149609</td>\n",
       "      <td>-0.209872</td>\n",
       "      <td>1.000000</td>\n",
       "    </tr>\n",
       "  </tbody>\n",
       "</table>\n",
       "</div>"
      ],
      "text/plain": [
       "                  Rooms     Price  Distance  Bedroom2  Bathroom       Car  \\\n",
       "Rooms          1.000000  0.496441  0.322496  0.992288  0.693759  0.427596   \n",
       "Price          0.496441  1.000000 -0.141503  0.498843  0.570595  0.329081   \n",
       "Distance       0.322496 -0.141503  1.000000  0.312113  0.133916  0.334017   \n",
       "Bedroom2       0.992288  0.498843  0.312113  1.000000  0.724278  0.433750   \n",
       "Bathroom       0.693759  0.570595  0.133916  0.724278  1.000000  0.427814   \n",
       "Car            0.427596  0.329081  0.334017  0.433750  0.427814  1.000000   \n",
       "Landsize       0.289627  0.041088  0.244377  0.298613  0.187223  0.311213   \n",
       "BuildingArea   0.743288  0.628836  0.220520  0.753977  0.765947  0.487816   \n",
       "YearBuilt      0.171059 -0.202424  0.308820  0.186398  0.335585  0.317550   \n",
       "Lattitude     -0.134637 -0.206153 -0.262469 -0.138682 -0.208506 -0.141732   \n",
       "Longtitude     0.041580  0.320891  0.188707  0.050343  0.108217  0.129748   \n",
       "Propertycount -0.094804 -0.134389 -0.085765 -0.097368 -0.175644 -0.102099   \n",
       "\n",
       "               Landsize  BuildingArea  YearBuilt  Lattitude  Longtitude  \\\n",
       "Rooms          0.289627      0.743288   0.171059  -0.134637    0.041580   \n",
       "Price          0.041088      0.628836  -0.202424  -0.206153    0.320891   \n",
       "Distance       0.244377      0.220520   0.308820  -0.262469    0.188707   \n",
       "Bedroom2       0.298613      0.753977   0.186398  -0.138682    0.050343   \n",
       "Bathroom       0.187223      0.765947   0.335585  -0.208506    0.108217   \n",
       "Car            0.311213      0.487816   0.317550  -0.141732    0.129748   \n",
       "Landsize       1.000000      0.284929   0.172289   0.011771    0.120962   \n",
       "BuildingArea   0.284929      1.000000   0.285590  -0.197247    0.144594   \n",
       "YearBuilt      0.172289      0.285590   1.000000  -0.085505   -0.133707   \n",
       "Lattitude      0.011771     -0.197247  -0.085505   1.000000   -0.248674   \n",
       "Longtitude     0.120962      0.144594  -0.133707  -0.248674    1.000000   \n",
       "Propertycount -0.044187     -0.150502  -0.118076   0.149609   -0.209872   \n",
       "\n",
       "               Propertycount  \n",
       "Rooms              -0.094804  \n",
       "Price              -0.134389  \n",
       "Distance           -0.085765  \n",
       "Bedroom2           -0.097368  \n",
       "Bathroom           -0.175644  \n",
       "Car                -0.102099  \n",
       "Landsize           -0.044187  \n",
       "BuildingArea       -0.150502  \n",
       "YearBuilt          -0.118076  \n",
       "Lattitude           0.149609  \n",
       "Longtitude         -0.209872  \n",
       "Propertycount       1.000000  "
      ]
     },
     "execution_count": 17,
     "metadata": {},
     "output_type": "execute_result"
    }
   ],
   "source": [
    "data.corr()"
   ]
  },
  {
   "cell_type": "code",
   "execution_count": 18,
   "metadata": {},
   "outputs": [
    {
     "data": {
      "image/png": "[encoded data removed]",
      "text/plain": [
       "<Figure size 576x432 with 2 Axes>"
      ]
     },
     "metadata": {
      "needs_background": "light"
     },
     "output_type": "display_data"
    }
   ],
   "source": [
    "plt.figure(figsize=(8,6))\n",
    "sns.heatmap(data.corr().abs().round(2), annot=True)\n",
    "plt.show()"
   ]
  },
  {
   "cell_type": "code",
   "execution_count": 19,
   "metadata": {},
   "outputs": [],
   "source": [
    "#let's one of the \\highly correlated variables\n",
    "data.drop(\"BuildingArea\",axis=1,inplace=True)"
   ]
  },
  {
   "cell_type": "code",
   "execution_count": 20,
   "metadata": {},
   "outputs": [
    {
     "data": {
      "image/png": "[encoded data removed]",
      "text/plain": [
       "<Figure size 576x432 with 2 Axes>"
      ]
     },
     "metadata": {
      "needs_background": "light"
     },
     "output_type": "display_data"
    }
   ],
   "source": [
    "plt.figure(figsize=(8,6))\n",
    "sns.heatmap(data.corr().abs().round(2), annot=True)\n",
    "plt.show()"
   ]
  },
  {
   "cell_type": "markdown",
   "metadata": {},
   "source": [
    "<b>Ater dropping \"BuildingArea\" we see that there is no correlation coefficient higher than 0.75 so won't exclude any other variable.</b>"
   ]
  },
  {
   "cell_type": "code",
   "execution_count": 22,
   "metadata": {},
   "outputs": [
    {
     "data": {
      "image/png": "[encoded data removed]",
      "text/plain": [
       "<Figure size 432x288 with 1 Axes>"
      ]
     },
     "metadata": {
      "needs_background": "light"
     },
     "output_type": "display_data"
    }
   ],
   "source": [
    "#let's visualize the relationship between price and number of rooms\n",
    "plt.scatter(data.Price,data.Rooms)\n",
    "plt.show()"
   ]
  },
  {
   "cell_type": "markdown",
   "metadata": {},
   "source": [
    "# OLS Model"
   ]
  },
  {
   "cell_type": "code",
   "execution_count": 124,
   "metadata": {},
   "outputs": [
    {
     "data": {
      "text/html": [
       "<div>\n",
       "<style scoped>\n",
       "    .dataframe tbody tr th:only-of-type {\n",
       "        vertical-align: middle;\n",
       "    }\n",
       "\n",
       "    .dataframe tbody tr th {\n",
       "        vertical-align: top;\n",
       "    }\n",
       "\n",
       "    .dataframe thead th {\n",
       "        text-align: right;\n",
       "    }\n",
       "</style>\n",
       "<table border=\"1\" class=\"dataframe\">\n",
       "  <thead>\n",
       "    <tr style=\"text-align: right;\">\n",
       "      <th></th>\n",
       "      <th>Rooms</th>\n",
       "      <th>Price</th>\n",
       "      <th>Distance</th>\n",
       "      <th>Bedroom2</th>\n",
       "      <th>Bathroom</th>\n",
       "      <th>Car</th>\n",
       "      <th>Landsize</th>\n",
       "      <th>YearBuilt</th>\n",
       "      <th>Lattitude</th>\n",
       "      <th>Longtitude</th>\n",
       "      <th>Propertycount</th>\n",
       "      <th>Type_t</th>\n",
       "      <th>Type_u</th>\n",
       "      <th>Method_S</th>\n",
       "      <th>Method_SP</th>\n",
       "      <th>Method_VB</th>\n",
       "      <th>Regionname_NorthernMetropolitan</th>\n",
       "      <th>Regionname_South-EasternMetropolitan</th>\n",
       "      <th>Regionname_SouthernMetropolitan</th>\n",
       "      <th>Regionname_WesternMetropolitan</th>\n",
       "    </tr>\n",
       "  </thead>\n",
       "  <tbody>\n",
       "    <tr>\n",
       "      <th>0</th>\n",
       "      <td>2</td>\n",
       "      <td>865000</td>\n",
       "      <td>5.9</td>\n",
       "      <td>2</td>\n",
       "      <td>2</td>\n",
       "      <td>1</td>\n",
       "      <td>146</td>\n",
       "      <td>2015</td>\n",
       "      <td>-37.7713</td>\n",
       "      <td>144.9038</td>\n",
       "      <td>6567</td>\n",
       "      <td>1</td>\n",
       "      <td>0</td>\n",
       "      <td>0</td>\n",
       "      <td>1</td>\n",
       "      <td>0</td>\n",
       "      <td>0</td>\n",
       "      <td>0</td>\n",
       "      <td>0</td>\n",
       "      <td>1</td>\n",
       "    </tr>\n",
       "    <tr>\n",
       "      <th>1</th>\n",
       "      <td>2</td>\n",
       "      <td>442000</td>\n",
       "      <td>5.9</td>\n",
       "      <td>2</td>\n",
       "      <td>1</td>\n",
       "      <td>1</td>\n",
       "      <td>0</td>\n",
       "      <td>1975</td>\n",
       "      <td>-37.7733</td>\n",
       "      <td>144.9219</td>\n",
       "      <td>6567</td>\n",
       "      <td>0</td>\n",
       "      <td>1</td>\n",
       "      <td>1</td>\n",
       "      <td>0</td>\n",
       "      <td>0</td>\n",
       "      <td>0</td>\n",
       "      <td>0</td>\n",
       "      <td>0</td>\n",
       "      <td>1</td>\n",
       "    </tr>\n",
       "    <tr>\n",
       "      <th>2</th>\n",
       "      <td>3</td>\n",
       "      <td>1037500</td>\n",
       "      <td>5.9</td>\n",
       "      <td>3</td>\n",
       "      <td>1</td>\n",
       "      <td>2</td>\n",
       "      <td>506</td>\n",
       "      <td>1920</td>\n",
       "      <td>-37.7779</td>\n",
       "      <td>144.9133</td>\n",
       "      <td>6567</td>\n",
       "      <td>0</td>\n",
       "      <td>0</td>\n",
       "      <td>1</td>\n",
       "      <td>0</td>\n",
       "      <td>0</td>\n",
       "      <td>0</td>\n",
       "      <td>0</td>\n",
       "      <td>0</td>\n",
       "      <td>1</td>\n",
       "    </tr>\n",
       "    <tr>\n",
       "      <th>3</th>\n",
       "      <td>3</td>\n",
       "      <td>1050000</td>\n",
       "      <td>5.9</td>\n",
       "      <td>3</td>\n",
       "      <td>2</td>\n",
       "      <td>2</td>\n",
       "      <td>318</td>\n",
       "      <td>2013</td>\n",
       "      <td>-37.7744</td>\n",
       "      <td>144.9035</td>\n",
       "      <td>6567</td>\n",
       "      <td>1</td>\n",
       "      <td>0</td>\n",
       "      <td>1</td>\n",
       "      <td>0</td>\n",
       "      <td>0</td>\n",
       "      <td>0</td>\n",
       "      <td>0</td>\n",
       "      <td>0</td>\n",
       "      <td>1</td>\n",
       "    </tr>\n",
       "    <tr>\n",
       "      <th>4</th>\n",
       "      <td>2</td>\n",
       "      <td>440000</td>\n",
       "      <td>5.9</td>\n",
       "      <td>2</td>\n",
       "      <td>1</td>\n",
       "      <td>1</td>\n",
       "      <td>0</td>\n",
       "      <td>1970</td>\n",
       "      <td>-37.7749</td>\n",
       "      <td>144.9137</td>\n",
       "      <td>6567</td>\n",
       "      <td>0</td>\n",
       "      <td>1</td>\n",
       "      <td>1</td>\n",
       "      <td>0</td>\n",
       "      <td>0</td>\n",
       "      <td>0</td>\n",
       "      <td>0</td>\n",
       "      <td>0</td>\n",
       "      <td>1</td>\n",
       "    </tr>\n",
       "  </tbody>\n",
       "</table>\n",
       "</div>"
      ],
      "text/plain": [
       "   Rooms    Price  Distance  Bedroom2  Bathroom  Car  Landsize  YearBuilt  \\\n",
       "0      2   865000       5.9         2         2    1       146       2015   \n",
       "1      2   442000       5.9         2         1    1         0       1975   \n",
       "2      3  1037500       5.9         3         1    2       506       1920   \n",
       "3      3  1050000       5.9         3         2    2       318       2013   \n",
       "4      2   440000       5.9         2         1    1         0       1970   \n",
       "\n",
       "   Lattitude  Longtitude  Propertycount  Type_t  Type_u  Method_S  Method_SP  \\\n",
       "0   -37.7713    144.9038           6567       1       0         0          1   \n",
       "1   -37.7733    144.9219           6567       0       1         1          0   \n",
       "2   -37.7779    144.9133           6567       0       0         1          0   \n",
       "3   -37.7744    144.9035           6567       1       0         1          0   \n",
       "4   -37.7749    144.9137           6567       0       1         1          0   \n",
       "\n",
       "   Method_VB  Regionname_NorthernMetropolitan  \\\n",
       "0          0                                0   \n",
       "1          0                                0   \n",
       "2          0                                0   \n",
       "3          0                                0   \n",
       "4          0                                0   \n",
       "\n",
       "   Regionname_South-EasternMetropolitan  Regionname_SouthernMetropolitan  \\\n",
       "0                                     0                                0   \n",
       "1                                     0                                0   \n",
       "2                                     0                                0   \n",
       "3                                     0                                0   \n",
       "4                                     0                                0   \n",
       "\n",
       "   Regionname_WesternMetropolitan  \n",
       "0                               1  \n",
       "1                               1  \n",
       "2                               1  \n",
       "3                               1  \n",
       "4                               1  "
      ]
     },
     "execution_count": 124,
     "metadata": {},
     "output_type": "execute_result"
    }
   ],
   "source": [
    "data=pd.get_dummies(data,drop_first=True)\n",
    "data.head()"
   ]
  },
  {
   "cell_type": "code",
   "execution_count": 127,
   "metadata": {},
   "outputs": [
    {
     "name": "stdout",
     "output_type": "stream",
     "text": [
      "<class 'pandas.core.frame.DataFrame'>\n",
      "RangeIndex: 110 entries, 0 to 109\n",
      "Data columns (total 20 columns):\n",
      "Rooms                                   110 non-null int64\n",
      "Price                                   110 non-null int64\n",
      "Distance                                110 non-null float64\n",
      "Bedroom2                                110 non-null int64\n",
      "Bathroom                                110 non-null int64\n",
      "Car                                     110 non-null int64\n",
      "Landsize                                110 non-null int64\n",
      "YearBuilt                               110 non-null int64\n",
      "Lattitude                               110 non-null float64\n",
      "Longtitude                              110 non-null float64\n",
      "Propertycount                           110 non-null int64\n",
      "Type_t                                  110 non-null uint8\n",
      "Type_u                                  110 non-null uint8\n",
      "Method_S                                110 non-null uint8\n",
      "Method_SP                               110 non-null uint8\n",
      "Method_VB                               110 non-null uint8\n",
      "Regionname_NorthernMetropolitan         110 non-null uint8\n",
      "Regionname_South-EasternMetropolitan    110 non-null uint8\n",
      "Regionname_SouthernMetropolitan         110 non-null uint8\n",
      "Regionname_WesternMetropolitan          110 non-null uint8\n",
      "dtypes: float64(3), int64(8), uint8(9)\n",
      "memory usage: 10.5 KB\n"
     ]
    }
   ],
   "source": [
    "data.info()"
   ]
  },
  {
   "cell_type": "code",
   "execution_count": 135,
   "metadata": {},
   "outputs": [],
   "source": [
    "data.columns=data.columns.str.replace(\" \",\"_\")\n",
    "data.columns=data.columns.str.replace(\"-\",\"_\")"
   ]
  },
  {
   "cell_type": "code",
   "execution_count": 136,
   "metadata": {},
   "outputs": [],
   "source": [
    "var=data.columns.tolist()"
   ]
  },
  {
   "cell_type": "code",
   "execution_count": 137,
   "metadata": {},
   "outputs": [
    {
     "data": {
      "text/plain": [
       "['Rooms',\n",
       " 'Price',\n",
       " 'Distance',\n",
       " 'Bedroom2',\n",
       " 'Bathroom',\n",
       " 'Car',\n",
       " 'Landsize',\n",
       " 'YearBuilt',\n",
       " 'Lattitude',\n",
       " 'Longtitude',\n",
       " 'Propertycount',\n",
       " 'Type_t',\n",
       " 'Type_u',\n",
       " 'Method_S',\n",
       " 'Method_SP',\n",
       " 'Method_VB',\n",
       " 'Regionname_NorthernMetropolitan',\n",
       " 'Regionname_South_EasternMetropolitan',\n",
       " 'Regionname_SouthernMetropolitan',\n",
       " 'Regionname_WesternMetropolitan']"
      ]
     },
     "execution_count": 137,
     "metadata": {},
     "output_type": "execute_result"
    }
   ],
   "source": [
    "var"
   ]
  },
  {
   "cell_type": "code",
   "execution_count": 138,
   "metadata": {},
   "outputs": [],
   "source": [
    "var.remove(\"Price\")"
   ]
  },
  {
   "cell_type": "code",
   "execution_count": 139,
   "metadata": {},
   "outputs": [
    {
     "name": "stdout",
     "output_type": "stream",
     "text": [
      "['Rooms', 'Distance', 'Bedroom2', 'Bathroom', 'Car', 'Landsize', 'YearBuilt', 'Lattitude', 'Longtitude', 'Propertycount', 'Type_t', 'Type_u', 'Method_S', 'Method_SP', 'Method_VB', 'Regionname_NorthernMetropolitan', 'Regionname_South_EasternMetropolitan', 'Regionname_SouthernMetropolitan', 'Regionname_WesternMetropolitan']\n"
     ]
    }
   ],
   "source": [
    "print(var)"
   ]
  },
  {
   "cell_type": "code",
   "execution_count": 140,
   "metadata": {},
   "outputs": [
    {
     "data": {
      "text/plain": [
       "'Price~Rooms+Distance+Bedroom2+Bathroom+Car+Landsize+YearBuilt+Lattitude+Longtitude+Propertycount+Type_t+Type_u+Method_S+Method_SP+Method_VB+Regionname_NorthernMetropolitan+Regionname_South_EasternMetropolitan+Regionname_SouthernMetropolitan+Regionname_WesternMetropolitan'"
      ]
     },
     "execution_count": 140,
     "metadata": {},
     "output_type": "execute_result"
    }
   ],
   "source": [
    "#as there are many variables, not to input all manually let's create formula \n",
    "formula=\"+\".join(var)\n",
    "formula='Price~'+formula\n",
    "formula"
   ]
  },
  {
   "cell_type": "code",
   "execution_count": 141,
   "metadata": {},
   "outputs": [],
   "source": [
    "#first let's include all the explaining variables in the model(high correlated ones are already excluded)\n",
    "model_ols1=ols(formula=formula, data=data)"
   ]
  },
  {
   "cell_type": "code",
   "execution_count": 142,
   "metadata": {},
   "outputs": [
    {
     "data": {
      "text/html": [
       "<table class=\"simpletable\">\n",
       "<caption>OLS Regression Results</caption>\n",
       "<tr>\n",
       "  <th>Dep. Variable:</th>          <td>Price</td>      <th>  R-squared:         </th> <td>   0.805</td>\n",
       "</tr>\n",
       "<tr>\n",
       "  <th>Model:</th>                   <td>OLS</td>       <th>  Adj. R-squared:    </th> <td>   0.764</td>\n",
       "</tr>\n",
       "<tr>\n",
       "  <th>Method:</th>             <td>Least Squares</td>  <th>  F-statistic:       </th> <td>   19.58</td>\n",
       "</tr>\n",
       "<tr>\n",
       "  <th>Date:</th>             <td>Tue, 19 Feb 2019</td> <th>  Prob (F-statistic):</th> <td>3.93e-24</td>\n",
       "</tr>\n",
       "<tr>\n",
       "  <th>Time:</th>                 <td>17:24:44</td>     <th>  Log-Likelihood:    </th> <td> -1510.2</td>\n",
       "</tr>\n",
       "<tr>\n",
       "  <th>No. Observations:</th>      <td>   110</td>      <th>  AIC:               </th> <td>   3060.</td>\n",
       "</tr>\n",
       "<tr>\n",
       "  <th>Df Residuals:</th>          <td>    90</td>      <th>  BIC:               </th> <td>   3114.</td>\n",
       "</tr>\n",
       "<tr>\n",
       "  <th>Df Model:</th>              <td>    19</td>      <th>                     </th>     <td> </td>   \n",
       "</tr>\n",
       "<tr>\n",
       "  <th>Covariance Type:</th>      <td>nonrobust</td>    <th>                     </th>     <td> </td>   \n",
       "</tr>\n",
       "</table>\n",
       "<table class=\"simpletable\">\n",
       "<tr>\n",
       "                    <td></td>                      <th>coef</th>     <th>std err</th>      <th>t</th>      <th>P>|t|</th>  <th>[0.025</th>    <th>0.975]</th>  \n",
       "</tr>\n",
       "<tr>\n",
       "  <th>Intercept</th>                            <td>-4.302e+07</td> <td> 8.49e+07</td> <td>   -0.507</td> <td> 0.613</td> <td>-2.12e+08</td> <td> 1.26e+08</td>\n",
       "</tr>\n",
       "<tr>\n",
       "  <th>Rooms</th>                                <td> 3.356e+05</td> <td> 2.19e+05</td> <td>    1.531</td> <td> 0.129</td> <td>-9.98e+04</td> <td> 7.71e+05</td>\n",
       "</tr>\n",
       "<tr>\n",
       "  <th>Distance</th>                             <td>-3.733e+04</td> <td> 6731.346</td> <td>   -5.545</td> <td> 0.000</td> <td>-5.07e+04</td> <td> -2.4e+04</td>\n",
       "</tr>\n",
       "<tr>\n",
       "  <th>Bedroom2</th>                             <td>-2.268e+05</td> <td> 2.13e+05</td> <td>   -1.065</td> <td> 0.290</td> <td> -6.5e+05</td> <td> 1.96e+05</td>\n",
       "</tr>\n",
       "<tr>\n",
       "  <th>Bathroom</th>                             <td> 1.633e+05</td> <td> 5.84e+04</td> <td>    2.798</td> <td> 0.006</td> <td> 4.74e+04</td> <td> 2.79e+05</td>\n",
       "</tr>\n",
       "<tr>\n",
       "  <th>Car</th>                                  <td> 9.147e+04</td> <td>  3.2e+04</td> <td>    2.857</td> <td> 0.005</td> <td> 2.79e+04</td> <td> 1.55e+05</td>\n",
       "</tr>\n",
       "<tr>\n",
       "  <th>Landsize</th>                             <td>   22.0318</td> <td>   66.268</td> <td>    0.332</td> <td> 0.740</td> <td> -109.622</td> <td>  153.685</td>\n",
       "</tr>\n",
       "<tr>\n",
       "  <th>YearBuilt</th>                            <td>-2103.2052</td> <td>  842.892</td> <td>   -2.495</td> <td> 0.014</td> <td>-3777.757</td> <td> -428.654</td>\n",
       "</tr>\n",
       "<tr>\n",
       "  <th>Lattitude</th>                            <td> 5.721e+05</td> <td> 5.58e+05</td> <td>    1.024</td> <td> 0.308</td> <td>-5.37e+05</td> <td> 1.68e+06</td>\n",
       "</tr>\n",
       "<tr>\n",
       "  <th>Longtitude</th>                           <td> 4.779e+05</td> <td>  5.2e+05</td> <td>    0.919</td> <td> 0.361</td> <td>-5.56e+05</td> <td> 1.51e+06</td>\n",
       "</tr>\n",
       "<tr>\n",
       "  <th>Propertycount</th>                        <td>    8.6507</td> <td>    7.315</td> <td>    1.183</td> <td> 0.240</td> <td>   -5.882</td> <td>   23.183</td>\n",
       "</tr>\n",
       "<tr>\n",
       "  <th>Type_t</th>                               <td>-9.305e+04</td> <td> 1.08e+05</td> <td>   -0.863</td> <td> 0.391</td> <td>-3.07e+05</td> <td> 1.21e+05</td>\n",
       "</tr>\n",
       "<tr>\n",
       "  <th>Type_u</th>                               <td>-3.523e+05</td> <td> 8.99e+04</td> <td>   -3.920</td> <td> 0.000</td> <td>-5.31e+05</td> <td>-1.74e+05</td>\n",
       "</tr>\n",
       "<tr>\n",
       "  <th>Method_S</th>                             <td> 2.344e+05</td> <td> 7.86e+04</td> <td>    2.981</td> <td> 0.004</td> <td> 7.82e+04</td> <td> 3.91e+05</td>\n",
       "</tr>\n",
       "<tr>\n",
       "  <th>Method_SP</th>                            <td> 3.762e+05</td> <td> 1.05e+05</td> <td>    3.587</td> <td> 0.001</td> <td> 1.68e+05</td> <td> 5.84e+05</td>\n",
       "</tr>\n",
       "<tr>\n",
       "  <th>Method_VB</th>                            <td>  3.47e+05</td> <td> 1.32e+05</td> <td>    2.638</td> <td> 0.010</td> <td> 8.56e+04</td> <td> 6.08e+05</td>\n",
       "</tr>\n",
       "<tr>\n",
       "  <th>Regionname_NorthernMetropolitan</th>      <td>-2.765e+05</td> <td> 2.23e+05</td> <td>   -1.237</td> <td> 0.219</td> <td> -7.2e+05</td> <td> 1.67e+05</td>\n",
       "</tr>\n",
       "<tr>\n",
       "  <th>Regionname_South_EasternMetropolitan</th> <td> 1.924e+05</td> <td> 1.54e+05</td> <td>    1.251</td> <td> 0.214</td> <td>-1.13e+05</td> <td> 4.98e+05</td>\n",
       "</tr>\n",
       "<tr>\n",
       "  <th>Regionname_SouthernMetropolitan</th>      <td> 4.922e+05</td> <td> 1.65e+05</td> <td>    2.980</td> <td> 0.004</td> <td> 1.64e+05</td> <td>  8.2e+05</td>\n",
       "</tr>\n",
       "<tr>\n",
       "  <th>Regionname_WesternMetropolitan</th>       <td>-2.117e+05</td> <td> 2.51e+05</td> <td>   -0.843</td> <td> 0.401</td> <td> -7.1e+05</td> <td> 2.87e+05</td>\n",
       "</tr>\n",
       "</table>\n",
       "<table class=\"simpletable\">\n",
       "<tr>\n",
       "  <th>Omnibus:</th>       <td> 7.067</td> <th>  Durbin-Watson:     </th> <td>   2.245</td>\n",
       "</tr>\n",
       "<tr>\n",
       "  <th>Prob(Omnibus):</th> <td> 0.029</td> <th>  Jarque-Bera (JB):  </th> <td>   7.602</td>\n",
       "</tr>\n",
       "<tr>\n",
       "  <th>Skew:</th>          <td> 0.414</td> <th>  Prob(JB):          </th> <td>  0.0224</td>\n",
       "</tr>\n",
       "<tr>\n",
       "  <th>Kurtosis:</th>      <td> 3.987</td> <th>  Cond. No.          </th> <td>3.21e+07</td>\n",
       "</tr>\n",
       "</table><br/><br/>Warnings:<br/>[1] Standard Errors assume that the covariance matrix of the errors is correctly specified.<br/>[2] The condition number is large, 3.21e+07. This might indicate that there are<br/>strong multicollinearity or other numerical problems."
      ],
      "text/plain": [
       "<class 'statsmodels.iolib.summary.Summary'>\n",
       "\"\"\"\n",
       "                            OLS Regression Results                            \n",
       "==============================================================================\n",
       "Dep. Variable:                  Price   R-squared:                       0.805\n",
       "Model:                            OLS   Adj. R-squared:                  0.764\n",
       "Method:                 Least Squares   F-statistic:                     19.58\n",
       "Date:                Tue, 19 Feb 2019   Prob (F-statistic):           3.93e-24\n",
       "Time:                        17:24:44   Log-Likelihood:                -1510.2\n",
       "No. Observations:                 110   AIC:                             3060.\n",
       "Df Residuals:                      90   BIC:                             3114.\n",
       "Df Model:                          19                                         \n",
       "Covariance Type:            nonrobust                                         \n",
       "========================================================================================================\n",
       "                                           coef    std err          t      P>|t|      [0.025      0.975]\n",
       "--------------------------------------------------------------------------------------------------------\n",
       "Intercept                            -4.302e+07   8.49e+07     -0.507      0.613   -2.12e+08    1.26e+08\n",
       "Rooms                                 3.356e+05   2.19e+05      1.531      0.129   -9.98e+04    7.71e+05\n",
       "Distance                             -3.733e+04   6731.346     -5.545      0.000   -5.07e+04    -2.4e+04\n",
       "Bedroom2                             -2.268e+05   2.13e+05     -1.065      0.290    -6.5e+05    1.96e+05\n",
       "Bathroom                              1.633e+05   5.84e+04      2.798      0.006    4.74e+04    2.79e+05\n",
       "Car                                   9.147e+04    3.2e+04      2.857      0.005    2.79e+04    1.55e+05\n",
       "Landsize                                22.0318     66.268      0.332      0.740    -109.622     153.685\n",
       "YearBuilt                            -2103.2052    842.892     -2.495      0.014   -3777.757    -428.654\n",
       "Lattitude                             5.721e+05   5.58e+05      1.024      0.308   -5.37e+05    1.68e+06\n",
       "Longtitude                            4.779e+05    5.2e+05      0.919      0.361   -5.56e+05    1.51e+06\n",
       "Propertycount                            8.6507      7.315      1.183      0.240      -5.882      23.183\n",
       "Type_t                               -9.305e+04   1.08e+05     -0.863      0.391   -3.07e+05    1.21e+05\n",
       "Type_u                               -3.523e+05   8.99e+04     -3.920      0.000   -5.31e+05   -1.74e+05\n",
       "Method_S                              2.344e+05   7.86e+04      2.981      0.004    7.82e+04    3.91e+05\n",
       "Method_SP                             3.762e+05   1.05e+05      3.587      0.001    1.68e+05    5.84e+05\n",
       "Method_VB                              3.47e+05   1.32e+05      2.638      0.010    8.56e+04    6.08e+05\n",
       "Regionname_NorthernMetropolitan      -2.765e+05   2.23e+05     -1.237      0.219    -7.2e+05    1.67e+05\n",
       "Regionname_South_EasternMetropolitan  1.924e+05   1.54e+05      1.251      0.214   -1.13e+05    4.98e+05\n",
       "Regionname_SouthernMetropolitan       4.922e+05   1.65e+05      2.980      0.004    1.64e+05     8.2e+05\n",
       "Regionname_WesternMetropolitan       -2.117e+05   2.51e+05     -0.843      0.401    -7.1e+05    2.87e+05\n",
       "==============================================================================\n",
       "Omnibus:                        7.067   Durbin-Watson:                   2.245\n",
       "Prob(Omnibus):                  0.029   Jarque-Bera (JB):                7.602\n",
       "Skew:                           0.414   Prob(JB):                       0.0224\n",
       "Kurtosis:                       3.987   Cond. No.                     3.21e+07\n",
       "==============================================================================\n",
       "\n",
       "Warnings:\n",
       "[1] Standard Errors assume that the covariance matrix of the errors is correctly specified.\n",
       "[2] The condition number is large, 3.21e+07. This might indicate that there are\n",
       "strong multicollinearity or other numerical problems.\n",
       "\"\"\""
      ]
     },
     "execution_count": 142,
     "metadata": {},
     "output_type": "execute_result"
    }
   ],
   "source": [
    "#let's see the summary of the results now\n",
    "#let's look at R-squared and p-values\n",
    "results = model_ols1.fit()\n",
    "results.summary()"
   ]
  },
  {
   "cell_type": "markdown",
   "metadata": {},
   "source": [
    "# Model diagnostics"
   ]
  },
  {
   "cell_type": "markdown",
   "metadata": {},
   "source": [
    "# Cecking for Linearity and Equal variance"
   ]
  },
  {
   "cell_type": "code",
   "execution_count": 143,
   "metadata": {},
   "outputs": [],
   "source": [
    "#residuals of the model\n",
    "residuals=results.resid\n",
    "pred_values=results.predict()"
   ]
  },
  {
   "cell_type": "code",
   "execution_count": 144,
   "metadata": {},
   "outputs": [
    {
     "data": {
      "image/png": "[encoded data removed]",
      "text/plain": [
       "<Figure size 720x360 with 1 Axes>"
      ]
     },
     "metadata": {
      "needs_background": "light"
     },
     "output_type": "display_data"
    }
   ],
   "source": [
    "#lets plot predicted values vs residuals\n",
    "plt.figure(figsize=(10,5))\n",
    "plt.scatter(pred_values,residuals)\n",
    "plt.axhline(y=0, c=\"red\")\n",
    "plt.title(\"Residual vs Pred values\")\n",
    "plt.ylabel(\"Residuals\")\n",
    "plt.xlabel(\"Predicted values\")\n",
    "plt.show()"
   ]
  },
  {
   "cell_type": "code",
   "execution_count": 145,
   "metadata": {},
   "outputs": [
    {
     "data": {
      "text/plain": [
       "(1.1670943623916252, 0.31681097225732885)"
      ]
     },
     "execution_count": 145,
     "metadata": {},
     "output_type": "execute_result"
    }
   ],
   "source": [
    "linear_rainbow(results)"
   ]
  },
  {
   "cell_type": "code",
   "execution_count": 146,
   "metadata": {},
   "outputs": [
    {
     "data": {
      "text/plain": [
       "(27.00945930370873,\n",
       " 0.10443293113511168,\n",
       " 1.5416159841445245,\n",
       " 0.0903189590491281)"
      ]
     },
     "execution_count": 146,
     "metadata": {},
     "output_type": "execute_result"
    }
   ],
   "source": [
    "#Breusch-Pagan test for homoscedasticity\n",
    "#The null hypothesis assumes homoskedasticity\n",
    "#p-value<=0.05 shows that there is violation of homoscedasticity\n",
    "het_breuschpagan(residuals,model_ols1.exog)"
   ]
  },
  {
   "cell_type": "markdown",
   "metadata": {},
   "source": [
    "# Normality"
   ]
  },
  {
   "cell_type": "code",
   "execution_count": 147,
   "metadata": {},
   "outputs": [
    {
     "name": "stderr",
     "output_type": "stream",
     "text": [
      "C:\\Users\\psargsyan\\Anaconda3\\lib\\site-packages\\scipy\\stats\\stats.py:1713: FutureWarning: Using a non-tuple sequence for multidimensional indexing is deprecated; use `arr[tuple(seq)]` instead of `arr[seq]`. In the future this will be interpreted as an array index, `arr[np.array(seq)]`, which will result either in an error or a different result.\n",
      "  return np.add.reduce(sorted[indexer] * weights, axis=axis) / sumval\n"
     ]
    },
    {
     "data": {
      "image/png": "[encoded data removed]",
      "text/plain": [
       "<Figure size 432x288 with 1 Axes>"
      ]
     },
     "metadata": {
      "needs_background": "light"
     },
     "output_type": "display_data"
    }
   ],
   "source": [
    "sns.distplot(residuals)\n",
    "plt.show()"
   ]
  },
  {
   "cell_type": "code",
   "execution_count": 148,
   "metadata": {},
   "outputs": [
    {
     "data": {
      "image/png": "[encoded data removed]",
      "text/plain": [
       "<Figure size 432x288 with 1 Axes>"
      ]
     },
     "metadata": {
      "needs_background": "light"
     },
     "output_type": "display_data"
    }
   ],
   "source": [
    "#QQ plot\n",
    "qqplot(residuals,fit=True, line='45')\n",
    "plt.show()"
   ]
  },
  {
   "cell_type": "code",
   "execution_count": 149,
   "metadata": {},
   "outputs": [
    {
     "data": {
      "text/plain": [
       "(0.9775564074516296, 0.0601578913629055)"
      ]
     },
     "execution_count": 149,
     "metadata": {},
     "output_type": "execute_result"
    }
   ],
   "source": [
    "shapiro(residuals)"
   ]
  },
  {
   "cell_type": "markdown",
   "metadata": {},
   "source": [
    "# Multicollinearity"
   ]
  },
  {
   "cell_type": "code",
   "execution_count": 150,
   "metadata": {},
   "outputs": [
    {
     "name": "stdout",
     "output_type": "stream",
     "text": [
      "[915.955759068321, 9.328826619462065, 872.0165536158098, 20.395320130111408, 6.419482247932136, 3.2692557868606067, 4902.514170087078, 588566.047168176, 575941.4219239374, 7.339475427070338, 1.7344776702486, 2.6433600308612197, 7.661792839757636, 2.738658458749274, 1.7120146282823223, 8.932626289898996, 2.7542341025179455, 4.256634862603488, 9.813638035710248]\n"
     ]
    }
   ],
   "source": [
    "vif = [variance_inflation_factor(data[var].values, i) for i in range(0,len(var))]\n",
    "print(vif)"
   ]
  },
  {
   "cell_type": "code",
   "execution_count": 151,
   "metadata": {},
   "outputs": [
    {
     "name": "stdout",
     "output_type": "stream",
     "text": [
      "Rooms : 915.955759068321\n",
      "Distance : 9.328826619462065\n",
      "Bedroom2 : 872.0165536158098\n",
      "Bathroom : 20.395320130111408\n",
      "Car : 6.419482247932136\n",
      "Landsize : 3.2692557868606067\n",
      "YearBuilt : 4902.514170087078\n",
      "Lattitude : 588566.047168176\n",
      "Longtitude : 575941.4219239374\n",
      "Propertycount : 7.339475427070338\n",
      "Type_t : 1.7344776702486\n",
      "Type_u : 2.6433600308612197\n",
      "Method_S : 7.661792839757636\n",
      "Method_SP : 2.738658458749274\n",
      "Method_VB : 1.7120146282823223\n",
      "Regionname_NorthernMetropolitan : 8.932626289898996\n",
      "Regionname_South_EasternMetropolitan : 2.7542341025179455\n",
      "Regionname_SouthernMetropolitan : 4.256634862603488\n",
      "Regionname_WesternMetropolitan : 9.813638035710248\n"
     ]
    }
   ],
   "source": [
    "for i in range(0,len(var)):\n",
    "    print(var[i],\":\",vif[i])"
   ]
  },
  {
   "cell_type": "markdown",
   "metadata": {},
   "source": [
    "#  Identifying Influential Data Points: Cook's distance"
   ]
  },
  {
   "cell_type": "code",
   "execution_count": 152,
   "metadata": {},
   "outputs": [],
   "source": [
    "infl=results.get_influence()\n",
    "ck_d=infl.summary_frame().filter([\"cooks_d\"])"
   ]
  },
  {
   "cell_type": "code",
   "execution_count": 154,
   "metadata": {},
   "outputs": [
    {
     "data": {
      "image/png": "[encoded data removed]",
      "text/plain": [
       "<Figure size 576x432 with 1 Axes>"
      ]
     },
     "metadata": {
      "needs_background": "light"
     },
     "output_type": "display_data"
    }
   ],
   "source": [
    "plt.figure(figsize=(8,6))\n",
    "plt.scatter(ck_d.index,ck_d)\n",
    "plt.axhline(y=1,c=\"red\")\n",
    "plt.xticks(np.arange(min(ck_d.index), max(ck_d.index)+1,5))\n",
    "plt.show()"
   ]
  },
  {
   "cell_type": "code",
   "execution_count": null,
   "metadata": {},
   "outputs": [],
   "source": []
  }
 ],
 "metadata": {
  "kernelspec": {
   "display_name": "Python 3",
   "language": "python",
   "name": "python3"
  },
  "language_info": {
   "codemirror_mode": {
    "name": "ipython",
    "version": 3
   },
   "file_extension": ".py",
   "mimetype": "text/x-python",
   "name": "python",
   "nbconvert_exporter": "python",
   "pygments_lexer": "ipython3",
   "version": "3.7.1"
  }
 },
 "nbformat": 4,
 "nbformat_minor": 2
}
