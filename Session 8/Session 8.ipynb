{
 "cells": [
  {
   "cell_type": "code",
   "execution_count": 1,
   "metadata": {},
   "outputs": [],
   "source": [
    "import numpy as np\n",
    "import pandas as pd\n",
    "import matplotlib.pyplot as plt\n",
    "import seaborn as sns\n",
    "from statsmodels.discrete.discrete_model import Logit\n",
    "import statsmodels.tools as sm\n",
    "from scipy import stats\n",
    "from sklearn.model_selection import train_test_split\n",
    "from sklearn.metrics import confusion_matrix, roc_auc_score, roc_curve,accuracy_score"
   ]
  },
  {
   "cell_type": "code",
   "execution_count": 2,
   "metadata": {},
   "outputs": [],
   "source": [
    "data=pd.read_excel(\"Affairs.xlsx\")"
   ]
  },
  {
   "cell_type": "code",
   "execution_count": 3,
   "metadata": {},
   "outputs": [
    {
     "data": {
      "text/html": [
       "<div>\n",
       "<style scoped>\n",
       "    .dataframe tbody tr th:only-of-type {\n",
       "        vertical-align: middle;\n",
       "    }\n",
       "\n",
       "    .dataframe tbody tr th {\n",
       "        vertical-align: top;\n",
       "    }\n",
       "\n",
       "    .dataframe thead th {\n",
       "        text-align: right;\n",
       "    }\n",
       "</style>\n",
       "<table border=\"1\" class=\"dataframe\">\n",
       "  <thead>\n",
       "    <tr style=\"text-align: right;\">\n",
       "      <th></th>\n",
       "      <th>ID</th>\n",
       "      <th>affairs</th>\n",
       "      <th>gender</th>\n",
       "      <th>age</th>\n",
       "      <th>yearsmarried</th>\n",
       "      <th>children</th>\n",
       "      <th>religiousness</th>\n",
       "      <th>education</th>\n",
       "      <th>occupation</th>\n",
       "      <th>rating</th>\n",
       "    </tr>\n",
       "  </thead>\n",
       "  <tbody>\n",
       "    <tr>\n",
       "      <th>0</th>\n",
       "      <td>4</td>\n",
       "      <td>0</td>\n",
       "      <td>male</td>\n",
       "      <td>37.0</td>\n",
       "      <td>10.00</td>\n",
       "      <td>no</td>\n",
       "      <td>3</td>\n",
       "      <td>18</td>\n",
       "      <td>7</td>\n",
       "      <td>4</td>\n",
       "    </tr>\n",
       "    <tr>\n",
       "      <th>1</th>\n",
       "      <td>5</td>\n",
       "      <td>0</td>\n",
       "      <td>female</td>\n",
       "      <td>27.0</td>\n",
       "      <td>4.00</td>\n",
       "      <td>no</td>\n",
       "      <td>4</td>\n",
       "      <td>14</td>\n",
       "      <td>6</td>\n",
       "      <td>4</td>\n",
       "    </tr>\n",
       "    <tr>\n",
       "      <th>2</th>\n",
       "      <td>11</td>\n",
       "      <td>0</td>\n",
       "      <td>female</td>\n",
       "      <td>32.0</td>\n",
       "      <td>15.00</td>\n",
       "      <td>yes</td>\n",
       "      <td>1</td>\n",
       "      <td>12</td>\n",
       "      <td>1</td>\n",
       "      <td>4</td>\n",
       "    </tr>\n",
       "    <tr>\n",
       "      <th>3</th>\n",
       "      <td>16</td>\n",
       "      <td>0</td>\n",
       "      <td>male</td>\n",
       "      <td>57.0</td>\n",
       "      <td>15.00</td>\n",
       "      <td>yes</td>\n",
       "      <td>5</td>\n",
       "      <td>18</td>\n",
       "      <td>6</td>\n",
       "      <td>5</td>\n",
       "    </tr>\n",
       "    <tr>\n",
       "      <th>4</th>\n",
       "      <td>23</td>\n",
       "      <td>0</td>\n",
       "      <td>male</td>\n",
       "      <td>22.0</td>\n",
       "      <td>0.75</td>\n",
       "      <td>no</td>\n",
       "      <td>2</td>\n",
       "      <td>17</td>\n",
       "      <td>6</td>\n",
       "      <td>3</td>\n",
       "    </tr>\n",
       "  </tbody>\n",
       "</table>\n",
       "</div>"
      ],
      "text/plain": [
       "   ID  affairs  gender   age  yearsmarried children  religiousness  education  \\\n",
       "0   4        0    male  37.0         10.00       no              3         18   \n",
       "1   5        0  female  27.0          4.00       no              4         14   \n",
       "2  11        0  female  32.0         15.00      yes              1         12   \n",
       "3  16        0    male  57.0         15.00      yes              5         18   \n",
       "4  23        0    male  22.0          0.75       no              2         17   \n",
       "\n",
       "   occupation  rating  \n",
       "0           7       4  \n",
       "1           6       4  \n",
       "2           1       4  \n",
       "3           6       5  \n",
       "4           6       3  "
      ]
     },
     "execution_count": 3,
     "metadata": {},
     "output_type": "execute_result"
    }
   ],
   "source": [
    "data.head()"
   ]
  },
  {
   "cell_type": "code",
   "execution_count": 4,
   "metadata": {},
   "outputs": [],
   "source": [
    "data.drop(\"ID\",axis=1,inplace=True)"
   ]
  },
  {
   "cell_type": "code",
   "execution_count": 5,
   "metadata": {},
   "outputs": [
    {
     "data": {
      "image/png": "[encoded data removed]",
      "text/plain": [
       "<Figure size 432x288 with 2 Axes>"
      ]
     },
     "metadata": {},
     "output_type": "display_data"
    }
   ],
   "source": [
    "sns.heatmap(data.corr().abs().round(2),annot=True)\n",
    "plt.show()"
   ]
  },
  {
   "cell_type": "code",
   "execution_count": 6,
   "metadata": {},
   "outputs": [],
   "source": [
    "data.drop(\"age\",inplace=True,axis=1)"
   ]
  },
  {
   "cell_type": "code",
   "execution_count": 7,
   "metadata": {},
   "outputs": [
    {
     "name": "stdout",
     "output_type": "stream",
     "text": [
      "<class 'pandas.core.frame.DataFrame'>\n",
      "RangeIndex: 601 entries, 0 to 600\n",
      "Data columns (total 8 columns):\n",
      "affairs          601 non-null int64\n",
      "gender           601 non-null object\n",
      "yearsmarried     601 non-null float64\n",
      "children         601 non-null object\n",
      "religiousness    601 non-null int64\n",
      "education        601 non-null int64\n",
      "occupation       601 non-null int64\n",
      "rating           601 non-null int64\n",
      "dtypes: float64(1), int64(5), object(2)\n",
      "memory usage: 37.6+ KB\n"
     ]
    }
   ],
   "source": [
    "data.info()"
   ]
  },
  {
   "cell_type": "code",
   "execution_count": 8,
   "metadata": {},
   "outputs": [
    {
     "name": "stdout",
     "output_type": "stream",
     "text": [
      "0    75.04\n",
      "1    24.96\n",
      "Name: affairs, dtype: float64\n"
     ]
    }
   ],
   "source": [
    "print((data.affairs.value_counts()/len(data)*100).round(2))"
   ]
  },
  {
   "cell_type": "code",
   "execution_count": 9,
   "metadata": {},
   "outputs": [],
   "source": [
    "data=pd.get_dummies(data,drop_first=True)"
   ]
  },
  {
   "cell_type": "code",
   "execution_count": 10,
   "metadata": {},
   "outputs": [],
   "source": [
    "X=data.drop(\"affairs\",axis=1)\n",
    "Y=data.affairs"
   ]
  },
  {
   "cell_type": "code",
   "execution_count": 11,
   "metadata": {},
   "outputs": [],
   "source": [
    "#as we are going to use not formula but X and Y data in the logit function, \n",
    "#so we need to add the intercept to data (X) manually\n",
    "X=sm.add_constant(X)"
   ]
  },
  {
   "cell_type": "code",
   "execution_count": 12,
   "metadata": {},
   "outputs": [],
   "source": [
    "x_train, x_test, y_train,y_test=train_test_split(X,Y,test_size=0.25,random_state=42)"
   ]
  },
  {
   "cell_type": "code",
   "execution_count": 13,
   "metadata": {},
   "outputs": [
    {
     "name": "stdout",
     "output_type": "stream",
     "text": [
      "Optimization terminated successfully.\n",
      "         Current function value: 0.498292\n",
      "         Iterations 6\n"
     ]
    }
   ],
   "source": [
    "model=Logit(y_train,x_train)\n",
    "results=model.fit()"
   ]
  },
  {
   "cell_type": "code",
   "execution_count": 14,
   "metadata": {},
   "outputs": [
    {
     "data": {
      "text/html": [
       "<table class=\"simpletable\">\n",
       "<caption>Logit Regression Results</caption>\n",
       "<tr>\n",
       "  <th>Dep. Variable:</th>      <td>affairs</td>     <th>  No. Observations:  </th>  <td>   450</td>  \n",
       "</tr>\n",
       "<tr>\n",
       "  <th>Model:</th>               <td>Logit</td>      <th>  Df Residuals:      </th>  <td>   442</td>  \n",
       "</tr>\n",
       "<tr>\n",
       "  <th>Method:</th>               <td>MLE</td>       <th>  Df Model:          </th>  <td>     7</td>  \n",
       "</tr>\n",
       "<tr>\n",
       "  <th>Date:</th>          <td>Sat, 23 Mar 2019</td> <th>  Pseudo R-squ.:     </th>  <td>0.1158</td>  \n",
       "</tr>\n",
       "<tr>\n",
       "  <th>Time:</th>              <td>12:57:13</td>     <th>  Log-Likelihood:    </th> <td> -224.23</td> \n",
       "</tr>\n",
       "<tr>\n",
       "  <th>converged:</th>           <td>True</td>       <th>  LL-Null:           </th> <td> -253.60</td> \n",
       "</tr>\n",
       "<tr>\n",
       "  <th> </th>                      <td> </td>        <th>  LLR p-value:       </th> <td>2.699e-10</td>\n",
       "</tr>\n",
       "</table>\n",
       "<table class=\"simpletable\">\n",
       "<tr>\n",
       "        <td></td>           <th>coef</th>     <th>std err</th>      <th>z</th>      <th>P>|z|</th>  <th>[0.025</th>    <th>0.975]</th>  \n",
       "</tr>\n",
       "<tr>\n",
       "  <th>const</th>         <td>    1.0730</td> <td>    0.947</td> <td>    1.133</td> <td> 0.257</td> <td>   -0.783</td> <td>    2.929</td>\n",
       "</tr>\n",
       "<tr>\n",
       "  <th>yearsmarried</th>  <td>    0.0340</td> <td>    0.026</td> <td>    1.290</td> <td> 0.197</td> <td>   -0.018</td> <td>    0.086</td>\n",
       "</tr>\n",
       "<tr>\n",
       "  <th>religiousness</th> <td>   -0.3344</td> <td>    0.105</td> <td>   -3.187</td> <td> 0.001</td> <td>   -0.540</td> <td>   -0.129</td>\n",
       "</tr>\n",
       "<tr>\n",
       "  <th>education</th>     <td>   -0.0165</td> <td>    0.059</td> <td>   -0.280</td> <td> 0.779</td> <td>   -0.132</td> <td>    0.099</td>\n",
       "</tr>\n",
       "<tr>\n",
       "  <th>occupation</th>    <td>    0.1457</td> <td>    0.085</td> <td>    1.722</td> <td> 0.085</td> <td>   -0.020</td> <td>    0.312</td>\n",
       "</tr>\n",
       "<tr>\n",
       "  <th>rating</th>        <td>   -0.5691</td> <td>    0.107</td> <td>   -5.341</td> <td> 0.000</td> <td>   -0.778</td> <td>   -0.360</td>\n",
       "</tr>\n",
       "<tr>\n",
       "  <th>gender_male</th>   <td>   -0.1108</td> <td>    0.266</td> <td>   -0.416</td> <td> 0.678</td> <td>   -0.633</td> <td>    0.411</td>\n",
       "</tr>\n",
       "<tr>\n",
       "  <th>children_yes</th>  <td>    0.5312</td> <td>    0.344</td> <td>    1.546</td> <td> 0.122</td> <td>   -0.142</td> <td>    1.205</td>\n",
       "</tr>\n",
       "</table>"
      ],
      "text/plain": [
       "<class 'statsmodels.iolib.summary.Summary'>\n",
       "\"\"\"\n",
       "                           Logit Regression Results                           \n",
       "==============================================================================\n",
       "Dep. Variable:                affairs   No. Observations:                  450\n",
       "Model:                          Logit   Df Residuals:                      442\n",
       "Method:                           MLE   Df Model:                            7\n",
       "Date:                Sat, 23 Mar 2019   Pseudo R-squ.:                  0.1158\n",
       "Time:                        12:57:13   Log-Likelihood:                -224.23\n",
       "converged:                       True   LL-Null:                       -253.60\n",
       "                                        LLR p-value:                 2.699e-10\n",
       "=================================================================================\n",
       "                    coef    std err          z      P>|z|      [0.025      0.975]\n",
       "---------------------------------------------------------------------------------\n",
       "const             1.0730      0.947      1.133      0.257      -0.783       2.929\n",
       "yearsmarried      0.0340      0.026      1.290      0.197      -0.018       0.086\n",
       "religiousness    -0.3344      0.105     -3.187      0.001      -0.540      -0.129\n",
       "education        -0.0165      0.059     -0.280      0.779      -0.132       0.099\n",
       "occupation        0.1457      0.085      1.722      0.085      -0.020       0.312\n",
       "rating           -0.5691      0.107     -5.341      0.000      -0.778      -0.360\n",
       "gender_male      -0.1108      0.266     -0.416      0.678      -0.633       0.411\n",
       "children_yes      0.5312      0.344      1.546      0.122      -0.142       1.205\n",
       "=================================================================================\n",
       "\"\"\""
      ]
     },
     "execution_count": 14,
     "metadata": {},
     "output_type": "execute_result"
    }
   ],
   "source": [
    "results.summary()"
   ]
  },
  {
   "cell_type": "code",
   "execution_count": 15,
   "metadata": {},
   "outputs": [
    {
     "data": {
      "text/html": [
       "<table class=\"simpletable\">\n",
       "<caption>Logit Marginal Effects</caption>\n",
       "<tr>\n",
       "  <th>Dep. Variable:</th> <td>affairs</td>\n",
       "</tr>\n",
       "<tr>\n",
       "  <th>Method:</th>         <td>dydx</td>  \n",
       "</tr>\n",
       "<tr>\n",
       "  <th>At:</th>            <td>overall</td>\n",
       "</tr>\n",
       "</table>\n",
       "<table class=\"simpletable\">\n",
       "<tr>\n",
       "        <th></th>           <th>dy/dx</th>    <th>std err</th>      <th>z</th>      <th>P>|z|</th>  <th>[0.025</th>    <th>0.975]</th>  \n",
       "</tr>\n",
       "<tr>\n",
       "  <th>yearsmarried</th>  <td>    0.0055</td> <td>    0.004</td> <td>    1.297</td> <td> 0.195</td> <td>   -0.003</td> <td>    0.014</td>\n",
       "</tr>\n",
       "<tr>\n",
       "  <th>religiousness</th> <td>   -0.0545</td> <td>    0.017</td> <td>   -3.297</td> <td> 0.001</td> <td>   -0.087</td> <td>   -0.022</td>\n",
       "</tr>\n",
       "<tr>\n",
       "  <th>education</th>     <td>   -0.0027</td> <td>    0.010</td> <td>   -0.280</td> <td> 0.779</td> <td>   -0.022</td> <td>    0.016</td>\n",
       "</tr>\n",
       "<tr>\n",
       "  <th>occupation</th>    <td>    0.0237</td> <td>    0.014</td> <td>    1.739</td> <td> 0.082</td> <td>   -0.003</td> <td>    0.051</td>\n",
       "</tr>\n",
       "<tr>\n",
       "  <th>rating</th>        <td>   -0.0927</td> <td>    0.015</td> <td>   -6.000</td> <td> 0.000</td> <td>   -0.123</td> <td>   -0.062</td>\n",
       "</tr>\n",
       "<tr>\n",
       "  <th>gender_male</th>   <td>   -0.0181</td> <td>    0.043</td> <td>   -0.416</td> <td> 0.677</td> <td>   -0.103</td> <td>    0.067</td>\n",
       "</tr>\n",
       "<tr>\n",
       "  <th>children_yes</th>  <td>    0.0866</td> <td>    0.056</td> <td>    1.557</td> <td> 0.119</td> <td>   -0.022</td> <td>    0.196</td>\n",
       "</tr>\n",
       "</table>"
      ],
      "text/plain": [
       "<class 'statsmodels.iolib.summary.Summary'>\n",
       "\"\"\"\n",
       "        Logit Marginal Effects       \n",
       "=====================================\n",
       "Dep. Variable:                affairs\n",
       "Method:                          dydx\n",
       "At:                           overall\n",
       "=================================================================================\n",
       "                   dy/dx    std err          z      P>|z|      [0.025      0.975]\n",
       "---------------------------------------------------------------------------------\n",
       "yearsmarried      0.0055      0.004      1.297      0.195      -0.003       0.014\n",
       "religiousness    -0.0545      0.017     -3.297      0.001      -0.087      -0.022\n",
       "education        -0.0027      0.010     -0.280      0.779      -0.022       0.016\n",
       "occupation        0.0237      0.014      1.739      0.082      -0.003       0.051\n",
       "rating           -0.0927      0.015     -6.000      0.000      -0.123      -0.062\n",
       "gender_male      -0.0181      0.043     -0.416      0.677      -0.103       0.067\n",
       "children_yes      0.0866      0.056      1.557      0.119      -0.022       0.196\n",
       "=================================================================================\n",
       "\"\"\""
      ]
     },
     "execution_count": 15,
     "metadata": {},
     "output_type": "execute_result"
    }
   ],
   "source": [
    "results.get_margeff().summary()"
   ]
  },
  {
   "cell_type": "code",
   "execution_count": 16,
   "metadata": {},
   "outputs": [
    {
     "name": "stdout",
     "output_type": "stream",
     "text": [
      "110    0.077507\n",
      "419    0.081720\n",
      "565    0.089064\n",
      "77     0.164299\n",
      "181    0.119587\n",
      "dtype: float64 \n",
      " \n",
      " 531    0.278971\n",
      "353    0.071615\n",
      "332    0.255513\n",
      "534    0.438957\n",
      "244    0.220707\n",
      "dtype: float64\n"
     ]
    }
   ],
   "source": [
    "#let's get predicted probabilities of being churn\n",
    "y_pred_train=results.predict(x_train)\n",
    "y_pred_test=results.predict(x_test)\n",
    "print(y_pred_test.head(),\"\\n\",\"\\n\",y_pred_train.head())"
   ]
  },
  {
   "cell_type": "code",
   "execution_count": 17,
   "metadata": {},
   "outputs": [
    {
     "data": {
      "text/plain": [
       "array([[325.,  86.],\n",
       "       [ 12.,  27.]])"
      ]
     },
     "execution_count": 17,
     "metadata": {},
     "output_type": "execute_result"
    }
   ],
   "source": [
    "cm=results.pred_table().T\n",
    "cm"
   ]
  },
  {
   "cell_type": "code",
   "execution_count": 20,
   "metadata": {},
   "outputs": [
    {
     "name": "stdout",
     "output_type": "stream",
     "text": [
      "Accuracy: 0.5856905158069884\n",
      "Sensitivity: 0.23893805309734514\n",
      "Specificity: 0.9643916913946587\n"
     ]
    }
   ],
   "source": [
    "#let's calculate overall accuracy, recall and specificity for train data\n",
    "Accuracy_train=(cm[0,0]+cm[1,1])/len(data)\n",
    "Sensitivity_train=cm[1,1]/(cm[0,1]+cm[1,1])\n",
    "Specificity_train=cm[0,0]/(cm[0,0]+cm[1,0])\n",
    "print(\"Accuracy:\",Accuracy_train)\n",
    "print(\"Sensitivity:\",Sensitivity_train)\n",
    "print(\"Specificity:\",Specificity_train)"
   ]
  },
  {
   "cell_type": "code",
   "execution_count": 21,
   "metadata": {},
   "outputs": [
    {
     "data": {
      "text/html": [
       "<div>\n",
       "<style scoped>\n",
       "    .dataframe tbody tr th:only-of-type {\n",
       "        vertical-align: middle;\n",
       "    }\n",
       "\n",
       "    .dataframe tbody tr th {\n",
       "        vertical-align: top;\n",
       "    }\n",
       "\n",
       "    .dataframe thead th {\n",
       "        text-align: right;\n",
       "    }\n",
       "</style>\n",
       "<table border=\"1\" class=\"dataframe\">\n",
       "  <thead>\n",
       "    <tr style=\"text-align: right;\">\n",
       "      <th></th>\n",
       "      <th>prob</th>\n",
       "    </tr>\n",
       "  </thead>\n",
       "  <tbody>\n",
       "    <tr>\n",
       "      <th>110</th>\n",
       "      <td>0.077507</td>\n",
       "    </tr>\n",
       "    <tr>\n",
       "      <th>419</th>\n",
       "      <td>0.081720</td>\n",
       "    </tr>\n",
       "    <tr>\n",
       "      <th>565</th>\n",
       "      <td>0.089064</td>\n",
       "    </tr>\n",
       "    <tr>\n",
       "      <th>77</th>\n",
       "      <td>0.164299</td>\n",
       "    </tr>\n",
       "    <tr>\n",
       "      <th>181</th>\n",
       "      <td>0.119587</td>\n",
       "    </tr>\n",
       "  </tbody>\n",
       "</table>\n",
       "</div>"
      ],
      "text/plain": [
       "         prob\n",
       "110  0.077507\n",
       "419  0.081720\n",
       "565  0.089064\n",
       "77   0.164299\n",
       "181  0.119587"
      ]
     },
     "execution_count": 21,
     "metadata": {},
     "output_type": "execute_result"
    }
   ],
   "source": [
    "y_pred_test=pd.DataFrame(y_pred_test,columns=([\"prob\"]))\n",
    "y_pred_test.head()"
   ]
  },
  {
   "cell_type": "code",
   "execution_count": 22,
   "metadata": {},
   "outputs": [
    {
     "data": {
      "text/html": [
       "<div>\n",
       "<style scoped>\n",
       "    .dataframe tbody tr th:only-of-type {\n",
       "        vertical-align: middle;\n",
       "    }\n",
       "\n",
       "    .dataframe tbody tr th {\n",
       "        vertical-align: top;\n",
       "    }\n",
       "\n",
       "    .dataframe thead th {\n",
       "        text-align: right;\n",
       "    }\n",
       "</style>\n",
       "<table border=\"1\" class=\"dataframe\">\n",
       "  <thead>\n",
       "    <tr style=\"text-align: right;\">\n",
       "      <th></th>\n",
       "      <th>prob</th>\n",
       "      <th>Y_Predicted</th>\n",
       "      <th>Y_True</th>\n",
       "    </tr>\n",
       "  </thead>\n",
       "  <tbody>\n",
       "    <tr>\n",
       "      <th>110</th>\n",
       "      <td>0.077507</td>\n",
       "      <td>0</td>\n",
       "      <td>0</td>\n",
       "    </tr>\n",
       "    <tr>\n",
       "      <th>419</th>\n",
       "      <td>0.081720</td>\n",
       "      <td>0</td>\n",
       "      <td>0</td>\n",
       "    </tr>\n",
       "    <tr>\n",
       "      <th>565</th>\n",
       "      <td>0.089064</td>\n",
       "      <td>0</td>\n",
       "      <td>1</td>\n",
       "    </tr>\n",
       "    <tr>\n",
       "      <th>77</th>\n",
       "      <td>0.164299</td>\n",
       "      <td>0</td>\n",
       "      <td>0</td>\n",
       "    </tr>\n",
       "    <tr>\n",
       "      <th>181</th>\n",
       "      <td>0.119587</td>\n",
       "      <td>0</td>\n",
       "      <td>0</td>\n",
       "    </tr>\n",
       "  </tbody>\n",
       "</table>\n",
       "</div>"
      ],
      "text/plain": [
       "         prob Y_Predicted  Y_True\n",
       "110  0.077507           0       0\n",
       "419  0.081720           0       0\n",
       "565  0.089064           0       1\n",
       "77   0.164299           0       0\n",
       "181  0.119587           0       0"
      ]
     },
     "execution_count": 22,
     "metadata": {},
     "output_type": "execute_result"
    }
   ],
   "source": [
    "y_pred_test['Y_Predicted'] = np.where(y_pred_test['prob']>=0.5, '1', '0')\n",
    "y_pred_test[\"Y_True\"] = y_test\n",
    "y_pred_test.head()"
   ]
  },
  {
   "cell_type": "code",
   "execution_count": 23,
   "metadata": {},
   "outputs": [
    {
     "data": {
      "text/html": [
       "<div>\n",
       "<style scoped>\n",
       "    .dataframe tbody tr th:only-of-type {\n",
       "        vertical-align: middle;\n",
       "    }\n",
       "\n",
       "    .dataframe tbody tr th {\n",
       "        vertical-align: top;\n",
       "    }\n",
       "\n",
       "    .dataframe thead th {\n",
       "        text-align: right;\n",
       "    }\n",
       "</style>\n",
       "<table border=\"1\" class=\"dataframe\">\n",
       "  <thead>\n",
       "    <tr style=\"text-align: right;\">\n",
       "      <th>Y_True</th>\n",
       "      <th>0</th>\n",
       "      <th>1</th>\n",
       "    </tr>\n",
       "    <tr>\n",
       "      <th>Y_Predicted</th>\n",
       "      <th></th>\n",
       "      <th></th>\n",
       "    </tr>\n",
       "  </thead>\n",
       "  <tbody>\n",
       "    <tr>\n",
       "      <th>0</th>\n",
       "      <td>104</td>\n",
       "      <td>29</td>\n",
       "    </tr>\n",
       "    <tr>\n",
       "      <th>1</th>\n",
       "      <td>10</td>\n",
       "      <td>8</td>\n",
       "    </tr>\n",
       "  </tbody>\n",
       "</table>\n",
       "</div>"
      ],
      "text/plain": [
       "Y_True         0   1\n",
       "Y_Predicted         \n",
       "0            104  29\n",
       "1             10   8"
      ]
     },
     "execution_count": 23,
     "metadata": {},
     "output_type": "execute_result"
    }
   ],
   "source": [
    "cm_test=pd.crosstab(y_pred_test.Y_Predicted,y_pred_test.Y_True)\n",
    "cm_test"
   ]
  },
  {
   "cell_type": "code",
   "execution_count": 24,
   "metadata": {},
   "outputs": [
    {
     "name": "stdout",
     "output_type": "stream",
     "text": [
      "Accuracy Test: 0.7417218543046358\n",
      "Sensitivity Test: 0.21621621621621623\n",
      "Specificity Test: 0.9122807017543859\n"
     ]
    }
   ],
   "source": [
    "#now let's calculate overall accuracy, recall and specificity for test data\n",
    "Accuracy_test=(104+8)/len(y_test)\n",
    "Sensitivity_test=8/(29+8)\n",
    "Specificity_test=104/(104+10)\n",
    "print(\"Accuracy Test:\",Accuracy_test)\n",
    "print(\"Sensitivity Test:\",Sensitivity_test)\n",
    "print(\"Specificity Test:\",Specificity_test)"
   ]
  },
  {
   "cell_type": "code",
   "execution_count": 25,
   "metadata": {},
   "outputs": [
    {
     "name": "stdout",
     "output_type": "stream",
     "text": [
      "[0.         0.00877193 0.02631579 0.02631579 0.03508772] [0.         0.         0.         0.05405405 0.05405405 0.08108108\n",
      " 0.08108108 0.10810811 0.10810811 0.18918919] [1.75659962 0.75659962 0.70789777 0.63865835 0.62992823 0.62538161\n",
      " 0.61480881 0.61248352 0.59537142 0.54146555]\n"
     ]
    }
   ],
   "source": [
    "#let's calculate true positive rate (recall) and false positive rate (1-specificity) for test data using roc_curve function\n",
    "false_positive_rate, true_positive_rate, thresholds = roc_curve(y_test, y_pred_test.prob)\n",
    "\n",
    "#let's print the first 10 values for different tresholds\n",
    "print(false_positive_rate[0:5],true_positive_rate[0:10],thresholds[0:10])"
   ]
  },
  {
   "cell_type": "code",
   "execution_count": 26,
   "metadata": {},
   "outputs": [
    {
     "data": {
      "image/png": "[encoded data removed]",
      "text/plain": [
       "<Figure size 432x288 with 1 Axes>"
      ]
     },
     "metadata": {},
     "output_type": "display_data"
    }
   ],
   "source": [
    "plt.plot(false_positive_rate,true_positive_rate)\n",
    "plt.plot([0,1],[0,1])\n",
    "plt.xlabel(\"FPR\")\n",
    "plt.ylabel(\"TPR\")\n",
    "plt.show()"
   ]
  },
  {
   "cell_type": "code",
   "execution_count": 27,
   "metadata": {},
   "outputs": [
    {
     "name": "stdout",
     "output_type": "stream",
     "text": [
      "roc_auc: 0.6036036036036037\n"
     ]
    }
   ],
   "source": [
    "print(\"roc_auc:\",roc_auc_score(y_test,y_pred_test.prob))"
   ]
  }
 ],
 "metadata": {
  "kernelspec": {
   "display_name": "Python 3",
   "language": "python",
   "name": "python3"
  },
  "language_info": {
   "codemirror_mode": {
    "name": "ipython",
    "version": 3
   },
   "file_extension": ".py",
   "mimetype": "text/x-python",
   "name": "python",
   "nbconvert_exporter": "python",
   "pygments_lexer": "ipython3",
   "version": "3.6.5"
  }
 },
 "nbformat": 4,
 "nbformat_minor": 2
}
