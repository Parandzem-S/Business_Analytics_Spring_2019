{
 "cells": [
  {
   "cell_type": "markdown",
   "metadata": {},
   "source": [
    "<h1> Session 1. Intro to Python: the basics (part 1)</h1>"
   ]
  },
  {
   "cell_type": "markdown",
   "metadata": {},
   "source": [
    "<h2>Using as Calculator</h2>"
   ]
  },
  {
   "cell_type": "code",
   "execution_count": 1,
   "metadata": {
    "scrolled": true
   },
   "outputs": [],
   "source": [
    "print(27+4)\n",
    "print(27/3)\n",
    "print(9*3)"
   ]
  },
  {
   "cell_type": "markdown",
   "metadata": {},
   "source": [
    "<h2> Variables </h2>"
   ]
  },
  {
   "cell_type": "markdown",
   "metadata": {},
   "source": [
    "<h3>Creating variables</h3>\n",
    "\n",
    "- Unlike other programming languages, Python has no command for declaring a variable.\n",
    "- A variable is created the moment you first assign a value to it, and Python figures out the variable types on its own. \n",
    "- Assignment in Python uses \"=\" sign, and for equality \"==\" sign is used"
   ]
  },
  {
   "cell_type": "code",
   "execution_count": 2,
   "metadata": {},
   "outputs": [],
   "source": [
    "x=15\n",
    "p=\"name\"\n",
    "k=[\"c\",\"1\",\"25\"]"
   ]
  },
  {
   "cell_type": "markdown",
   "metadata": {},
   "source": [
    "- <b>Start comments with \" # \"</b> (after putting \"#\" the rest of line is ignored) "
   ]
  },
  {
   "cell_type": "code",
   "execution_count": 3,
   "metadata": {},
   "outputs": [
    {
     "name": "stdout",
     "output_type": "stream",
     "text": [
      "15\n",
      "name\n",
      "['c', '1', '25']\n"
     ]
    }
   ],
   "source": [
    "#The basic printing operator is: print()\n",
    "#let's print the values of variables that we created\n",
    "print(x)\n",
    "print(p)\n",
    "print(k)"
   ]
  },
  {
   "cell_type": "markdown",
   "metadata": {},
   "source": [
    "<h3> Naming Variables </h3>\n",
    "\n",
    "- Names of variables are case sensitive (\"case\", \"Case\", \"CASE\" are 3 different variables).\n",
    "-  A variable name should start with a letter or the underscore, it cannot start with a number (e.g. \"_case\", \"case\" are valid names but \"1case\" is NOT a valid name).\n",
    "-  In Python there are some reserved words and it would be better to try not to use these words as variable names: <b>var,and, assert, break, class, continue, def, del, elif, else, except, exec, finally, for, from, global, if, import, in, is, lambda, not, or, pass, print, raise, return, try, while, etc.</b>"
   ]
  },
  {
   "cell_type": "markdown",
   "metadata": {},
   "source": [
    "<h3>Variable Types</h3>"
   ]
  },
  {
   "cell_type": "code",
   "execution_count": 4,
   "metadata": {},
   "outputs": [
    {
     "name": "stdout",
     "output_type": "stream",
     "text": [
      "Type of x: <class 'int'>\n",
      "Type of p: <class 'str'>\n",
      "Type of k: <class 'list'>\n"
     ]
    }
   ],
   "source": [
    "#type() function is used to find out the type of a variable\n",
    "print(\"Type of x:\",type(x))\n",
    "print(\"Type of p:\",type(p))\n",
    "print(\"Type of k:\",type(k))"
   ]
  },
  {
   "cell_type": "markdown",
   "metadata": {},
   "source": [
    "<b>Variable types: </b>\n",
    "When programming, the type of a variable is important as for each specific data type there are operations which you can and cannot do. In the above example, the variable x is of type int which meeans integer and variable p is a str which means string.\n",
    "\n",
    "Basic types:\n",
    "- <b>Numbers</b>: integer (int), float, complex\n",
    "- <b>Strings</b>: a string (str) in Python is a sequence of characters.Python strings are immutable, meaning that we are not allowed to change individual parts of them.\n",
    "- <b>Lists</b>: a list is a finite sequence of items. Lists are ordered and changeable and it allows duplicate members (items). Lists are not required to be homogeneous, i.e., the items could be of different types.\n",
    "- <b>Tuple</b>: a tuple is a finite sequence of items which is ordered and <b>unchangeable</b>. Allows duplicate members.\n",
    "- <b>Dictionaries</b>: is a finite sequence of items. It is unordered, changeable and indexed. No duplicate members are allowed."
   ]
  },
  {
   "cell_type": "markdown",
   "metadata": {},
   "source": [
    "To specify data types manually <b> float(), int() and str()</b> functions should be used. "
   ]
  },
  {
   "cell_type": "markdown",
   "metadata": {},
   "source": [
    "<h4>Numbers</h4>"
   ]
  },
  {
   "cell_type": "code",
   "execution_count": 5,
   "metadata": {},
   "outputs": [
    {
     "name": "stdout",
     "output_type": "stream",
     "text": [
      "<class 'int'>\n",
      "<class 'float'>\n",
      "<class 'float'>\n",
      "<class 'complex'>\n"
     ]
    }
   ],
   "source": [
    "x = 27  # integers (int) is a whole number, positive or negative, without decimals, of unlimited length. \n",
    "y =4.0  # float or \"floating point number\" is a number, positive or negative, containing one or more decimals.\n",
    "y2=35e4 #float can also be scientific numbers with an \"e\" to indicate the power of 10.\n",
    "z = 4j  # complex numbers are written with a \"j\" (√−1)\n",
    "print(type(x))\n",
    "print(type(y))\n",
    "print(type(y2))\n",
    "print(type(z))"
   ]
  },
  {
   "cell_type": "markdown",
   "metadata": {},
   "source": [
    "For numbers you can use the following operators\n",
    "- \"+\" \n",
    "- \"-\" \n",
    "- \"*\" \n",
    "- \"/\" \n",
    "- \"%\" \n",
    "\n",
    "For other operators and how to use them, see: https://www.w3schools.com/python/python_operators.asp"
   ]
  },
  {
   "cell_type": "code",
   "execution_count": 6,
   "metadata": {},
   "outputs": [
    {
     "name": "stdout",
     "output_type": "stream",
     "text": [
      "31.0\n"
     ]
    }
   ],
   "source": [
    "print(x+y)"
   ]
  },
  {
   "cell_type": "code",
   "execution_count": 7,
   "metadata": {},
   "outputs": [
    {
     "name": "stdout",
     "output_type": "stream",
     "text": [
      "6.75\n"
     ]
    }
   ],
   "source": [
    "print(x/y)"
   ]
  },
  {
   "cell_type": "markdown",
   "metadata": {},
   "source": [
    "<h4> Strings</h4>"
   ]
  },
  {
   "cell_type": "code",
   "execution_count": 8,
   "metadata": {},
   "outputs": [
    {
     "name": "stdout",
     "output_type": "stream",
     "text": [
      "r\n",
      "m\n",
      "P\n"
     ]
    }
   ],
   "source": [
    "name=\"Parandzem\"\n",
    "print(name[2]) #if you want to print the 3rd letter of your name, you should give an index 2 and not 3 \n",
    "               #as in Python the numbering starts from 0\n",
    "print(name[-1]) #print last letter of your name\n",
    "print(name[0]) #print first letter of your name"
   ]
  },
  {
   "cell_type": "code",
   "execution_count": 9,
   "metadata": {},
   "outputs": [
    {
     "name": "stdout",
     "output_type": "stream",
     "text": [
      "parandzem\n",
      "PARANDZEM\n"
     ]
    }
   ],
   "source": [
    "#print the string in lower case\n",
    "print(name.lower())\n",
    "#print the string in upper case\n",
    "print(name.upper())"
   ]
  },
  {
   "cell_type": "code",
   "execution_count": 10,
   "metadata": {},
   "outputs": [
    {
     "name": "stdout",
     "output_type": "stream",
     "text": [
      "6\n",
      "<class 'str'>\n"
     ]
    }
   ],
   "source": [
    "#making number as text\n",
    "l=str(6)\n",
    "print(l)\n",
    "print(type(l))"
   ]
  },
  {
   "cell_type": "code",
   "execution_count": 11,
   "metadata": {},
   "outputs": [
    {
     "name": "stdout",
     "output_type": "stream",
     "text": [
      "6Parandzem\n"
     ]
    }
   ],
   "source": [
    "#we can \"+\" operation to combine strings\n",
    "#l is string and name is string\n",
    "print(l+name)"
   ]
  },
  {
   "cell_type": "code",
   "execution_count": 12,
   "metadata": {},
   "outputs": [
    {
     "ename": "TypeError",
     "evalue": "unsupported operand type(s) for +: 'int' and 'str'",
     "output_type": "error",
     "traceback": [
      "\u001b[1;31m---------------------------------------------------------------------------\u001b[0m",
      "\u001b[1;31mTypeError\u001b[0m                                 Traceback (most recent call last)",
      "\u001b[1;32m<ipython-input-12-b676b9dd4836>\u001b[0m in \u001b[0;36m<module>\u001b[1;34m()\u001b[0m\n\u001b[0;32m      1\u001b[0m \u001b[1;31m#however if you try to add number to string, you'll get an error\u001b[0m\u001b[1;33m\u001b[0m\u001b[1;33m\u001b[0m\u001b[0m\n\u001b[1;32m----> 2\u001b[1;33m \u001b[0mprint\u001b[0m\u001b[1;33m(\u001b[0m\u001b[1;36m6\u001b[0m\u001b[1;33m+\u001b[0m\u001b[0mname\u001b[0m\u001b[1;33m)\u001b[0m\u001b[1;33m\u001b[0m\u001b[0m\n\u001b[0m",
      "\u001b[1;31mTypeError\u001b[0m: unsupported operand type(s) for +: 'int' and 'str'"
     ]
    }
   ],
   "source": [
    "#however if you try to add number to string, you'll get an error\n",
    "print(6+name)"
   ]
  },
  {
   "cell_type": "code",
   "execution_count": 13,
   "metadata": {},
   "outputs": [
    {
     "name": "stdout",
     "output_type": "stream",
     "text": [
      "ParandzemParandzemParandzemParandzemParandzemParandzem\n",
      "Parandzem Parandzem Parandzem Parandzem Parandzem Parandzem \n"
     ]
    }
   ],
   "source": [
    "#you can use (integer * string) to print string several types\n",
    "print(6*name)\n",
    "#to put space repeating names\n",
    "print(6*(name + \" \"))"
   ]
  },
  {
   "cell_type": "code",
   "execution_count": 14,
   "metadata": {},
   "outputs": [
    {
     "name": "stdout",
     "output_type": "stream",
     "text": [
      "27 is my favourite number\n"
     ]
    }
   ],
   "source": [
    "print(x,\"is my favourite number\")"
   ]
  },
  {
   "cell_type": "code",
   "execution_count": 16,
   "metadata": {
    "scrolled": true
   },
   "outputs": [
    {
     "name": "stdout",
     "output_type": "stream",
     "text": [
      "Enter your favourite number:\n",
      "27\n",
      "27 is my favourite number.\n"
     ]
    }
   ],
   "source": [
    "# we can use Python for command line input. That means we are able to ask the user for input.\n",
    "print(\"Enter your favourite number:\")\n",
    "number = input()\n",
    "print(number+ \" \" + \"is my favourite number.\" )"
   ]
  },
  {
   "cell_type": "markdown",
   "metadata": {},
   "source": [
    "<h4> Lists </h4>"
   ]
  },
  {
   "cell_type": "markdown",
   "metadata": {},
   "source": [
    "You can find more basic operations with lists on https://www.w3schools.com/python/python_lists.asp."
   ]
  },
  {
   "cell_type": "code",
   "execution_count": 17,
   "metadata": {},
   "outputs": [
    {
     "name": "stdout",
     "output_type": "stream",
     "text": [
      "['book', 'pen', 'phone']\n",
      "a\n",
      "['book']\n",
      "['book', 'pen']\n"
     ]
    }
   ],
   "source": [
    "#creating lists\n",
    "mylist=[\"book\", \"pen\", \"phone\"]\n",
    "mylist2=[1,2,\"a\"]\n",
    "print(mylist) #printing all members\n",
    "print(mylist2[2]) #printing the 3rd member of the list\n",
    "print(mylist[0:1]) #printing the first member\n",
    "print(mylist[0:2]) #printing the first two members"
   ]
  },
  {
   "cell_type": "code",
   "execution_count": 18,
   "metadata": {},
   "outputs": [
    {
     "name": "stdout",
     "output_type": "stream",
     "text": [
      "['book', 'pen', 'phone', 'computer']\n"
     ]
    }
   ],
   "source": [
    "#add new memeber\n",
    "mylist.append(\"computer\")\n",
    "print(mylist)"
   ]
  },
  {
   "cell_type": "code",
   "execution_count": 19,
   "metadata": {},
   "outputs": [
    {
     "name": "stdout",
     "output_type": "stream",
     "text": [
      "['book', 'pen', 'phone', 'paper']\n"
     ]
    }
   ],
   "source": [
    "#another way to add\n",
    "mylist[-1]=\"paper\"\n",
    "print(mylist)"
   ]
  },
  {
   "cell_type": "code",
   "execution_count": 20,
   "metadata": {},
   "outputs": [
    {
     "name": "stdout",
     "output_type": "stream",
     "text": [
      "4\n",
      "3\n"
     ]
    }
   ],
   "source": [
    "#checking the length of list (how many items there) using len() function\n",
    "print(len(mylist))\n",
    "print(len(mylist2))"
   ]
  },
  {
   "cell_type": "markdown",
   "metadata": {},
   "source": [
    "<h3> Tuples</h3>"
   ]
  },
  {
   "cell_type": "code",
   "execution_count": 21,
   "metadata": {},
   "outputs": [
    {
     "name": "stdout",
     "output_type": "stream",
     "text": [
      "('1', '2', 'book')\n"
     ]
    }
   ],
   "source": [
    "#creating an tuple\n",
    "mytuple=(\"1\",\"2\", \"book\")\n",
    "print(mytuple)"
   ]
  },
  {
   "cell_type": "code",
   "execution_count": 22,
   "metadata": {},
   "outputs": [
    {
     "ename": "TypeError",
     "evalue": "'tuple' object does not support item assignment",
     "output_type": "error",
     "traceback": [
      "\u001b[1;31m---------------------------------------------------------------------------\u001b[0m",
      "\u001b[1;31mTypeError\u001b[0m                                 Traceback (most recent call last)",
      "\u001b[1;32m<ipython-input-22-cfcf9c574e15>\u001b[0m in \u001b[0;36m<module>\u001b[1;34m()\u001b[0m\n\u001b[0;32m      1\u001b[0m \u001b[1;31m#let's see what will happen if we add new item to the created tuple\u001b[0m\u001b[1;33m\u001b[0m\u001b[1;33m\u001b[0m\u001b[0m\n\u001b[1;32m----> 2\u001b[1;33m \u001b[0mmytuple\u001b[0m\u001b[1;33m[\u001b[0m\u001b[1;36m1\u001b[0m\u001b[1;33m]\u001b[0m\u001b[1;33m=\u001b[0m\u001b[1;34m\"6\"\u001b[0m\u001b[1;33m\u001b[0m\u001b[0m\n\u001b[0m\u001b[0;32m      3\u001b[0m \u001b[0mprint\u001b[0m\u001b[1;33m(\u001b[0m\u001b[0mmytuple\u001b[0m\u001b[1;33m)\u001b[0m\u001b[1;33m\u001b[0m\u001b[0m\n\u001b[0;32m      4\u001b[0m \u001b[1;31m#we are getting error as tuples are unchangeable unlike lists\u001b[0m\u001b[1;33m\u001b[0m\u001b[1;33m\u001b[0m\u001b[0m\n",
      "\u001b[1;31mTypeError\u001b[0m: 'tuple' object does not support item assignment"
     ]
    }
   ],
   "source": [
    "#let's see what will happen if we add new item to the created tuple\n",
    "mytuple[1]=\"6\"\n",
    "print(mytuple)\n",
    "#we are getting error as tuples are unchangeable unlike lists"
   ]
  },
  {
   "cell_type": "markdown",
   "metadata": {},
   "source": [
    "<h3> Dictionaries </h3>"
   ]
  },
  {
   "cell_type": "markdown",
   "metadata": {},
   "source": [
    "- In Python dictionaries are written with <b>{}</b>, and they have <b>keys</b> and <b>values</b>"
   ]
  },
  {
   "cell_type": "code",
   "execution_count": 23,
   "metadata": {},
   "outputs": [
    {
     "name": "stdout",
     "output_type": "stream",
     "text": [
      "MSFT\n"
     ]
    }
   ],
   "source": [
    "#creating dictionary: the first value is \"key\" and the second one is \"value\"\n",
    "stocks ={\"Apple\": \"APPL\", \"Alphabet Inc.\": \"GOOG\", \"Microsoft\": \"MSFT\"}\n",
    "print(stocks[\"Microsoft\"])"
   ]
  },
  {
   "cell_type": "code",
   "execution_count": 24,
   "metadata": {},
   "outputs": [
    {
     "name": "stdout",
     "output_type": "stream",
     "text": [
      "Parandzem\n",
      "Sargsyan\n"
     ]
    }
   ],
   "source": [
    "my_dict={\"name\":\"Parandzem\",\"surname\":\"Sargsyan\"}\n",
    "print(my_dict[\"name\"]) #printing the value of name\n",
    "print(my_dict[\"surname\"])"
   ]
  },
  {
   "cell_type": "code",
   "execution_count": 25,
   "metadata": {},
   "outputs": [
    {
     "name": "stdout",
     "output_type": "stream",
     "text": [
      "{'name': 'Simon', 'surname': 'Sargsyan'}\n"
     ]
    }
   ],
   "source": [
    "#if you want to change the value of a key\n",
    "my_dict[\"name\"]=\"Simon\"\n",
    "print(my_dict)"
   ]
  },
  {
   "cell_type": "markdown",
   "metadata": {},
   "source": [
    "<h2> For, While, If </h2>"
   ]
  },
  {
   "cell_type": "code",
   "execution_count": 36,
   "metadata": {},
   "outputs": [
    {
     "name": "stdout",
     "output_type": "stream",
     "text": [
      "APPL\n",
      "GOOG\n",
      "MSFT\n"
     ]
    }
   ],
   "source": [
    "#using for loop we can execute a set of statements, once for each item in a dictionary, list, tuple etc.\n",
    "#using for loop to print each value of each key in dictionary\n",
    "for i in stocks:\n",
    "    print(stocks[i])"
   ]
  },
  {
   "cell_type": "code",
   "execution_count": 30,
   "metadata": {},
   "outputs": [
    {
     "name": "stdout",
     "output_type": "stream",
     "text": [
      "APPL\n",
      "GOOG\n",
      "MSFT\n"
     ]
    }
   ],
   "source": [
    "#using values() function \n",
    "for i in stocks.values():\n",
    "    print(i)"
   ]
  },
  {
   "cell_type": "code",
   "execution_count": 31,
   "metadata": {},
   "outputs": [
    {
     "name": "stdout",
     "output_type": "stream",
     "text": [
      "Apple : APPL\n",
      "Alphabet Inc. : GOOG\n",
      "Microsoft : MSFT\n"
     ]
    }
   ],
   "source": [
    "#printing keys and values together\n",
    "for i, j in stocks.items():\n",
    "    print(i, \":\", j)"
   ]
  },
  {
   "cell_type": "code",
   "execution_count": 32,
   "metadata": {},
   "outputs": [
    {
     "name": "stdout",
     "output_type": "stream",
     "text": [
      "book\n",
      "pen\n",
      "phone\n",
      "paper\n"
     ]
    }
   ],
   "source": [
    "#let's use range() function and for loop to print 4 first items of mylist created above\n",
    "for i in range(4):\n",
    "    print(mylist[i])"
   ]
  },
  {
   "cell_type": "code",
   "execution_count": 33,
   "metadata": {},
   "outputs": [
    {
     "name": "stdout",
     "output_type": "stream",
     "text": [
      "It is higher than 7\n"
     ]
    }
   ],
   "source": [
    "x = 10\n",
    "if x==7:\n",
    "    print(\"It is 7\")\n",
    "elif x>7:\n",
    "    print(\"It is higher than 7\")\n",
    "else:\n",
    "    print(\"It is less than 7\")"
   ]
  },
  {
   "cell_type": "code",
   "execution_count": 34,
   "metadata": {},
   "outputs": [
    {
     "name": "stdout",
     "output_type": "stream",
     "text": [
      "0\n",
      "1\n",
      "2\n",
      "3\n"
     ]
    }
   ],
   "source": [
    "# using while loop we can execute a set of statements as long as a condition is true\n",
    "i = 0\n",
    "while i < 6:\n",
    "  print(i)\n",
    "  if i == 3:\n",
    "    break\n",
    "  i += 1"
   ]
  }
 ],
 "metadata": {
  "kernelspec": {
   "display_name": "Python 3",
   "language": "python",
   "name": "python3"
  },
  "language_info": {
   "codemirror_mode": {
    "name": "ipython",
    "version": 3
   },
   "file_extension": ".py",
   "mimetype": "text/x-python",
   "name": "python",
   "nbconvert_exporter": "python",
   "pygments_lexer": "ipython3",
   "version": "3.6.5"
  }
 },
 "nbformat": 4,
 "nbformat_minor": 2
}
