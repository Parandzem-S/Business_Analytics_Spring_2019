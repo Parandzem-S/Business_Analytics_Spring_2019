{
 "cells": [
  {
   "cell_type": "markdown",
   "metadata": {},
   "source": [
    "# Logistic Regression using Statsmodel"
   ]
  },
  {
   "cell_type": "markdown",
   "metadata": {},
   "source": [
    "This notebook provides an example code of predicting whether an employee will churn or not given the explanatory variables. \n",
    "\n",
    "Dependent variable - <b>Churn (1-yes, 0-no)</b> \n",
    "\n",
    "The general sequence of steps that we will follow is the following:\n",
    "\n",
    "- Describing the data (checking for NAs, 0 variance,summary statistics of our variables, etc)\n",
    "- Checking for correlations between numeric variables\n",
    "- Creating dummy variables from categorical variables\n",
    "- Logistic Regression from statsmodel and interpretation of marginal effects\n",
    "- Predicting probabilities\n",
    "- Getting confusion matrix\n",
    "- Calculating Sensitivity (recall), specificity, overall accuracy\n",
    "- Visualising the difference between logistic regression and linear regression"
   ]
  },
  {
   "cell_type": "code",
   "execution_count": 1,
   "metadata": {},
   "outputs": [],
   "source": [
    "import numpy as np\n",
    "import pandas as pd\n",
    "import matplotlib.pyplot as plt\n",
    "import seaborn as sns\n",
    "from statsmodels.discrete.discrete_model import Logit"
   ]
  },
  {
   "cell_type": "code",
   "execution_count": 2,
   "metadata": {},
   "outputs": [],
   "source": [
    "#read data\n",
    "data=pd.read_csv(\"Turnover.csv\")"
   ]
  },
  {
   "cell_type": "code",
   "execution_count": 3,
   "metadata": {},
   "outputs": [
    {
     "data": {
      "text/html": [
       "<div>\n",
       "<style scoped>\n",
       "    .dataframe tbody tr th:only-of-type {\n",
       "        vertical-align: middle;\n",
       "    }\n",
       "\n",
       "    .dataframe tbody tr th {\n",
       "        vertical-align: top;\n",
       "    }\n",
       "\n",
       "    .dataframe thead th {\n",
       "        text-align: right;\n",
       "    }\n",
       "</style>\n",
       "<table border=\"1\" class=\"dataframe\">\n",
       "  <thead>\n",
       "    <tr style=\"text-align: right;\">\n",
       "      <th></th>\n",
       "      <th>satisfaction_level</th>\n",
       "      <th>last_evaluation</th>\n",
       "      <th>number_project</th>\n",
       "      <th>average_montly_hours</th>\n",
       "      <th>time_spend_company</th>\n",
       "      <th>work_accident</th>\n",
       "      <th>churn</th>\n",
       "      <th>promotion_last_5years</th>\n",
       "      <th>department</th>\n",
       "      <th>salary</th>\n",
       "    </tr>\n",
       "  </thead>\n",
       "  <tbody>\n",
       "    <tr>\n",
       "      <th>0</th>\n",
       "      <td>0.38</td>\n",
       "      <td>0.53</td>\n",
       "      <td>2</td>\n",
       "      <td>157</td>\n",
       "      <td>3</td>\n",
       "      <td>0</td>\n",
       "      <td>1</td>\n",
       "      <td>0</td>\n",
       "      <td>sales</td>\n",
       "      <td>low</td>\n",
       "    </tr>\n",
       "    <tr>\n",
       "      <th>1</th>\n",
       "      <td>0.80</td>\n",
       "      <td>0.86</td>\n",
       "      <td>5</td>\n",
       "      <td>262</td>\n",
       "      <td>6</td>\n",
       "      <td>0</td>\n",
       "      <td>1</td>\n",
       "      <td>0</td>\n",
       "      <td>sales</td>\n",
       "      <td>medium</td>\n",
       "    </tr>\n",
       "    <tr>\n",
       "      <th>2</th>\n",
       "      <td>0.11</td>\n",
       "      <td>0.88</td>\n",
       "      <td>7</td>\n",
       "      <td>272</td>\n",
       "      <td>4</td>\n",
       "      <td>0</td>\n",
       "      <td>1</td>\n",
       "      <td>0</td>\n",
       "      <td>sales</td>\n",
       "      <td>medium</td>\n",
       "    </tr>\n",
       "    <tr>\n",
       "      <th>3</th>\n",
       "      <td>0.72</td>\n",
       "      <td>0.87</td>\n",
       "      <td>5</td>\n",
       "      <td>223</td>\n",
       "      <td>5</td>\n",
       "      <td>0</td>\n",
       "      <td>1</td>\n",
       "      <td>0</td>\n",
       "      <td>sales</td>\n",
       "      <td>low</td>\n",
       "    </tr>\n",
       "    <tr>\n",
       "      <th>4</th>\n",
       "      <td>0.37</td>\n",
       "      <td>0.52</td>\n",
       "      <td>2</td>\n",
       "      <td>159</td>\n",
       "      <td>3</td>\n",
       "      <td>0</td>\n",
       "      <td>1</td>\n",
       "      <td>0</td>\n",
       "      <td>sales</td>\n",
       "      <td>low</td>\n",
       "    </tr>\n",
       "  </tbody>\n",
       "</table>\n",
       "</div>"
      ],
      "text/plain": [
       "   satisfaction_level  last_evaluation  number_project  average_montly_hours  \\\n",
       "0                0.38             0.53               2                   157   \n",
       "1                0.80             0.86               5                   262   \n",
       "2                0.11             0.88               7                   272   \n",
       "3                0.72             0.87               5                   223   \n",
       "4                0.37             0.52               2                   159   \n",
       "\n",
       "   time_spend_company  work_accident  churn  promotion_last_5years department  \\\n",
       "0                   3              0      1                      0      sales   \n",
       "1                   6              0      1                      0      sales   \n",
       "2                   4              0      1                      0      sales   \n",
       "3                   5              0      1                      0      sales   \n",
       "4                   3              0      1                      0      sales   \n",
       "\n",
       "   salary  \n",
       "0     low  \n",
       "1  medium  \n",
       "2  medium  \n",
       "3     low  \n",
       "4     low  "
      ]
     },
     "execution_count": 3,
     "metadata": {},
     "output_type": "execute_result"
    }
   ],
   "source": [
    "data.head()"
   ]
  },
  {
   "cell_type": "code",
   "execution_count": 4,
   "metadata": {},
   "outputs": [
    {
     "data": {
      "image/png": "[encoded data removed]",
      "text/plain": [
       "<Figure size 432x288 with 2 Axes>"
      ]
     },
     "metadata": {},
     "output_type": "display_data"
    }
   ],
   "source": [
    "sns.heatmap(data.corr().abs().round(2),annot=True)\n",
    "plt.show()"
   ]
  },
  {
   "cell_type": "markdown",
   "metadata": {},
   "source": [
    "There are no highly correlated variables."
   ]
  },
  {
   "cell_type": "code",
   "execution_count": 5,
   "metadata": {},
   "outputs": [
    {
     "name": "stdout",
     "output_type": "stream",
     "text": [
      "satisfaction_level       0\n",
      "last_evaluation          0\n",
      "number_project           0\n",
      "average_montly_hours     0\n",
      "time_spend_company       0\n",
      "work_accident            0\n",
      "churn                    0\n",
      "promotion_last_5years    0\n",
      "department               0\n",
      "salary                   0\n",
      "dtype: int64\n"
     ]
    }
   ],
   "source": [
    "print(data.isnull().sum())"
   ]
  },
  {
   "cell_type": "markdown",
   "metadata": {},
   "source": [
    "No missing values."
   ]
  },
  {
   "cell_type": "code",
   "execution_count": 6,
   "metadata": {
    "scrolled": true
   },
   "outputs": [
    {
     "name": "stdout",
     "output_type": "stream",
     "text": [
      "satisfaction_level       False\n",
      "last_evaluation          False\n",
      "number_project           False\n",
      "average_montly_hours     False\n",
      "time_spend_company       False\n",
      "work_accident            False\n",
      "churn                    False\n",
      "promotion_last_5years    False\n",
      "dtype: bool\n"
     ]
    }
   ],
   "source": [
    "print(data.var()==0)"
   ]
  },
  {
   "cell_type": "markdown",
   "metadata": {},
   "source": [
    "No variable with 0 variance."
   ]
  },
  {
   "cell_type": "code",
   "execution_count": 7,
   "metadata": {
    "scrolled": false
   },
   "outputs": [
    {
     "name": "stdout",
     "output_type": "stream",
     "text": [
      "sales          4140\n",
      "technical      2720\n",
      "support        2229\n",
      "IT             1227\n",
      "product_mng     902\n",
      "marketing       858\n",
      "RandD           787\n",
      "accounting      767\n",
      "hr              739\n",
      "management      630\n",
      "Name: department, dtype: int64\n",
      "\n",
      " ****************************\n",
      "low       7316\n",
      "medium    6446\n",
      "high      1237\n",
      "Name: salary, dtype: int64\n",
      "\n",
      " ****************************\n"
     ]
    }
   ],
   "source": [
    "for i in data.select_dtypes(include=\"object\").columns:\n",
    "    print(data[i].value_counts())\n",
    "    print(\"\\n\",\"****************************\")"
   ]
  },
  {
   "cell_type": "markdown",
   "metadata": {},
   "source": [
    "No categorical variable with only one category."
   ]
  },
  {
   "cell_type": "code",
   "execution_count": 8,
   "metadata": {},
   "outputs": [],
   "source": [
    "#Let's create dummy variables from categorical variables\n",
    "data=pd.get_dummies(data,drop_first=True)"
   ]
  },
  {
   "cell_type": "code",
   "execution_count": 9,
   "metadata": {},
   "outputs": [
    {
     "name": "stdout",
     "output_type": "stream",
     "text": [
      "<class 'pandas.core.frame.DataFrame'>\n",
      "RangeIndex: 14999 entries, 0 to 14998\n",
      "Data columns (total 19 columns):\n",
      "satisfaction_level        14999 non-null float64\n",
      "last_evaluation           14999 non-null float64\n",
      "number_project            14999 non-null int64\n",
      "average_montly_hours      14999 non-null int64\n",
      "time_spend_company        14999 non-null int64\n",
      "work_accident             14999 non-null int64\n",
      "churn                     14999 non-null int64\n",
      "promotion_last_5years     14999 non-null int64\n",
      "department_RandD          14999 non-null uint8\n",
      "department_accounting     14999 non-null uint8\n",
      "department_hr             14999 non-null uint8\n",
      "department_management     14999 non-null uint8\n",
      "department_marketing      14999 non-null uint8\n",
      "department_product_mng    14999 non-null uint8\n",
      "department_sales          14999 non-null uint8\n",
      "department_support        14999 non-null uint8\n",
      "department_technical      14999 non-null uint8\n",
      "salary_low                14999 non-null uint8\n",
      "salary_medium             14999 non-null uint8\n",
      "dtypes: float64(2), int64(6), uint8(11)\n",
      "memory usage: 1.1 MB\n"
     ]
    }
   ],
   "source": [
    "data.info()"
   ]
  },
  {
   "cell_type": "code",
   "execution_count": 10,
   "metadata": {},
   "outputs": [
    {
     "name": "stdout",
     "output_type": "stream",
     "text": [
      "0    76.19\n",
      "1    23.81\n",
      "Name: churn, dtype: float64\n"
     ]
    }
   ],
   "source": [
    "#let's see percenatage of employees who didn't churn,\n",
    "#and percenatage of employees who churned\n",
    "print((data.churn.value_counts()/len(data)*100).round(2))"
   ]
  },
  {
   "cell_type": "markdown",
   "metadata": {},
   "source": [
    "<b>76% of employees haven't churned. This means that without any model we will probably clasify a new record (a new employee) as 0 with 76% accuracy, but we want to do better than this very naive classification.</b>"
   ]
  },
  {
   "cell_type": "code",
   "execution_count": 11,
   "metadata": {},
   "outputs": [],
   "source": [
    "X=data.drop(\"churn\",axis=1)\n",
    "Y=data.churn"
   ]
  },
  {
   "cell_type": "code",
   "execution_count": 12,
   "metadata": {},
   "outputs": [
    {
     "name": "stdout",
     "output_type": "stream",
     "text": [
      "Optimization terminated successfully.\n",
      "         Current function value: 0.428358\n",
      "         Iterations 7\n"
     ]
    }
   ],
   "source": [
    "model=Logit.from_formula(formula=\"churn~\"+\"+\".join(X.columns),data=data)\n",
    "results=model.fit()"
   ]
  },
  {
   "cell_type": "code",
   "execution_count": 13,
   "metadata": {},
   "outputs": [
    {
     "data": {
      "text/html": [
       "<table class=\"simpletable\">\n",
       "<caption>Logit Regression Results</caption>\n",
       "<tr>\n",
       "  <th>Dep. Variable:</th>       <td>churn</td>      <th>  No. Observations:  </th>  <td> 14999</td> \n",
       "</tr>\n",
       "<tr>\n",
       "  <th>Model:</th>               <td>Logit</td>      <th>  Df Residuals:      </th>  <td> 14980</td> \n",
       "</tr>\n",
       "<tr>\n",
       "  <th>Method:</th>               <td>MLE</td>       <th>  Df Model:          </th>  <td>    18</td> \n",
       "</tr>\n",
       "<tr>\n",
       "  <th>Date:</th>          <td>Sat, 16 Mar 2019</td> <th>  Pseudo R-squ.:     </th>  <td>0.2195</td> \n",
       "</tr>\n",
       "<tr>\n",
       "  <th>Time:</th>              <td>17:54:20</td>     <th>  Log-Likelihood:    </th> <td> -6424.9</td>\n",
       "</tr>\n",
       "<tr>\n",
       "  <th>converged:</th>           <td>True</td>       <th>  LL-Null:           </th> <td> -8232.3</td>\n",
       "</tr>\n",
       "<tr>\n",
       "  <th> </th>                      <td> </td>        <th>  LLR p-value:       </th>  <td> 0.000</td> \n",
       "</tr>\n",
       "</table>\n",
       "<table class=\"simpletable\">\n",
       "<tr>\n",
       "             <td></td>               <th>coef</th>     <th>std err</th>      <th>z</th>      <th>P>|z|</th>  <th>[0.025</th>    <th>0.975]</th>  \n",
       "</tr>\n",
       "<tr>\n",
       "  <th>Intercept</th>              <td>   -1.6570</td> <td>    0.189</td> <td>   -8.784</td> <td> 0.000</td> <td>   -2.027</td> <td>   -1.287</td>\n",
       "</tr>\n",
       "<tr>\n",
       "  <th>satisfaction_level</th>     <td>   -4.1357</td> <td>    0.098</td> <td>  -42.177</td> <td> 0.000</td> <td>   -4.328</td> <td>   -3.944</td>\n",
       "</tr>\n",
       "<tr>\n",
       "  <th>last_evaluation</th>        <td>    0.7309</td> <td>    0.149</td> <td>    4.899</td> <td> 0.000</td> <td>    0.439</td> <td>    1.023</td>\n",
       "</tr>\n",
       "<tr>\n",
       "  <th>number_project</th>         <td>   -0.3151</td> <td>    0.021</td> <td>  -14.775</td> <td> 0.000</td> <td>   -0.357</td> <td>   -0.273</td>\n",
       "</tr>\n",
       "<tr>\n",
       "  <th>average_montly_hours</th>   <td>    0.0045</td> <td>    0.001</td> <td>    8.643</td> <td> 0.000</td> <td>    0.003</td> <td>    0.005</td>\n",
       "</tr>\n",
       "<tr>\n",
       "  <th>time_spend_company</th>     <td>    0.2678</td> <td>    0.016</td> <td>   17.192</td> <td> 0.000</td> <td>    0.237</td> <td>    0.298</td>\n",
       "</tr>\n",
       "<tr>\n",
       "  <th>work_accident</th>          <td>   -1.5298</td> <td>    0.090</td> <td>  -17.083</td> <td> 0.000</td> <td>   -1.705</td> <td>   -1.354</td>\n",
       "</tr>\n",
       "<tr>\n",
       "  <th>promotion_last_5years</th>  <td>   -1.4301</td> <td>    0.258</td> <td>   -5.552</td> <td> 0.000</td> <td>   -1.935</td> <td>   -0.925</td>\n",
       "</tr>\n",
       "<tr>\n",
       "  <th>department_RandD</th>       <td>   -0.4016</td> <td>    0.136</td> <td>   -2.962</td> <td> 0.003</td> <td>   -0.667</td> <td>   -0.136</td>\n",
       "</tr>\n",
       "<tr>\n",
       "  <th>department_accounting</th>  <td>    0.1807</td> <td>    0.122</td> <td>    1.480</td> <td> 0.139</td> <td>   -0.059</td> <td>    0.420</td>\n",
       "</tr>\n",
       "<tr>\n",
       "  <th>department_hr</th>          <td>    0.4131</td> <td>    0.121</td> <td>    3.415</td> <td> 0.001</td> <td>    0.176</td> <td>    0.650</td>\n",
       "</tr>\n",
       "<tr>\n",
       "  <th>department_management</th>  <td>   -0.2677</td> <td>    0.152</td> <td>   -1.765</td> <td> 0.078</td> <td>   -0.565</td> <td>    0.030</td>\n",
       "</tr>\n",
       "<tr>\n",
       "  <th>department_marketing</th>   <td>    0.1686</td> <td>    0.122</td> <td>    1.386</td> <td> 0.166</td> <td>   -0.070</td> <td>    0.407</td>\n",
       "</tr>\n",
       "<tr>\n",
       "  <th>department_product_mng</th> <td>    0.0275</td> <td>    0.120</td> <td>    0.230</td> <td> 0.818</td> <td>   -0.207</td> <td>    0.262</td>\n",
       "</tr>\n",
       "<tr>\n",
       "  <th>department_sales</th>       <td>    0.1419</td> <td>    0.089</td> <td>    1.601</td> <td> 0.109</td> <td>   -0.032</td> <td>    0.316</td>\n",
       "</tr>\n",
       "<tr>\n",
       "  <th>department_support</th>     <td>    0.2307</td> <td>    0.097</td> <td>    2.391</td> <td> 0.017</td> <td>    0.042</td> <td>    0.420</td>\n",
       "</tr>\n",
       "<tr>\n",
       "  <th>department_technical</th>   <td>    0.2509</td> <td>    0.093</td> <td>    2.685</td> <td> 0.007</td> <td>    0.068</td> <td>    0.434</td>\n",
       "</tr>\n",
       "<tr>\n",
       "  <th>salary_low</th>             <td>    1.9441</td> <td>    0.129</td> <td>   15.111</td> <td> 0.000</td> <td>    1.692</td> <td>    2.196</td>\n",
       "</tr>\n",
       "<tr>\n",
       "  <th>salary_medium</th>          <td>    1.4132</td> <td>    0.129</td> <td>   10.924</td> <td> 0.000</td> <td>    1.160</td> <td>    1.667</td>\n",
       "</tr>\n",
       "</table>"
      ],
      "text/plain": [
       "<class 'statsmodels.iolib.summary.Summary'>\n",
       "\"\"\"\n",
       "                           Logit Regression Results                           \n",
       "==============================================================================\n",
       "Dep. Variable:                  churn   No. Observations:                14999\n",
       "Model:                          Logit   Df Residuals:                    14980\n",
       "Method:                           MLE   Df Model:                           18\n",
       "Date:                Sat, 16 Mar 2019   Pseudo R-squ.:                  0.2195\n",
       "Time:                        17:54:20   Log-Likelihood:                -6424.9\n",
       "converged:                       True   LL-Null:                       -8232.3\n",
       "                                        LLR p-value:                     0.000\n",
       "==========================================================================================\n",
       "                             coef    std err          z      P>|z|      [0.025      0.975]\n",
       "------------------------------------------------------------------------------------------\n",
       "Intercept                 -1.6570      0.189     -8.784      0.000      -2.027      -1.287\n",
       "satisfaction_level        -4.1357      0.098    -42.177      0.000      -4.328      -3.944\n",
       "last_evaluation            0.7309      0.149      4.899      0.000       0.439       1.023\n",
       "number_project            -0.3151      0.021    -14.775      0.000      -0.357      -0.273\n",
       "average_montly_hours       0.0045      0.001      8.643      0.000       0.003       0.005\n",
       "time_spend_company         0.2678      0.016     17.192      0.000       0.237       0.298\n",
       "work_accident             -1.5298      0.090    -17.083      0.000      -1.705      -1.354\n",
       "promotion_last_5years     -1.4301      0.258     -5.552      0.000      -1.935      -0.925\n",
       "department_RandD          -0.4016      0.136     -2.962      0.003      -0.667      -0.136\n",
       "department_accounting      0.1807      0.122      1.480      0.139      -0.059       0.420\n",
       "department_hr              0.4131      0.121      3.415      0.001       0.176       0.650\n",
       "department_management     -0.2677      0.152     -1.765      0.078      -0.565       0.030\n",
       "department_marketing       0.1686      0.122      1.386      0.166      -0.070       0.407\n",
       "department_product_mng     0.0275      0.120      0.230      0.818      -0.207       0.262\n",
       "department_sales           0.1419      0.089      1.601      0.109      -0.032       0.316\n",
       "department_support         0.2307      0.097      2.391      0.017       0.042       0.420\n",
       "department_technical       0.2509      0.093      2.685      0.007       0.068       0.434\n",
       "salary_low                 1.9441      0.129     15.111      0.000       1.692       2.196\n",
       "salary_medium              1.4132      0.129     10.924      0.000       1.160       1.667\n",
       "==========================================================================================\n",
       "\"\"\""
      ]
     },
     "execution_count": 13,
     "metadata": {},
     "output_type": "execute_result"
    }
   ],
   "source": [
    "results.summary()"
   ]
  },
  {
   "cell_type": "markdown",
   "metadata": {},
   "source": [
    "- <b> For a one-unit increase in satisfaction_level we expect on average a -4.1357 decrease in the log-odds of the dependent variable churn, holding all other independent variables constant.</b>\n",
    "- <b> For employees with low salaries, we expect on average a 1.9441 increase in the log-odds of the dependent variable churn compared to the employees with high salaries.</b>"
   ]
  },
  {
   "cell_type": "markdown",
   "metadata": {},
   "source": [
    "As we want to interpret probabilites, let's get marginal effects."
   ]
  },
  {
   "cell_type": "code",
   "execution_count": 14,
   "metadata": {},
   "outputs": [
    {
     "data": {
      "text/html": [
       "<table class=\"simpletable\">\n",
       "<caption>Logit Marginal Effects</caption>\n",
       "<tr>\n",
       "  <th>Dep. Variable:</th>  <td>churn</td> \n",
       "</tr>\n",
       "<tr>\n",
       "  <th>Method:</th>         <td>dydx</td>  \n",
       "</tr>\n",
       "<tr>\n",
       "  <th>At:</th>            <td>overall</td>\n",
       "</tr>\n",
       "</table>\n",
       "<table class=\"simpletable\">\n",
       "<tr>\n",
       "             <th></th>               <th>dy/dx</th>    <th>std err</th>      <th>z</th>      <th>P>|z|</th>  <th>[0.025</th>    <th>0.975]</th>  \n",
       "</tr>\n",
       "<tr>\n",
       "  <th>satisfaction_level</th>     <td>   -0.5700</td> <td>    0.010</td> <td>  -54.709</td> <td> 0.000</td> <td>   -0.590</td> <td>   -0.550</td>\n",
       "</tr>\n",
       "<tr>\n",
       "  <th>last_evaluation</th>        <td>    0.1007</td> <td>    0.021</td> <td>    4.911</td> <td> 0.000</td> <td>    0.061</td> <td>    0.141</td>\n",
       "</tr>\n",
       "<tr>\n",
       "  <th>number_project</th>         <td>   -0.0434</td> <td>    0.003</td> <td>  -15.071</td> <td> 0.000</td> <td>   -0.049</td> <td>   -0.038</td>\n",
       "</tr>\n",
       "<tr>\n",
       "  <th>average_montly_hours</th>   <td>    0.0006</td> <td> 7.05e-05</td> <td>    8.716</td> <td> 0.000</td> <td>    0.000</td> <td>    0.001</td>\n",
       "</tr>\n",
       "<tr>\n",
       "  <th>time_spend_company</th>     <td>    0.0369</td> <td>    0.002</td> <td>   17.744</td> <td> 0.000</td> <td>    0.033</td> <td>    0.041</td>\n",
       "</tr>\n",
       "<tr>\n",
       "  <th>work_accident</th>          <td>   -0.2108</td> <td>    0.012</td> <td>  -17.541</td> <td> 0.000</td> <td>   -0.234</td> <td>   -0.187</td>\n",
       "</tr>\n",
       "<tr>\n",
       "  <th>promotion_last_5years</th>  <td>   -0.1971</td> <td>    0.035</td> <td>   -5.566</td> <td> 0.000</td> <td>   -0.267</td> <td>   -0.128</td>\n",
       "</tr>\n",
       "<tr>\n",
       "  <th>department_RandD</th>       <td>   -0.0554</td> <td>    0.019</td> <td>   -2.965</td> <td> 0.003</td> <td>   -0.092</td> <td>   -0.019</td>\n",
       "</tr>\n",
       "<tr>\n",
       "  <th>department_accounting</th>  <td>    0.0249</td> <td>    0.017</td> <td>    1.480</td> <td> 0.139</td> <td>   -0.008</td> <td>    0.058</td>\n",
       "</tr>\n",
       "<tr>\n",
       "  <th>department_hr</th>          <td>    0.0569</td> <td>    0.017</td> <td>    3.419</td> <td> 0.001</td> <td>    0.024</td> <td>    0.090</td>\n",
       "</tr>\n",
       "<tr>\n",
       "  <th>department_management</th>  <td>   -0.0369</td> <td>    0.021</td> <td>   -1.765</td> <td> 0.078</td> <td>   -0.078</td> <td>    0.004</td>\n",
       "</tr>\n",
       "<tr>\n",
       "  <th>department_marketing</th>   <td>    0.0232</td> <td>    0.017</td> <td>    1.386</td> <td> 0.166</td> <td>   -0.010</td> <td>    0.056</td>\n",
       "</tr>\n",
       "<tr>\n",
       "  <th>department_product_mng</th> <td>    0.0038</td> <td>    0.016</td> <td>    0.230</td> <td> 0.818</td> <td>   -0.029</td> <td>    0.036</td>\n",
       "</tr>\n",
       "<tr>\n",
       "  <th>department_sales</th>       <td>    0.0196</td> <td>    0.012</td> <td>    1.601</td> <td> 0.109</td> <td>   -0.004</td> <td>    0.044</td>\n",
       "</tr>\n",
       "<tr>\n",
       "  <th>department_support</th>     <td>    0.0318</td> <td>    0.013</td> <td>    2.392</td> <td> 0.017</td> <td>    0.006</td> <td>    0.058</td>\n",
       "</tr>\n",
       "<tr>\n",
       "  <th>department_technical</th>   <td>    0.0346</td> <td>    0.013</td> <td>    2.687</td> <td> 0.007</td> <td>    0.009</td> <td>    0.060</td>\n",
       "</tr>\n",
       "<tr>\n",
       "  <th>salary_low</th>             <td>    0.2679</td> <td>    0.017</td> <td>   15.426</td> <td> 0.000</td> <td>    0.234</td> <td>    0.302</td>\n",
       "</tr>\n",
       "<tr>\n",
       "  <th>salary_medium</th>          <td>    0.1948</td> <td>    0.018</td> <td>   11.030</td> <td> 0.000</td> <td>    0.160</td> <td>    0.229</td>\n",
       "</tr>\n",
       "</table>"
      ],
      "text/plain": [
       "<class 'statsmodels.iolib.summary.Summary'>\n",
       "\"\"\"\n",
       "        Logit Marginal Effects       \n",
       "=====================================\n",
       "Dep. Variable:                  churn\n",
       "Method:                          dydx\n",
       "At:                           overall\n",
       "==========================================================================================\n",
       "                            dy/dx    std err          z      P>|z|      [0.025      0.975]\n",
       "------------------------------------------------------------------------------------------\n",
       "satisfaction_level        -0.5700      0.010    -54.709      0.000      -0.590      -0.550\n",
       "last_evaluation            0.1007      0.021      4.911      0.000       0.061       0.141\n",
       "number_project            -0.0434      0.003    -15.071      0.000      -0.049      -0.038\n",
       "average_montly_hours       0.0006   7.05e-05      8.716      0.000       0.000       0.001\n",
       "time_spend_company         0.0369      0.002     17.744      0.000       0.033       0.041\n",
       "work_accident             -0.2108      0.012    -17.541      0.000      -0.234      -0.187\n",
       "promotion_last_5years     -0.1971      0.035     -5.566      0.000      -0.267      -0.128\n",
       "department_RandD          -0.0554      0.019     -2.965      0.003      -0.092      -0.019\n",
       "department_accounting      0.0249      0.017      1.480      0.139      -0.008       0.058\n",
       "department_hr              0.0569      0.017      3.419      0.001       0.024       0.090\n",
       "department_management     -0.0369      0.021     -1.765      0.078      -0.078       0.004\n",
       "department_marketing       0.0232      0.017      1.386      0.166      -0.010       0.056\n",
       "department_product_mng     0.0038      0.016      0.230      0.818      -0.029       0.036\n",
       "department_sales           0.0196      0.012      1.601      0.109      -0.004       0.044\n",
       "department_support         0.0318      0.013      2.392      0.017       0.006       0.058\n",
       "department_technical       0.0346      0.013      2.687      0.007       0.009       0.060\n",
       "salary_low                 0.2679      0.017     15.426      0.000       0.234       0.302\n",
       "salary_medium              0.1948      0.018     11.030      0.000       0.160       0.229\n",
       "==========================================================================================\n",
       "\"\"\""
      ]
     },
     "execution_count": 14,
     "metadata": {},
     "output_type": "execute_result"
    }
   ],
   "source": [
    "results.get_margeff().summary()"
   ]
  },
  {
   "cell_type": "markdown",
   "metadata": {},
   "source": [
    "- <b> An Incremental increase in satisfaction level will decrease the probability of churn on average by 57% when other factors are held constant.</b>\n",
    "- <b>Employees with low salary have on average 26.8% higher probability of churn compared to employees with high salaries.</b>"
   ]
  },
  {
   "cell_type": "code",
   "execution_count": 15,
   "metadata": {},
   "outputs": [
    {
     "data": {
      "text/plain": [
       "0    0.529510\n",
       "1    0.170499\n",
       "2    0.541178\n",
       "3    0.239614\n",
       "4    0.540200\n",
       "dtype: float64"
      ]
     },
     "execution_count": 15,
     "metadata": {},
     "output_type": "execute_result"
    }
   ],
   "source": [
    "#let's get predicted probabilities of being churn\n",
    "y_pred=results.predict(X)\n",
    "y_pred.head()"
   ]
  },
  {
   "cell_type": "markdown",
   "metadata": {},
   "source": [
    "<b>The output shows that the first employee has 52.95% probability of churn, the second employee's probability of churn is 17%, and the fifth employee's probability of churn is 54%. If we chose treshold equal to 50%, then the 1st, 3rd and 5th employee will be classified as 1 (churn), on the other hand 2nd and 4th employee will be classified as 0 (don't churn). </b>"
   ]
  },
  {
   "cell_type": "markdown",
   "metadata": {},
   "source": [
    "To calculate overall accuracy, recall and specificity we need to construct confusion matrix (CM). Let's use <code>pred_table()</code> function from statsmodel to get CM."
   ]
  },
  {
   "cell_type": "code",
   "execution_count": 16,
   "metadata": {},
   "outputs": [
    {
     "data": {
      "text/plain": [
       "array([[10614.,  2301.],\n",
       "       [  814.,  1270.]])"
      ]
     },
     "execution_count": 16,
     "metadata": {},
     "output_type": "execute_result"
    }
   ],
   "source": [
    "#default treshold is 0.5 \n",
    "results.pred_table().T"
   ]
  },
  {
   "cell_type": "code",
   "execution_count": 17,
   "metadata": {},
   "outputs": [
    {
     "data": {
      "text/plain": [
       "array([[11150.,  3138.],\n",
       "       [  278.,   433.]])"
      ]
     },
     "execution_count": 17,
     "metadata": {},
     "output_type": "execute_result"
    }
   ],
   "source": [
    "#let's change treshold from 0.5 to 0.7\n",
    "results.pred_table(0.7).T"
   ]
  },
  {
   "cell_type": "markdown",
   "metadata": {},
   "source": [
    "It can be seen that after changing treshold, we predicted more 0 (11161) and less 1 (1270)."
   ]
  },
  {
   "cell_type": "code",
   "execution_count": 18,
   "metadata": {},
   "outputs": [
    {
     "name": "stdout",
     "output_type": "stream",
     "text": [
      "Accuracy: 0.7923194879658644\n",
      "Sensitivity: 0.3556426771212545\n",
      "Specificity: 0.9287714385719286\n"
     ]
    }
   ],
   "source": [
    "#let's calculate overall accuracy, recall and specificity\n",
    "Accuracy=(10614+1270)/len(data)\n",
    "Sensitivity=1270/(2301+1270)\n",
    "Specificity=10614/(10614+814)\n",
    "print(\"Accuracy:\",Accuracy)\n",
    "print(\"Sensitivity:\",Sensitivity)\n",
    "print(\"Specificity:\",Specificity)"
   ]
  },
  {
   "cell_type": "markdown",
   "metadata": {},
   "source": [
    "# Let's graphically observe the difference between linear regression and logit models."
   ]
  },
  {
   "cell_type": "code",
   "execution_count": 20,
   "metadata": {},
   "outputs": [
    {
     "data": {
      "image/png": "[encoded data removed]",
      "text/plain": [
       "<Figure size 576x504 with 1 Axes>"
      ]
     },
     "metadata": {},
     "output_type": "display_data"
    }
   ],
   "source": [
    "#Linear line fit\n",
    "plt.figure(figsize=(8,7))\n",
    "sns.regplot(data.satisfaction_level,data.churn)\n",
    "plt.show()"
   ]
  },
  {
   "cell_type": "code",
   "execution_count": 19,
   "metadata": {},
   "outputs": [
    {
     "data": {
      "image/png": "[encoded data removed]",
      "text/plain": [
       "<Figure size 576x504 with 1 Axes>"
      ]
     },
     "metadata": {},
     "output_type": "display_data"
    }
   ],
   "source": [
    "#fitting logit function\n",
    "plt.figure(figsize=(8,7))\n",
    "sns.regplot(data.satisfaction_level,data.churn,logistic=True)\n",
    "plt.show()"
   ]
  },
  {
   "cell_type": "markdown",
   "metadata": {},
   "source": [
    "From the graphs, we observe that when we use linear line we get negative probabilities, while in case of using logit fit (sigmoid function) we get probabilities in [0,1] range. This is one of the reasons, why we cannot use linear regression when dependent variables is binary. "
   ]
  }
 ],
 "metadata": {
  "kernelspec": {
   "display_name": "Python 3",
   "language": "python",
   "name": "python3"
  },
  "language_info": {
   "codemirror_mode": {
    "name": "ipython",
    "version": 3
   },
   "file_extension": ".py",
   "mimetype": "text/x-python",
   "name": "python",
   "nbconvert_exporter": "python",
   "pygments_lexer": "ipython3",
   "version": "3.6.5"
  }
 },
 "nbformat": 4,
 "nbformat_minor": 2
}
